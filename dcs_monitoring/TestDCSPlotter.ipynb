{
 "cells": [
  {
   "cell_type": "markdown",
   "metadata": {},
   "source": [
    "# Testing DCSPresenter class\n",
    "\n",
    "First, we load the required libraries"
   ]
  },
  {
   "cell_type": "code",
   "execution_count": 1,
   "metadata": {},
   "outputs": [],
   "source": [
    ".include /home/utente/DAQSNDBuild/software/external/json/single_include/nlohmann/"
   ]
  },
  {
   "cell_type": "code",
   "execution_count": 2,
   "metadata": {},
   "outputs": [],
   "source": [
    ".L /home/utente/DAQSNDBuild/software/lib-host/monitoring/coldbox_parser.cpp "
   ]
  },
  {
   "cell_type": "code",
   "execution_count": 3,
   "metadata": {},
   "outputs": [],
   "source": [
    ".L /home/utente/DAQSNDBuild/software/lib-host/monitoring/dcs_presenter.cpp"
   ]
  },
  {
   "cell_type": "markdown",
   "metadata": {},
   "source": [
    "Then, we initialize the plotter"
   ]
  },
  {
   "cell_type": "code",
   "execution_count": 4,
   "metadata": {},
   "outputs": [],
   "source": [
    "DCSPresenter myplotter;"
   ]
  },
  {
   "cell_type": "code",
   "execution_count": 5,
   "metadata": {},
   "outputs": [],
   "source": [
    "myplotter.NextMonitoringFile(\"/home/utente/cernbox/Synched/SNDOnline/DCS/monitoringexample.json\");"
   ]
  },
  {
   "cell_type": "code",
   "execution_count": 6,
   "metadata": {},
   "outputs": [
    {
     "name": "stderr",
     "output_type": "stream",
     "text": [
      "Error in <TSystem::TSystem>: only one instance of TSystem allowed\n"
     ]
    }
   ],
   "source": [
    "myplotter.FillGraphs();\n",
    "TUnixSystem sys;\n",
    "sys.Sleep(2000);\n",
    "myplotter.FillGraphs();\n",
    "sys.Sleep(2000);\n",
    "myplotter.FillGraphs();\n",
    "sys.Sleep(2000);\n",
    "myplotter.FillGraphs();\n",
    "sys.Sleep(2000);\n",
    "myplotter.FillGraphs();"
   ]
  },
  {
   "cell_type": "code",
   "execution_count": 7,
   "metadata": {},
   "outputs": [],
   "source": [
    "myplotter.SaveGraphs(\"/home/utente/testdcsplotter\");"
   ]
  },
  {
   "cell_type": "code",
   "execution_count": null,
   "metadata": {},
   "outputs": [],
   "source": []
  }
 ],
 "metadata": {
  "kernelspec": {
   "display_name": "ROOT C++",
   "language": "c++",
   "name": "root"
  },
  "language_info": {
   "codemirror_mode": "text/x-c++src",
   "file_extension": ".C",
   "mimetype": " text/x-c++src",
   "name": "c++"
  }
 },
 "nbformat": 4,
 "nbformat_minor": 4
}
