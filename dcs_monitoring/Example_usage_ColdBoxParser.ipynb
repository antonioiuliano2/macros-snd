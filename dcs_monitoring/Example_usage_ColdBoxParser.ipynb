{
 "cells": [
  {
   "cell_type": "markdown",
   "metadata": {},
   "source": [
    "# ColdBoxParser demonstrator\n",
    "ColdBoxParser is the interface for JSON strings provided from the Survey Monitoring System (SMS) of the ColdBox. \n",
    "It is written in C++, with the nlohmann::json library.\n",
    "\n",
    "## Current status\n",
    "Currently, it can only read monitoring and alarm messages from the SMS of the ColdBox.\n",
    "As soon as I know what information needs in input, I will modify it to prepare JSON instructions towards the SMS."
   ]
  },
  {
   "cell_type": "code",
   "execution_count": 1,
   "metadata": {},
   "outputs": [],
   "source": [
    ".include /home/utente/DAQSNDBuild/software/external/json/single_include/nlohmann/"
   ]
  },
  {
   "cell_type": "code",
   "execution_count": 2,
   "metadata": {},
   "outputs": [],
   "source": [
    ".L /home/utente/DAQSNDBuild/software/lib-host/monitoring/coldbox_parser.cpp"
   ]
  },
  {
   "cell_type": "code",
   "execution_count": 3,
   "metadata": {},
   "outputs": [],
   "source": [
    "using json = nlohmann::json;"
   ]
  },
  {
   "cell_type": "code",
   "execution_count": 4,
   "metadata": {},
   "outputs": [
    {
     "name": "stdout",
     "output_type": "stream",
     "text": [
      "(ColdBoxParser &) @0x7f6d5d88b018\n"
     ]
    }
   ],
   "source": [
    "ColdBoxParser example"
   ]
  },
  {
   "cell_type": "code",
   "execution_count": 5,
   "metadata": {},
   "outputs": [],
   "source": [
    "//update member string of parser, option false for \n",
    "example.UpdateStatusFromFile(\"/home/utente/cernbox/Synched/SNDOnline/DCS/monitoringexample.json\", false);\n",
    "//example.UpdateParametersFromFile(\"/home/utente/cernbox/Synched/SNDOnline/DCS/parameterexample.json\"); "
   ]
  },
  {
   "cell_type": "code",
   "execution_count": 6,
   "metadata": {},
   "outputs": [
    {
     "name": "stdout",
     "output_type": "stream",
     "text": [
      "(double) 20.306000\n"
     ]
    }
   ],
   "source": [
    "example.GetTemperature (2) //from 1 to 5"
   ]
  },
  {
   "cell_type": "code",
   "execution_count": 7,
   "metadata": {},
   "outputs": [
    {
     "name": "stdout",
     "output_type": "stream",
     "text": [
      "(double) 40.232000\n"
     ]
    }
   ],
   "source": [
    "example.GetHumidity (2) //from 1 to 5"
   ]
  },
  {
   "cell_type": "code",
   "execution_count": 8,
   "metadata": {},
   "outputs": [
    {
     "name": "stdout",
     "output_type": "stream",
     "text": [
      "(bool) false\n"
     ]
    }
   ],
   "source": [
    "example.IsSmokingTriggered(3) //from 1 to 3"
   ]
  },
  {
   "cell_type": "code",
   "execution_count": 9,
   "metadata": {},
   "outputs": [
    {
     "name": "stdout",
     "output_type": "stream",
     "text": [
      "(bool) true\n"
     ]
    }
   ],
   "source": [
    "example.IsCoolingOn()"
   ]
  },
  {
   "cell_type": "code",
   "execution_count": 10,
   "metadata": {},
   "outputs": [
    {
     "name": "stdout",
     "output_type": "stream",
     "text": [
      "(std::string) \"monitoring\"\n"
     ]
    }
   ],
   "source": [
    "example.GetAlertLevel()"
   ]
  },
  {
   "cell_type": "code",
   "execution_count": 11,
   "metadata": {},
   "outputs": [
    {
     "name": "stdout",
     "output_type": "stream",
     "text": [
      "(std::basic_string<char, std::char_traits<char>, std::allocator<char> >) \"{\n",
      "   \"cooling\": {\n",
      "      \"status\": 1\n",
      "   },\n",
      "   \"environment\": {\n",
      "      \"t_rh-1\": {\n",
      "         \"rh\": 47.285,\n",
      "         \"t\": 17.667\n",
      "      },\n",
      "      \"t_rh-2\": {\n",
      "         \"rh\": 40.232,\n",
      "         \"t\": 20.306\n",
      "      },\n",
      "      \"t_rh-3\": {\n",
      "         \"rh\": 42.937,\n",
      "         \"t\": 19.283\n",
      "      },\n",
      "      \"t_rh-4\": {\n",
      "         \"rh\": 49.873,\n",
      "         \"t\": 16.904\n",
      "      },\n",
      "      \"t_rh-5\": {\n",
      "         \"rh\": 53.837,\n",
      "         \"t\": 15.6\n",
      "      }\n",
      "   },\n",
      "   \"smoke\": {\n",
      "      \"smk-1\": {\n",
      "         \"triggered\": 0\n",
      "      },\n",
      "      \"smk-2\": {\n",
      "         \"triggered\": 0\n",
      "      },\n",
      "      \"smk-3\": {\n",
      "         \"triggered\": 0\n",
      "      }\n",
      "   }\n",
      "}\"\n"
     ]
    }
   ],
   "source": [
    "example.GetStatus().dump(3)"
   ]
  },
  {
   "cell_type": "markdown",
   "metadata": {},
   "source": [
    "## Output messages\n",
    "\n",
    "How do we prepare a json to send messages? First, we need to know which parameters we can set:"
   ]
  },
  {
   "cell_type": "code",
   "execution_count": 12,
   "metadata": {},
   "outputs": [
    {
     "name": "stdout",
     "output_type": "stream",
     "text": [
      "Printing list of parameters\n",
      "0\talarm_min_n_t_rh\n",
      "1\talarm_min_n_smk\n",
      "2\talarm_t_thr_max\n",
      "3\talarm_rh_thr_max\n",
      "4\talarm_t_thr_min\n",
      "5\talarm_rh_thr_min\n",
      "6\tmonitor_update_time\n",
      "7\talarm_update_time\n",
      "8\tcooling_grace_time\n",
      "Use SetParameter(ipar,value) to set these parameters\n",
      "Use ExcludeTemperatureSensor(isensor) and ExcludeSmokingSensor(isensor) to exclude a sensor\n"
     ]
    }
   ],
   "source": [
    "example.PrintParList()"
   ]
  },
  {
   "cell_type": "markdown",
   "metadata": {},
   "source": [
    "Then, we can set their values, for example setting maximum temperature and minimum number of sensors over threshold to trigger alarm. JSON does not differentiate between int and double"
   ]
  },
  {
   "cell_type": "code",
   "execution_count": 13,
   "metadata": {},
   "outputs": [],
   "source": [
    "\n",
    "example.SetParameter(2,17.5)"
   ]
  },
  {
   "cell_type": "code",
   "execution_count": 14,
   "metadata": {},
   "outputs": [],
   "source": [
    "example.SetParameter(0,1) "
   ]
  },
  {
   "cell_type": "markdown",
   "metadata": {},
   "source": [
    "we can also exclude some not working sensors"
   ]
  },
  {
   "cell_type": "code",
   "execution_count": 15,
   "metadata": {},
   "outputs": [],
   "source": [
    "example.ExcludeTemperatureSensor(1)"
   ]
  },
  {
   "cell_type": "code",
   "execution_count": 16,
   "metadata": {},
   "outputs": [],
   "source": [
    "example.ExcludeSmokingSensor(3)"
   ]
  },
  {
   "cell_type": "code",
   "execution_count": 17,
   "metadata": {},
   "outputs": [],
   "source": [
    "example.SetParameter(2,18) //try to rechange the same parameter"
   ]
  },
  {
   "cell_type": "code",
   "execution_count": 18,
   "metadata": {},
   "outputs": [
    {
     "name": "stdout",
     "output_type": "stream",
     "text": [
      "{\n",
      "   \"excluded_sensors\": [\n",
      "      \"smk-3\",\n",
      "      \"t_rh-1\"\n",
      "   ],\n",
      "   \"set_parameters\": {\n",
      "      \"alarm_min_n_t_rh\": 1.0,\n",
      "      \"alarm_t_thr_max\": 18.0\n",
      "   }\n",
      "}\n"
     ]
    }
   ],
   "source": [
    "cout<<example.GetSetParameters().dump(3)<<endl;"
   ]
  },
  {
   "cell_type": "markdown",
   "metadata": {},
   "source": [
    "Let us assume we know the sensors now all work. How we reactivate them?"
   ]
  },
  {
   "cell_type": "code",
   "execution_count": 19,
   "metadata": {},
   "outputs": [
    {
     "name": "stdout",
     "output_type": "stream",
     "text": [
      "{\n",
      "   \"excluded_sensors\": null,\n",
      "   \"set_parameters\": {\n",
      "      \"alarm_min_n_t_rh\": 1.0,\n",
      "      \"alarm_t_thr_max\": 18.0\n",
      "   }\n",
      "}\n"
     ]
    }
   ],
   "source": [
    "example.ActivateAllSensors();\n",
    "cout<<example.GetSetParameters().dump(3)<<endl;"
   ]
  },
  {
   "cell_type": "markdown",
   "metadata": {},
   "source": [
    "### Clearing Parameters\n",
    "Assume we want to clear our set of parameters, because we do not want to change them anymore. We can do"
   ]
  },
  {
   "cell_type": "code",
   "execution_count": 20,
   "metadata": {},
   "outputs": [],
   "source": [
    "example.ClearParameters()"
   ]
  },
  {
   "cell_type": "code",
   "execution_count": 21,
   "metadata": {},
   "outputs": [
    {
     "name": "stdout",
     "output_type": "stream",
     "text": [
      "(std::basic_string<char, std::char_traits<char>, std::allocator<char> >) \"{}\"\n"
     ]
    }
   ],
   "source": [
    "example.GetSetParameters().dump(3)"
   ]
  },
  {
   "cell_type": "code",
   "execution_count": null,
   "metadata": {},
   "outputs": [],
   "source": []
  }
 ],
 "metadata": {
  "kernelspec": {
   "display_name": "ROOT C++",
   "language": "c++",
   "name": "root"
  },
  "language_info": {
   "codemirror_mode": "text/x-c++src",
   "file_extension": ".C",
   "mimetype": " text/x-c++src",
   "name": "c++"
  }
 },
 "nbformat": 4,
 "nbformat_minor": 4
}
