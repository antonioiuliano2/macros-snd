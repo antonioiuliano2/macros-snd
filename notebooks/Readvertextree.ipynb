{
 "cells": [
  {
   "cell_type": "markdown",
   "id": "999ffc76",
   "metadata": {},
   "source": [
    "# Reading vertextree"
   ]
  },
  {
   "cell_type": "code",
   "execution_count": 1,
   "id": "f41e7188",
   "metadata": {},
   "outputs": [],
   "source": [
    "import uproot\n",
    "import matplotlib.pyplot as plt\n",
    "import numpy as np"
   ]
  },
  {
   "cell_type": "markdown",
   "id": "056521a4",
   "metadata": {},
   "source": [
    "Opening vertex tree, getting tree and branches"
   ]
  },
  {
   "cell_type": "code",
   "execution_count": 2,
   "id": "c29561bb",
   "metadata": {},
   "outputs": [],
   "source": [
    "vtxfile = uproot.open(\"/eos/user/a/aiulian/sim_fedra/SNDnuyield_30_September_2021/b000022/vertextree.root\")\n",
    "vtxtree = vtxfile[\"vtx\"]"
   ]
  },
  {
   "cell_type": "code",
   "execution_count": 3,
   "id": "b5d67180",
   "metadata": {},
   "outputs": [],
   "source": [
    "vtxinfo = vtxtree.arrays([\"n\",\"t.eFlag\",\"MCEventID\",\"MCTrackID\",\"MCMotherID\",\"vx\",\"vy\",\"vz\",\"vID\",\"incoming\"])\n",
    "vtxinfo[\"MCTrackPdgCode\"] = vtxinfo[\"t.eFlag\"]"
   ]
  },
  {
   "cell_type": "markdown",
   "id": "bfd38afd",
   "metadata": {},
   "source": [
    "## Topology selection\n",
    "\n",
    "First, we ask ourselves: how many daughters? I.e. How many tracks with incoming 1?"
   ]
  },
  {
   "cell_type": "code",
   "execution_count": 4,
   "id": "486aa14c",
   "metadata": {},
   "outputs": [],
   "source": [
    "ndaughters = []\n",
    "for ntracks, incoming in zip(vtxinfo[\"n\"],vtxinfo[\"incoming\"]):\n",
    "    nd = 0\n",
    "    for itrk in range(ntracks):\n",
    "        if(incoming[itrk]==1):\n",
    "            nd = nd + 1\n",
    "    ndaughters.append(nd)\n",
    "vtxinfo[\"ndaughters\"] = ndaughters"
   ]
  },
  {
   "cell_type": "code",
   "execution_count": 5,
   "id": "3099440c",
   "metadata": {},
   "outputs": [
    {
     "data": {
      "text/plain": [
       "Text(0.5, 1.0, 'Number of tracks associated to the vertex')"
      ]
     },
     "execution_count": 5,
     "metadata": {},
     "output_type": "execute_result"
    },
    {
     "data": {
      "image/png": "[encoded data removed]",
      "text/plain": [
       "<Figure size 432x288 with 1 Axes>"
      ]
     },
     "metadata": {
      "needs_background": "light"
     },
     "output_type": "display_data"
    }
   ],
   "source": [
    "plt.hist(vtxinfo[\"n\"],bins=11,range=[0,11])\n",
    "plt.xlabel(\"Ntrks\")\n",
    "plt.title(\"Number of tracks associated to the vertex\")"
   ]
  },
  {
   "cell_type": "code",
   "execution_count": 6,
   "id": "b5d4bc2a",
   "metadata": {},
   "outputs": [
    {
     "data": {
      "text/plain": [
       "Text(0.5, 1.0, 'Number of tracks coming FROM the vertex')"
      ]
     },
     "execution_count": 6,
     "metadata": {},
     "output_type": "execute_result"
    },
    {
     "data": {
      "image/png": "[encoded data removed]",
      "text/plain": [
       "<Figure size 432x288 with 1 Axes>"
      ]
     },
     "metadata": {
      "needs_background": "light"
     },
     "output_type": "display_data"
    }
   ],
   "source": [
    "plt.hist(vtxinfo[\"ndaughters\"],bins=11,range=[0,11])\n",
    "plt.xlabel(\"NDaughters\")\n",
    "plt.title(\"Number of tracks coming FROM the vertex\")"
   ]
  },
  {
   "cell_type": "markdown",
   "id": "e3c8dde7",
   "metadata": {},
   "source": [
    "We **select only vertices with at least 2 daughters**\n",
    "That means we exclude topologies 0-0, 0-1, 0-0-1, etc., with only one track coming from the vertex (i.e. 0prong and 1 prong vertices)"
   ]
  },
  {
   "cell_type": "code",
   "execution_count": 7,
   "id": "0f833fa8",
   "metadata": {},
   "outputs": [
    {
     "name": "stdout",
     "output_type": "stream",
     "text": [
      "1300 vertices out of 3201 with at least 2 daughters\n"
     ]
    }
   ],
   "source": [
    "nvertices = len(vtxinfo)\n",
    "vtxinfo = vtxinfo[vtxinfo[\"ndaughters\"]>=2]\n",
    "nvertices2dau = len(vtxinfo)\n",
    "print(\"{} vertices out of {} with at least 2 daughters\".format(nvertices2dau,nvertices))"
   ]
  },
  {
   "cell_type": "markdown",
   "id": "b0bc65d7",
   "metadata": {},
   "source": [
    "We want to check how many vertices are good vertices. I.e. have same mother"
   ]
  },
  {
   "cell_type": "code",
   "execution_count": 8,
   "id": "0ee290bf",
   "metadata": {},
   "outputs": [],
   "source": [
    "def correctvertex(vtxinfo):\n",
    "    '''vertex tracks have same MC mother'''\n",
    "    #start loop over vertices\n",
    "    samemother = []\n",
    "\n",
    "    for (ntracks, motherids, incoming) in zip(vtxinfo[\"n\"], vtxinfo[\"MCMotherID\"], vtxinfo[\"incoming\"]):\n",
    "        goodvertex = True\n",
    "        ndaughters = 0\n",
    "        #loop over tracks, comparing mothers\n",
    "        for itrk in range(ntracks):\n",
    "            if (incoming[itrk] == 1): #track coming from the vertex\n",
    "                ndaughters = ndaughters + 1\n",
    "            for jtrk in range(itrk):\n",
    "             if (motherids[jtrk] != motherids[itrk] and incoming[jtrk] == incoming[itrk]): #same direction, but different mother\n",
    "                goodvertex = False\n",
    "        #end of loop, storing result\n",
    "        if(ndaughters<2):\n",
    "            goodvertex = False\n",
    "        samemother.append(goodvertex)\n",
    "    #end of loop over vertices, returning list of results\n",
    "    return samemother"
   ]
  },
  {
   "cell_type": "code",
   "execution_count": 9,
   "id": "6db9a4a0",
   "metadata": {},
   "outputs": [
    {
     "name": "stdout",
     "output_type": "stream",
     "text": [
      "133 out of 1300 vertices have same mother: fraction 0.10230769230769231\n"
     ]
    }
   ],
   "source": [
    "samemother = correctvertex(vtxinfo)\n",
    "vtxinfo[\"SameMother\"] = samemother\n",
    "ngood = len(vtxinfo[samemother])\n",
    "nall = len(vtxinfo)\n",
    "print(\"{} out of {} vertices have same mother: fraction {}\".format(ngood,nall,ngood/nall))"
   ]
  },
  {
   "cell_type": "code",
   "execution_count": 10,
   "id": "61b41086",
   "metadata": {},
   "outputs": [
    {
     "name": "stdout",
     "output_type": "stream",
     "text": [
      "listing some ids to manual checks: \n",
      "[3, 7, 12, 19, 35, 37, 41, 43, ... 3159, 3163, 3167, 3168, 3186, 3187, 3192, 3196]\n",
      "for example, let us see the first good one\n",
      "[6876, 6876]\n",
      "[6995, 6915]\n",
      "[1, 1]\n"
     ]
    }
   ],
   "source": [
    "print(\"listing some ids to manual checks: \")\n",
    "print(vtxinfo[vtxinfo[\"SameMother\"]][\"vID\"])\n",
    "\n",
    "print(\"for example, let us see the first good one\")\n",
    "print(vtxinfo[vtxinfo[\"SameMother\"]][\"MCMotherID\"][0])\n",
    "print(vtxinfo[vtxinfo[\"SameMother\"]][\"MCTrackID\"][0])\n",
    "print(vtxinfo[vtxinfo[\"SameMother\"]][\"incoming\"][0])"
   ]
  },
  {
   "cell_type": "markdown",
   "id": "73854529",
   "metadata": {},
   "source": [
    "This tell us how many vertices are connected to the same MCMother. They however, could have different incoming..."
   ]
  },
  {
   "cell_type": "markdown",
   "id": "38652f12",
   "metadata": {},
   "source": [
    "## vertices from neutrino\n",
    "Applying a selection for interesting vertices (i.e. one coming from neutrino)"
   ]
  },
  {
   "cell_type": "code",
   "execution_count": 11,
   "id": "a3521417",
   "metadata": {},
   "outputs": [],
   "source": [
    "#at least a track with mother ID 0\n",
    "def neutrinodaughters(vtxinfo):\n",
    "    ''' checking if there is at least one neutrino daughter in the vertex'''\n",
    "    aneutrinodaughter = []\n",
    "    for (ntracks, incoming, eventmothers) in zip(vtxinfo[\"n\"],vtxinfo[\"incoming\"],vtxinfo[\"MCMotherID\"]):\n",
    "        hasnudau = False \n",
    "        for itrk in range(ntracks):\n",
    "            if(incoming[itrk] == 1 and eventmothers[itrk] == 0):\n",
    "                hasnudau = True\n",
    "        aneutrinodaughter.append(hasnudau)\n",
    "    return aneutrinodaughter\n",
    "\n",
    "aneutrinodaughter = neutrinodaughters(vtxinfo)\n",
    "nuvertices = vtxinfo[aneutrinodaughter]"
   ]
  },
  {
   "cell_type": "code",
   "execution_count": 12,
   "id": "d4d9711e",
   "metadata": {},
   "outputs": [],
   "source": [
    "reconuvz = nuvertices[\"vz\"]\n",
    "reconumolt = nuvertices[\"n\"]"
   ]
  },
  {
   "cell_type": "code",
   "execution_count": 13,
   "id": "5929e69a",
   "metadata": {},
   "outputs": [
    {
     "data": {
      "text/plain": [
       "Text(0.5, 0, 'z[$\\\\mu m$]')"
      ]
     },
     "execution_count": 13,
     "metadata": {},
     "output_type": "execute_result"
    },
    {
     "data": {
      "image/png": "[encoded data removed]",
      "text/plain": [
       "<Figure size 432x288 with 1 Axes>"
      ]
     },
     "metadata": {
      "needs_background": "light"
     },
     "output_type": "display_data"
    }
   ],
   "source": [
    "plt.hist(reconuvz,bins=8,range=[-80000,0])\n",
    "plt.xlabel(\"z[$\\mu m$]\")"
   ]
  },
  {
   "cell_type": "code",
   "execution_count": 14,
   "id": "fa973ac8",
   "metadata": {},
   "outputs": [
    {
     "data": {
      "text/plain": [
       "Text(0.5, 0, 'ntracks')"
      ]
     },
     "execution_count": 14,
     "metadata": {},
     "output_type": "execute_result"
    },
    {
     "data": {
      "image/png": "[encoded data removed]",
      "text/plain": [
       "<Figure size 432x288 with 1 Axes>"
      ]
     },
     "metadata": {
      "needs_background": "light"
     },
     "output_type": "display_data"
    }
   ],
   "source": [
    "plt.hist(reconumolt)\n",
    "plt.xlabel(\"ntracks\")"
   ]
  },
  {
   "cell_type": "code",
   "execution_count": 15,
   "id": "d1210b3b",
   "metadata": {},
   "outputs": [],
   "source": [
    "import awkward"
   ]
  },
  {
   "cell_type": "code",
   "execution_count": 16,
   "id": "b4199c3e",
   "metadata": {},
   "outputs": [
    {
     "data": {
      "text/plain": [
       "Text(0, 0.5, 'y[micron]')"
      ]
     },
     "execution_count": 16,
     "metadata": {},
     "output_type": "execute_result"
    },
    {
     "data": {
      "image/png": "[encoded data removed]",
      "text/plain": [
       "<Figure size 432x288 with 1 Axes>"
      ]
     },
     "metadata": {
      "needs_background": "light"
     },
     "output_type": "display_data"
    }
   ],
   "source": [
    "plt.plot(awkward.to_numpy(nuvertices[\"vx\"]),awkward.to_numpy(nuvertices[\"vy\"]),\"ko\");\n",
    "plt.xlabel(\"x[micron]\")\n",
    "plt.ylabel(\"y[micron]\")"
   ]
  },
  {
   "cell_type": "code",
   "execution_count": 17,
   "id": "cc1486e9",
   "metadata": {},
   "outputs": [
    {
     "name": "stdout",
     "output_type": "stream",
     "text": [
      "45 out of 85 vertices from neutrino have same mother: 0.5294117647058824\n"
     ]
    }
   ],
   "source": [
    "nnuvertices = len(nuvertices)\n",
    "nnuvertices_samemother = len(nuvertices[nuvertices[\"SameMother\"]])\n",
    "\n",
    "print (\"{} out of {} vertices from neutrino have same mother: {}\".format(nnuvertices_samemother,nnuvertices,nnuvertices_samemother/nnuvertices)) "
   ]
  },
  {
   "cell_type": "code",
   "execution_count": 18,
   "id": "da4d7f9b",
   "metadata": {},
   "outputs": [
    {
     "name": "stdout",
     "output_type": "stream",
     "text": [
      "listing some ids to manual checks: \n",
      "[43, 60, 93, 99, 110, 146, 172, 185, ... 2999, 3003, 3016, 3026, 3092, 3104, 3192]\n",
      "for example, let us see the first good one\n",
      "[0, 0]\n",
      "[2, 13]\n",
      "[211, 211]\n",
      "[1, 1]\n"
     ]
    }
   ],
   "source": [
    "print(\"listing some ids to manual checks: \")\n",
    "print(nuvertices[nuvertices[\"SameMother\"]][\"vID\"])\n",
    "\n",
    "print(\"for example, let us see the first good one\")\n",
    "print(nuvertices[nuvertices[\"SameMother\"]][\"MCMotherID\"][0])\n",
    "print(nuvertices[nuvertices[\"SameMother\"]][\"MCTrackID\"][0])\n",
    "print(nuvertices[nuvertices[\"SameMother\"]][\"MCTrackPdgCode\"][0])\n",
    "print(nuvertices[nuvertices[\"SameMother\"]][\"incoming\"][0])"
   ]
  },
  {
   "cell_type": "markdown",
   "id": "d92a2e15",
   "metadata": {},
   "source": [
    "## Lepton inspection\n",
    "\n",
    "Is there a muon or an electron in these vertices?"
   ]
  },
  {
   "cell_type": "code",
   "execution_count": 19,
   "id": "48c13210",
   "metadata": {},
   "outputs": [],
   "source": [
    "nuvertices_samemother = nuvertices[nuvertices[\"SameMother\"]]\n",
    "\n",
    "hasmuon = []\n",
    "haselectron = []\n",
    "\n",
    "for pdgcodes in nuvertices_samemother[\"MCTrackPdgCode\"]:\n",
    "    if (np.logical_or(13 in pdgcodes,-13 in pdgcodes)):\n",
    "        hasmuon.append(True)\n",
    "    else:\n",
    "        hasmuon.append(False)\n",
    "    if (np.logical_or(11 in pdgcodes,-11 in pdgcodes)):\n",
    "        haselectron.append(True)\n",
    "    else:\n",
    "        haselectron.append(False)\n"
   ]
  },
  {
   "cell_type": "code",
   "execution_count": 23,
   "id": "f0972f2b",
   "metadata": {},
   "outputs": [
    {
     "name": "stdout",
     "output_type": "stream",
     "text": [
      "vertices with muons = 14\n",
      "vertices with electrons = 15\n",
      "vertices with both = 0\n",
      "vertices with neither = 16\n"
     ]
    }
   ],
   "source": [
    "print(\"vertices with muons = {}\".format(len(nuvertices_samemother[hasmuon])))\n",
    "print(\"vertices with electrons = {}\".format(len(nuvertices_samemother[haselectron])))\n",
    "hasboth = np.logical_and(hasmuon,haselectron)\n",
    "print(\"vertices with both = {}\".format(len(nuvertices_samemother[hasboth])))\n",
    "hasneither = np.logical_not(np.logical_or(hasmuon,haselectron))\n",
    "print(\"vertices with neither = {}\".format(len(nuvertices_samemother[hasneither])))"
   ]
  },
  {
   "cell_type": "code",
   "execution_count": 24,
   "id": "f86c2052",
   "metadata": {},
   "outputs": [
    {
     "data": {
      "text/plain": [
       "array([ True,  True, False, False, False, False, False, False, False,\n",
       "        True, False, False, False, False, False,  True,  True,  True,\n",
       "       False,  True,  True, False,  True,  True, False, False, False,\n",
       "        True, False,  True, False, False, False,  True, False,  True,\n",
       "       False, False, False, False, False,  True,  True, False, False])"
      ]
     },
     "execution_count": 24,
     "metadata": {},
     "output_type": "execute_result"
    }
   ],
   "source": [
    "hasneither"
   ]
  },
  {
   "cell_type": "code",
   "execution_count": 26,
   "id": "12da92c4",
   "metadata": {},
   "outputs": [
    {
     "data": {
      "text/plain": [
       "<Array [211, 321] type='2 * int32'>"
      ]
     },
     "execution_count": 26,
     "metadata": {},
     "output_type": "execute_result"
    }
   ],
   "source": [
    "nuvertices_samemother[\"MCTrackPdgCode\"][1]"
   ]
  },
  {
   "cell_type": "code",
   "execution_count": null,
   "id": "38939139",
   "metadata": {},
   "outputs": [],
   "source": []
  }
 ],
 "metadata": {
  "kernelspec": {
   "display_name": "Python 3",
   "language": "python",
   "name": "python3"
  },
  "language_info": {
   "codemirror_mode": {
    "name": "ipython",
    "version": 3
   },
   "file_extension": ".py",
   "mimetype": "text/x-python",
   "name": "python",
   "nbconvert_exporter": "python",
   "pygments_lexer": "ipython3",
   "version": "3.9.6"
  }
 },
 "nbformat": 4,
 "nbformat_minor": 5
}
