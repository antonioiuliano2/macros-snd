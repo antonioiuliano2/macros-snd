{
 "cells": [
  {
   "cell_type": "markdown",
   "id": "999ffc76",
   "metadata": {},
   "source": [
    "# Reading vertextree"
   ]
  },
  {
   "cell_type": "code",
   "execution_count": 1,
   "id": "f41e7188",
   "metadata": {},
   "outputs": [],
   "source": [
    "import uproot\n",
    "import matplotlib.pyplot as plt"
   ]
  },
  {
   "cell_type": "markdown",
   "id": "056521a4",
   "metadata": {},
   "source": [
    "Opening vertex tree, getting tree and branches"
   ]
  },
  {
   "cell_type": "code",
   "execution_count": 2,
   "id": "c29561bb",
   "metadata": {},
   "outputs": [],
   "source": [
    "vtxfile = uproot.open(\"/eos/user/a/aiulian/sim_fedra/SNDnuyield_30_September_2021/b000022/vertextree.root\")\n",
    "vtxtree = vtxfile[\"vtx\"]"
   ]
  },
  {
   "cell_type": "code",
   "execution_count": 3,
   "id": "b5d67180",
   "metadata": {},
   "outputs": [],
   "source": [
    "vtxinfo = vtxtree.arrays([\"n\",\"MCTrackPdgCode\",\"MCEventID\",\"MCTrackID\",\"MCMotherID\",\"vx\",\"vy\",\"vz\",\"incoming\"])"
   ]
  },
  {
   "cell_type": "markdown",
   "id": "38652f12",
   "metadata": {},
   "source": [
    "Applying a selection for interesting vertices"
   ]
  },
  {
   "cell_type": "code",
   "execution_count": 4,
   "id": "a3521417",
   "metadata": {},
   "outputs": [],
   "source": [
    "#molteplicity requirement\n",
    "selectedvertices = vtxinfo[vtxinfo[\"n\"] >= 2]\n",
    "#at least a track with mother ID 0\n",
    "mothers = selectedvertices[\"MCMotherID\"]\n",
    "aneutrinodaughter = []\n",
    "for eventmothers in mothers:\n",
    "    aneutrinodaughter.append(0 in eventmothers)\n",
    "    \n",
    "selectedvertices = selectedvertices[aneutrinodaughter]"
   ]
  },
  {
   "cell_type": "code",
   "execution_count": 5,
   "id": "d4d9711e",
   "metadata": {},
   "outputs": [],
   "source": [
    "reconuvz = selectedvertices[\"vz\"]\n",
    "reconumolt = selectedvertices[\"n\"]"
   ]
  },
  {
   "cell_type": "code",
   "execution_count": null,
   "id": "a7022711",
   "metadata": {},
   "outputs": [],
   "source": []
  },
  {
   "cell_type": "code",
   "execution_count": 6,
   "id": "5929e69a",
   "metadata": {},
   "outputs": [
    {
     "data": {
      "text/plain": [
       "Text(0.5, 0, 'z[$\\\\mu m$]')"
      ]
     },
     "execution_count": 6,
     "metadata": {},
     "output_type": "execute_result"
    },
    {
     "data": {
      "image/png": "[encoded data removed]",
      "text/plain": [
       "<Figure size 432x288 with 1 Axes>"
      ]
     },
     "metadata": {
      "needs_background": "light"
     },
     "output_type": "display_data"
    }
   ],
   "source": [
    "plt.hist(reconuvz,bins=8,range=[-80000,0])\n",
    "plt.xlabel(\"z[$\\mu m$]\")"
   ]
  },
  {
   "cell_type": "code",
   "execution_count": 7,
   "id": "fa973ac8",
   "metadata": {},
   "outputs": [
    {
     "data": {
      "text/plain": [
       "Text(0.5, 0, 'ntracks')"
      ]
     },
     "execution_count": 7,
     "metadata": {},
     "output_type": "execute_result"
    },
    {
     "data": {
      "image/png": "[encoded data removed]",
      "text/plain": [
       "<Figure size 432x288 with 1 Axes>"
      ]
     },
     "metadata": {
      "needs_background": "light"
     },
     "output_type": "display_data"
    }
   ],
   "source": [
    "plt.hist(reconumolt)\n",
    "plt.xlabel(\"ntracks\")"
   ]
  },
  {
   "cell_type": "code",
   "execution_count": 8,
   "id": "d1210b3b",
   "metadata": {},
   "outputs": [],
   "source": [
    "import awkward"
   ]
  },
  {
   "cell_type": "code",
   "execution_count": 9,
   "id": "b4199c3e",
   "metadata": {},
   "outputs": [
    {
     "data": {
      "text/plain": [
       "Text(0, 0.5, 'y[micron]')"
      ]
     },
     "execution_count": 9,
     "metadata": {},
     "output_type": "execute_result"
    },
    {
     "data": {
      "image/png": "[encoded data removed]",
      "text/plain": [
       "<Figure size 432x288 with 1 Axes>"
      ]
     },
     "metadata": {
      "needs_background": "light"
     },
     "output_type": "display_data"
    }
   ],
   "source": [
    "plt.plot(awkward.to_numpy(selectedvertices[\"vx\"]),awkward.to_numpy(selectedvertices[\"vy\"]),\"ko\");\n",
    "plt.xlabel(\"x[micron]\")\n",
    "plt.ylabel(\"y[micron]\")"
   ]
  },
  {
   "cell_type": "code",
   "execution_count": 10,
   "id": "cc1486e9",
   "metadata": {},
   "outputs": [
    {
     "data": {
      "text/plain": [
       "213"
      ]
     },
     "execution_count": 10,
     "metadata": {},
     "output_type": "execute_result"
    }
   ],
   "source": [
    "len(selectedvertices)"
   ]
  },
  {
   "cell_type": "code",
   "execution_count": 16,
   "id": "da4d7f9b",
   "metadata": {},
   "outputs": [],
   "source": [
    "event = vtxinfo[vtxinfo[\"MCEventID\"][0]==246]"
   ]
  },
  {
   "cell_type": "code",
   "execution_count": 17,
   "id": "1e2ebcc0",
   "metadata": {},
   "outputs": [
    {
     "data": {
      "text/plain": [
       "<Array [] type='0 * int32'>"
      ]
     },
     "execution_count": 17,
     "metadata": {},
     "output_type": "execute_result"
    }
   ],
   "source": [
    "event[\"n\"]"
   ]
  },
  {
   "cell_type": "code",
   "execution_count": null,
   "id": "83259362",
   "metadata": {},
   "outputs": [],
   "source": []
  }
 ],
 "metadata": {
  "kernelspec": {
   "display_name": "Python 3",
   "language": "python",
   "name": "python3"
  },
  "language_info": {
   "codemirror_mode": {
    "name": "ipython",
    "version": 3
   },
   "file_extension": ".py",
   "mimetype": "text/x-python",
   "name": "python",
   "nbconvert_exporter": "python",
   "pygments_lexer": "ipython3",
   "version": "3.8.6"
  }
 },
 "nbformat": 4,
 "nbformat_minor": 5
}
