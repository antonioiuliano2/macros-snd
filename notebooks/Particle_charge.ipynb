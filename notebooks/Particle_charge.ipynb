{
 "cells": [
  {
   "cell_type": "markdown",
   "id": "08360af0",
   "metadata": {},
   "source": [
    "# Muon neutrino interactions SND\n",
    "\n",
    "We will read a file with neutrino and antineutrinos, already selected into the target (hits have been wrongly written, to be fixed)"
   ]
  },
  {
   "cell_type": "code",
   "execution_count": 1,
   "id": "860bc3d2",
   "metadata": {},
   "outputs": [],
   "source": [
    "import uproot\n",
    "import awkward #need for flatten or other operations to nested arrays\n",
    "import numpy as np\n",
    "import matplotlib.pyplot as plt #for plots"
   ]
  },
  {
   "cell_type": "markdown",
   "id": "2cea774a",
   "metadata": {},
   "source": [
    "Let us write the functions to read cbmsim branches with uproot"
   ]
  },
  {
   "cell_type": "code",
   "execution_count": 2,
   "id": "f4af2096",
   "metadata": {},
   "outputs": [],
   "source": [
    "def access_track_branches(simtree, prefix=\"MCTrack.f\", entry_start=0, entry_stop = -1):\n",
    " '''reading MCTracks from entry_start to lastentry'''\n",
    " if (entry_stop < 0):\n",
    "        lastentry = simtree.num_entries\n",
    " else:\n",
    "        lastentry = entry_stop\n",
    " #what branches do we want to read\n",
    " suffixes = [\"MotherId\",\"PdgCode\",\"StartX\",\"StartY\",\"StartZ\",\"Px\",\"Py\",\"Pz\"]\n",
    " branchnames = [prefix + suff for suff in suffixes]\n",
    " print(branchnames)\n",
    " #reading the branches\n",
    " tracks = simtree.arrays(branchnames,entry_start = entry_start, entry_stop = lastentry)\n",
    " #returning the produced array\n",
    " return tracks"
   ]
  },
  {
   "cell_type": "code",
   "execution_count": 3,
   "id": "bddbfae4",
   "metadata": {},
   "outputs": [],
   "source": [
    "def access_mcpoint_branches(simtree, prefix = \"ScifiPoint.f\", entry_start=0, entry_stop = -1 ):\n",
    " '''reading MCTracks from entry_start to lastentry'''\n",
    " if (entry_stop < 0):\n",
    "        lastentry = simtree.num_entries\n",
    " else:\n",
    "        lastentry = entry_stop   \n",
    "\n",
    " suffixes = [\"PdgCode\",\"TrackID\",\"X\",\"Y\",\"Z\",\"Px\",\"Py\",\"Pz\"]\n",
    " branchnames = [prefix + suff for suff in suffixes]\n",
    " print(branchnames)\n",
    " #reading the branches\n",
    " mcpoints = simtree.arrays(branchnames[0:2],entry_start = entry_start, entry_stop = lastentry)\n",
    " #adding float interpretation manually\n",
    " floatinterpretation = simtree[\"MCTrack.fStartX\"].interpretation\n",
    " for name in branchnames[2:]:\n",
    "  mcpoints[name] = simtree[name].array(floatinterpretation)\n",
    " #returning the produced array\n",
    " return mcpoints"
   ]
  },
  {
   "cell_type": "markdown",
   "id": "cc250944",
   "metadata": {},
   "source": [
    "Let us open the file and getting the TTree"
   ]
  },
  {
   "cell_type": "code",
   "execution_count": 4,
   "id": "92153d5d",
   "metadata": {},
   "outputs": [],
   "source": [
    "numufile = uproot.open(\"/eos/user/a/aiulian/sim_snd/numu_sim_activeemu_7_September_2021/inECC_sndLHC.Genie-TGeant4.root\")\n",
    "numutree = numufile[\"cbmsim\"]"
   ]
  },
  {
   "cell_type": "code",
   "execution_count": 5,
   "id": "5d254666",
   "metadata": {},
   "outputs": [],
   "source": [
    "antimufile = uproot.open(\"/eos/user/a/aiulian/sim_snd/anumu_sim_activeemu_8_September_2021/inECC_sndLHC.Genie-TGeant4.root\")\n",
    "antimutree = antimufile[\"cbmsim\"]"
   ]
  },
  {
   "cell_type": "markdown",
   "id": "df5d35c1",
   "metadata": {},
   "source": [
    "Let us retrieve the tracks branch from both files and concatenate them"
   ]
  },
  {
   "cell_type": "code",
   "execution_count": 6,
   "id": "84cf3d36",
   "metadata": {},
   "outputs": [
    {
     "name": "stdout",
     "output_type": "stream",
     "text": [
      "['MCTrack.fMotherId', 'MCTrack.fPdgCode', 'MCTrack.fStartX', 'MCTrack.fStartY', 'MCTrack.fStartZ', 'MCTrack.fPx', 'MCTrack.fPy', 'MCTrack.fPz']\n",
      "['MCTrack.fMotherId', 'MCTrack.fPdgCode', 'MCTrack.fStartX', 'MCTrack.fStartY', 'MCTrack.fStartZ', 'MCTrack.fPx', 'MCTrack.fPy', 'MCTrack.fPz']\n"
     ]
    }
   ],
   "source": [
    "numutracks = access_track_branches(numutree)\n",
    "antimu_tracks = access_track_branches(antimutree)\n",
    "tracks = awkward.concatenate([antimu_tracks,numutracks])"
   ]
  },
  {
   "cell_type": "markdown",
   "id": "ed955d34",
   "metadata": {},
   "source": [
    "Let us retrieve the tracks coming from the neutrino"
   ]
  },
  {
   "cell_type": "code",
   "execution_count": 7,
   "id": "31431da9",
   "metadata": {},
   "outputs": [],
   "source": [
    "neutrinodaughters = tracks[\"MCTrack.fMotherId\"]==0"
   ]
  },
  {
   "cell_type": "markdown",
   "id": "73fa5b17",
   "metadata": {},
   "source": [
    "How do I access track charge?"
   ]
  },
  {
   "cell_type": "code",
   "execution_count": 8,
   "id": "3c5fb104",
   "metadata": {},
   "outputs": [
    {
     "name": "stdout",
     "output_type": "stream",
     "text": [
      "Welcome to JupyROOT 6.24/00\n"
     ]
    }
   ],
   "source": [
    "import ROOT as r\n"
   ]
  },
  {
   "cell_type": "code",
   "execution_count": 9,
   "id": "a9376893",
   "metadata": {},
   "outputs": [],
   "source": [
    "pdgdatabase = r.TDatabasePDG.Instance()"
   ]
  },
  {
   "cell_type": "code",
   "execution_count": 10,
   "id": "b3be6faa",
   "metadata": {},
   "outputs": [],
   "source": [
    "trackpdgs = tracks[\"MCTrack.fPdgCode\"]\n",
    "nevents = len(trackpdgs)"
   ]
  },
  {
   "cell_type": "code",
   "execution_count": 11,
   "id": "b9334ab1",
   "metadata": {},
   "outputs": [
    {
     "data": {
      "text/plain": [
       "3.0"
      ]
     },
     "execution_count": 11,
     "metadata": {},
     "output_type": "execute_result"
    }
   ],
   "source": [
    "pdgdatabase.GetParticle(trackpdgs[0,1]).Charge()"
   ]
  },
  {
   "cell_type": "code",
   "execution_count": 12,
   "id": "c7546732",
   "metadata": {},
   "outputs": [],
   "source": [
    "def getcharge(pdgcode):\n",
    "    charge = 0\n",
    "    if (pdgdatabase.GetParticle(pdgcode)): #not all particles are known\n",
    "        charge = pdgdatabase.GetParticle(pdgcode).Charge()\n",
    "    return charge"
   ]
  },
  {
   "cell_type": "code",
   "execution_count": 13,
   "id": "a13344be",
   "metadata": {},
   "outputs": [],
   "source": [
    "test = awkward.to_numpy(awkward.flatten(trackpdgs))"
   ]
  },
  {
   "cell_type": "markdown",
   "id": "16537138",
   "metadata": {},
   "source": [
    "## adding charge\n",
    "for the moment we do it the old fashioned loop way: slow, to be \"vectorized in some way\""
   ]
  },
  {
   "cell_type": "code",
   "execution_count": 14,
   "id": "5d0f76b2",
   "metadata": {},
   "outputs": [],
   "source": [
    "trackcharge = []\n",
    "for event in range(nevents):\n",
    "    trackchargeevent = []\n",
    "    for pdgcode in trackpdgs[event]:\n",
    "        trackchargeevent.append(getcharge(pdgcode))\n",
    "    trackcharge.append(trackchargeevent)\n",
    "awtrackcharge = awkward.Array(trackcharge)\n",
    "tracks[\"MCTrack.fCharge\"] = awtrackcharge"
   ]
  },
  {
   "cell_type": "code",
   "execution_count": 15,
   "id": "8b315117",
   "metadata": {},
   "outputs": [],
   "source": [
    "neutrinodaughters = np.logical_and(tracks[\"MCTrack.fMotherId\"]==0,np.abs(tracks[\"MCTrack.fCharge\"]) > 0)"
   ]
  },
  {
   "cell_type": "code",
   "execution_count": 16,
   "id": "2382af65",
   "metadata": {},
   "outputs": [],
   "source": [
    "neutrinodaughters_pdgs = trackpdgs[neutrinodaughters]"
   ]
  },
  {
   "cell_type": "code",
   "execution_count": 17,
   "id": "568f67d2",
   "metadata": {},
   "outputs": [],
   "source": [
    "import matplotlib.pyplot as plt"
   ]
  },
  {
   "cell_type": "code",
   "execution_count": 18,
   "id": "5e0ff1f2",
   "metadata": {},
   "outputs": [],
   "source": [
    "molteplicity = []\n",
    "for event in range(nevents):\n",
    "    molteplicity.append(len(neutrinodaughters_pdgs[event]))"
   ]
  },
  {
   "cell_type": "markdown",
   "id": "7a63f3c5",
   "metadata": {},
   "source": [
    "## Plots\n",
    "\n",
    "we start with the molteplicity plot"
   ]
  },
  {
   "cell_type": "code",
   "execution_count": 19,
   "id": "3ad585c0",
   "metadata": {},
   "outputs": [
    {
     "data": {
      "image/png": "[encoded data removed]",
      "text/plain": [
       "<Figure size 432x288 with 1 Axes>"
      ]
     },
     "metadata": {
      "needs_background": "light"
     },
     "output_type": "display_data"
    }
   ],
   "source": [
    "%matplotlib inline\n",
    "plt.figure()\n",
    "plt.hist(molteplicity,bins=20,range=[0,20])\n",
    "plt.xlabel(\"NTracks\")\n",
    "plt.title(\"Molteplicity of neutrino vertex\")\n",
    "plt.show()"
   ]
  },
  {
   "cell_type": "markdown",
   "id": "7ce6b473",
   "metadata": {},
   "source": [
    "Neutrino and muon energy plots"
   ]
  },
  {
   "cell_type": "code",
   "execution_count": 20,
   "id": "0e5cdf10",
   "metadata": {},
   "outputs": [],
   "source": [
    "tracks[\"MCTrack.fP\"] = np.sqrt(tracks[\"MCTrack.fPx\"] * tracks[\"MCTrack.fPx\"] + tracks[\"MCTrack.fPy\"] * tracks[\"MCTrack.fPy\"] + tracks[\"MCTrack.fPz\"] * tracks[\"MCTrack.fPz\"])"
   ]
  },
  {
   "cell_type": "code",
   "execution_count": 21,
   "id": "e35b6154",
   "metadata": {},
   "outputs": [
    {
     "data": {
      "text/plain": [
       "<Array [-0.224, -0.0564, ... -0.0876, -0.0158] type='7405 * float64'>"
      ]
     },
     "execution_count": 21,
     "metadata": {},
     "output_type": "execute_result"
    }
   ],
   "source": [
    "numutracks[\"MCTrack.fPx\"][:,0]"
   ]
  },
  {
   "cell_type": "code",
   "execution_count": 22,
   "id": "2813b118",
   "metadata": {},
   "outputs": [],
   "source": [
    "primarymuon = np.logical_and(tracks[\"MCTrack.fMotherId\"]==0,np.abs(tracks[\"MCTrack.fPdgCode\"]) == 13)"
   ]
  },
  {
   "cell_type": "code",
   "execution_count": 23,
   "id": "5469d33a",
   "metadata": {},
   "outputs": [],
   "source": [
    "primarymuon_P = tracks[\"MCTrack.fP\"][primarymuon]"
   ]
  },
  {
   "cell_type": "code",
   "execution_count": 24,
   "id": "36386d2b",
   "metadata": {},
   "outputs": [
    {
     "data": {
      "image/png": "[encoded data removed]",
      "text/plain": [
       "<Figure size 432x288 with 1 Axes>"
      ]
     },
     "metadata": {
      "needs_background": "light"
     },
     "output_type": "display_data"
    }
   ],
   "source": [
    "plt.figure()\n",
    "plt.hist(tracks[\"MCTrack.fP\"][:,0],bins=30,range=[0,3000],color=\"b\",label=\"Neutrino\",alpha=0.5)\n",
    "plt.hist(awkward.flatten(primarymuon_P),bins=30,range=[0,3000],color=\"r\",label=\"Primary muon\",alpha=0.5)\n",
    "plt.xlabel(\"Momentum[GeV/c]\")\n",
    "plt.legend()\n",
    "plt.show()"
   ]
  },
  {
   "cell_type": "code",
   "execution_count": 25,
   "id": "f8e94974",
   "metadata": {},
   "outputs": [
    {
     "data": {
      "text/plain": [
       "<Array [460] type='1 * float64'>"
      ]
     },
     "execution_count": 25,
     "metadata": {},
     "output_type": "execute_result"
    }
   ],
   "source": [
    "primarymuon_P[0]"
   ]
  },
  {
   "cell_type": "code",
   "execution_count": 26,
   "id": "002d911e",
   "metadata": {},
   "outputs": [
    {
     "data": {
      "text/plain": [
       "7405"
      ]
     },
     "execution_count": 26,
     "metadata": {},
     "output_type": "execute_result"
    }
   ],
   "source": [
    "len(numutracks)"
   ]
  },
  {
   "cell_type": "code",
   "execution_count": 27,
   "id": "586d0ca9",
   "metadata": {},
   "outputs": [
    {
     "data": {
      "text/plain": [
       "6824"
      ]
     },
     "execution_count": 27,
     "metadata": {},
     "output_type": "execute_result"
    }
   ],
   "source": [
    "len(antimu_tracks)"
   ]
  },
  {
   "cell_type": "code",
   "execution_count": 28,
   "id": "4f83f24a",
   "metadata": {},
   "outputs": [
    {
     "data": {
      "text/plain": [
       "14229"
      ]
     },
     "execution_count": 28,
     "metadata": {},
     "output_type": "execute_result"
    }
   ],
   "source": [
    "len(tracks)"
   ]
  },
  {
   "cell_type": "markdown",
   "id": "a1858268",
   "metadata": {},
   "source": [
    "In **which brick** did the interation happen?"
   ]
  },
  {
   "cell_type": "code",
   "execution_count": 29,
   "id": "2fed567c",
   "metadata": {},
   "outputs": [],
   "source": [
    "def FindBrick(hitX, hitY, hitZ):\n",
    "  #associate position to code\n",
    "  xborder = -27.5 #arbitrary, but accurate enough to separate the bricks\n",
    "  yborder = 35.1\n",
    "  if (hitX < xborder):\n",
    "    nx = 0\n",
    "  else:\n",
    "    nx = 1\n",
    "  if (hitY < yborder):\n",
    "    ny = 0\n",
    "  else:\n",
    "    ny = 1 \n",
    "\n",
    "  #zborders\n",
    "  z0_start = -25.4750 \n",
    "  z0_end = -17.6850\n",
    "  \n",
    "  z1_start = -15.8750 \n",
    "  z1_end = -8.0850\n",
    "  z2_start = -6.2750  \n",
    "  z2_end = 1.5150\n",
    "  z3_start = 3.3250   \n",
    "  z3_end = 11.1150\n",
    "  z4_start = 12.9250  \n",
    "  z4_end = 20.7150\n",
    "  #condition on z borders\n",
    "  if (hitZ > z0_start and hitZ < z0_end):\n",
    "        nz = 0\n",
    "  elif(hitZ > z1_start and hitZ < z1_end):\n",
    "    nz = 1\n",
    "  elif(hitZ > z2_start and hitZ < z2_end):\n",
    "    nz = 2\n",
    "  elif(hitZ > z3_start and hitZ < z3_end):\n",
    "    nz = 3;\n",
    "  elif(hitZ > z4_start and hitZ < z4_end):\n",
    "    nz=4\n",
    "  else:\n",
    "    nz = -10; #not in a brick\n",
    "\n",
    "  #return ID\n",
    "  nbrick = nx + ny*2 + 10 * nz\n",
    "  return nbrick\n",
    " #possible numbers: 0, 1, 2, 3, 10,11,12,13, 20,21,22,23, 30,31,32,33, 40,41,42,43"
   ]
  },
  {
   "cell_type": "code",
   "execution_count": 30,
   "id": "f4691b1d",
   "metadata": {},
   "outputs": [],
   "source": [
    "whichbrick = []\n",
    "for event in range(nevents):\n",
    "    vx = tracks[\"MCTrack.fStartX\"][event,0]\n",
    "    vy = tracks[\"MCTrack.fStartY\"][event,0]\n",
    "    vz = tracks[\"MCTrack.fStartZ\"][event,0]\n",
    "    whichbrick.append(FindBrick(vx,vy,vz))"
   ]
  },
  {
   "cell_type": "code",
   "execution_count": 31,
   "id": "e2932d39",
   "metadata": {},
   "outputs": [
    {
     "data": {
      "image/png": "[encoded data removed]",
      "text/plain": [
       "<Figure size 432x288 with 1 Axes>"
      ]
     },
     "metadata": {
      "needs_background": "light"
     },
     "output_type": "display_data"
    }
   ],
   "source": [
    "plt.figure()\n",
    "plt.hist(whichbrick,bins=50,range=[0,50])\n",
    "plt.xlabel(\"brickID\")\n",
    "plt.show()"
   ]
  },
  {
   "cell_type": "code",
   "execution_count": 38,
   "id": "bf03d954",
   "metadata": {},
   "outputs": [
    {
     "data": {
      "image/png": "[encoded data removed]",
      "text/plain": [
       "<Figure size 432x288 with 1 Axes>"
      ]
     },
     "metadata": {
      "needs_background": "light"
     },
     "output_type": "display_data"
    }
   ],
   "source": [
    "plt.figure()\n",
    "plt.hist2d(awkward.to_numpy(tracks[\"MCTrack.fStartX\"][:,0]),awkward.to_numpy(tracks[\"MCTrack.fStartY\"][:,0]),bins=[40,40],range=[[-47.6 , -8.0 ],[15.5 , 55.1 ]])\n",
    "plt.xlabel(\"x[cm]\")\n",
    "plt.ylabel(\"y[cm]\")\n",
    "plt.plot([-27.5,-27.5],[15,55],\"r\")\n",
    "plt.plot([-50,-5],[35.1,35.1],\"r\")\n",
    "plt.show()"
   ]
  },
  {
   "cell_type": "code",
   "execution_count": 43,
   "id": "4a774e08",
   "metadata": {},
   "outputs": [
    {
     "data": {
      "image/png": "[encoded data removed]",
      "text/plain": [
       "<Figure size 432x288 with 1 Axes>"
      ]
     },
     "metadata": {
      "needs_background": "light"
     },
     "output_type": "display_data"
    }
   ],
   "source": [
    "plt.figure()\n",
    "plt.hist(awkward.to_numpy(tracks[\"MCTrack.fStartZ\"][:,0]),bins=94,range=[-26.,21.])\n",
    "plt.xlabel(\"z[cm]\")\n",
    "\n",
    "#adding lines\n",
    "plt.plot([-25.4750 , -25.4750],[0,200],\"r\")\n",
    "plt.plot([-17.6850 , -17.6850],[0,200],\"r\")\n",
    "\n",
    "plt.plot([ -15.8750 ,-15.8750],[0,200],\"r\")\n",
    "plt.plot([-8.0850,-8.0850],[0,200],\"r\")\n",
    "\n",
    "plt.plot([-6.2750  ,-6.2750],[0,200],\"r\")\n",
    "plt.plot([1.5150  ,1.5150],[0,200],\"r\")\n",
    "\n",
    "plt.plot([3.3250   ,3.3250],[0,200],\"r\")\n",
    "plt.plot([11.1150  ,11.1150],[0,200],\"r\")\n",
    "\n",
    "plt.plot([12.9250,12.9250],[0,200],\"r\")\n",
    "plt.plot([20.7150,20.7150],[0,200],\"r\")\n",
    "\n",
    "plt.show()"
   ]
  },
  {
   "cell_type": "code",
   "execution_count": null,
   "id": "410c310f",
   "metadata": {},
   "outputs": [],
   "source": []
  }
 ],
 "metadata": {
  "kernelspec": {
   "display_name": "Python 3",
   "language": "python",
   "name": "python3"
  },
  "language_info": {
   "codemirror_mode": {
    "name": "ipython",
    "version": 3
   },
   "file_extension": ".py",
   "mimetype": "text/x-python",
   "name": "python",
   "nbconvert_exporter": "python",
   "pygments_lexer": "ipython3",
   "version": "3.8.6"
  }
 },
 "nbformat": 4,
 "nbformat_minor": 5
}
