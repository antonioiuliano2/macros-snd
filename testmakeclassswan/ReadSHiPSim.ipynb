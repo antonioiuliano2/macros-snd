{
 "cells": [
  {
   "cell_type": "markdown",
   "id": "111a43b4",
   "metadata": {},
   "source": [
    "# Reading a MakeClass Code in SWAN\n",
    "Including header and launching the file"
   ]
  },
  {
   "cell_type": "code",
   "execution_count": 1,
   "id": "fea7dea7",
   "metadata": {},
   "outputs": [],
   "source": [
    "%%cpp -d\n",
    "#define ReadSHiPSim_cxx\n",
    "#include \"ReadSHiPSim.h\"\n",
    "#include <TH2.h>\n",
    "#include <TStyle.h>\n",
    "#include <TCanvas.h>\n",
    "\n",
    "void ReadSHiPSim::Loop()\n",
    "{\n",
    "//   In a ROOT session, you can do:\n",
    "//      root> .L ReadSHiPSim.C\n",
    "//      root> ReadSHiPSim t\n",
    "//      root> t.GetEntry(12); // Fill t data members with entry number 12\n",
    "//      root> t.Show();       // Show values of entry 12\n",
    "//      root> t.Show(16);     // Read and show values of entry 16\n",
    "//      root> t.Loop();       // Loop on all entries\n",
    "//\n",
    "\n",
    "//     This is the loop skeleton where:\n",
    "//    jentry is the global entry number in the chain\n",
    "//    ientry is the entry number in the current Tree\n",
    "//  Note that the argument to GetEntry must be:\n",
    "//    jentry for TChain::GetEntry\n",
    "//    ientry for TTree::GetEntry and TBranch::GetEntry\n",
    "//\n",
    "//       To read only selected branches, Insert statements like:\n",
    "// METHOD1:\n",
    "//    fChain->SetBranchStatus(\"*\",0);  // disable all branches\n",
    "//    fChain->SetBranchStatus(\"branchname\",1);  // activate branchname\n",
    "// METHOD2: replace line\n",
    "//    fChain->GetEntry(jentry);       //read all branches\n",
    "//by  b_branchname->GetEntry(ientry); //read only this branch\n",
    "   if (fChain == 0) return;\n",
    "\n",
    "   Long64_t nentries = fChain->GetEntriesFast();\n",
    "\n",
    "   Long64_t nbytes = 0, nb = 0;\n",
    "   //defining histograms \n",
    "   TFile *outputfile = new TFile(\"savingtesthisto.root\",\"RECREATE\");\n",
    "   TH1D *htesthisto = new TH1D(\"htesthisto\",\"Test histogram for the loop;Pz[GeV/c]\",400,0,400); \n",
    "    \n",
    "   //Start of loop over entries\n",
    "   cout<<\"Looping over \"<<nentries<<\" entries \"<<endl;\n",
    "   for (Long64_t jentry=0; jentry<nentries;jentry++) {\n",
    "      Long64_t ientry = LoadTree(jentry);\n",
    "      if (ientry < 0) break;\n",
    "      nb = fChain->GetEntry(jentry);   nbytes += nb;\n",
    "      // if (Cut(ientry) < 0) continue;\n",
    "      htesthisto->Fill(MCTrack_fPz[0]);\n",
    "   }\n",
    "   //saving histogram\n",
    "   outputfile->cd();\n",
    "   htesthisto->Write();\n",
    "   outputfile->Close();\n",
    "} //end of program"
   ]
  },
  {
   "cell_type": "code",
   "execution_count": 2,
   "id": "c1c3543d",
   "metadata": {},
   "outputs": [
    {
     "name": "stdout",
     "output_type": "stream",
     "text": [
      "(ReadSHiPSim &) @0x7f6208256010\n"
     ]
    },
    {
     "name": "stderr",
     "output_type": "stream",
     "text": [
      "Warning in <TClass::Init>: no dictionary for class ShipMCTrack is available\n",
      "Warning in <TClass::Init>: no dictionary for class vetoPoint is available\n",
      "Warning in <TClass::Init>: no dictionary for class FairMCPoint is available\n",
      "Warning in <TClass::Init>: no dictionary for class FairMultiLinkedData_Interface is available\n",
      "Warning in <TClass::Init>: no dictionary for class FairMultiLinkedData is available\n",
      "Warning in <TClass::Init>: no dictionary for class FairLink is available\n",
      "Warning in <TClass::Init>: no dictionary for class ShipRpcPoint is available\n",
      "Warning in <TClass::Init>: no dictionary for class TargetPoint is available\n",
      "Warning in <TClass::Init>: no dictionary for class TTPoint is available\n",
      "Warning in <TClass::Init>: no dictionary for class HptPoint is available\n",
      "Warning in <TClass::Init>: no dictionary for class strawtubesPoint is available\n",
      "Warning in <TClass::Init>: no dictionary for class ecalPoint is available\n",
      "Warning in <TClass::Init>: no dictionary for class hcalPoint is available\n",
      "Warning in <TClass::Init>: no dictionary for class muonPoint is available\n",
      "Warning in <TClass::Init>: no dictionary for class TimeDetPoint is available\n",
      "Warning in <TClass::Init>: no dictionary for class FairMCEventHeader is available\n",
      "Warning in <TClass::Init>: no dictionary for class FairFileHeader is available\n"
     ]
    }
   ],
   "source": [
    "TFile *inputfile = TFile::Open(\"/eos/user/a/aiulian/file_Martina/Background_Sim_Martina/Background_Sim/nu_mu/elastic/ship.conical.Genie-TGeant4.root\");\n",
    "TTree *mytree = (TTree*) inputfile->Get(\"cbmsim\");\n",
    "ReadSHiPSim t = ReadSHiPSim(mytree)"
   ]
  },
  {
   "cell_type": "markdown",
   "id": "729b8add",
   "metadata": {},
   "source": [
    "# Accessing a single entry and checking a variable"
   ]
  },
  {
   "cell_type": "code",
   "execution_count": 3,
   "id": "b8f437bc",
   "metadata": {},
   "outputs": [
    {
     "name": "stdout",
     "output_type": "stream",
     "text": [
      "(int) 10563\n"
     ]
    }
   ],
   "source": [
    "t.GetEntry(0)"
   ]
  },
  {
   "cell_type": "code",
   "execution_count": 4,
   "id": "608ea68d",
   "metadata": {},
   "outputs": [
    {
     "name": "stdout",
     "output_type": "stream",
     "text": [
      "(int) 14\n"
     ]
    }
   ],
   "source": [
    "t.MCTrack_fPdgCode[0]"
   ]
  },
  {
   "cell_type": "markdown",
   "id": "07ba4eb1",
   "metadata": {},
   "source": [
    "# Performing the actual loop"
   ]
  },
  {
   "cell_type": "code",
   "execution_count": 5,
   "id": "4c95c720",
   "metadata": {},
   "outputs": [
    {
     "name": "stdout",
     "output_type": "stream",
     "text": [
      "Looping over 100000 entries \n"
     ]
    }
   ],
   "source": [
    "t.Loop()"
   ]
  },
  {
   "cell_type": "markdown",
   "id": "28dce231",
   "metadata": {},
   "source": [
    "# Reading produced file with histograms"
   ]
  },
  {
   "cell_type": "code",
   "execution_count": 6,
   "id": "f0dc9366",
   "metadata": {},
   "outputs": [
    {
     "name": "stdout",
     "output_type": "stream",
     "text": [
      "(TFile *) 0x7f61e44bb080\n"
     ]
    }
   ],
   "source": [
    "TFile * histfile = TFile::Open(\"savingtesthisto.root\")"
   ]
  },
  {
   "cell_type": "code",
   "execution_count": 7,
   "id": "a22a8a9b",
   "metadata": {},
   "outputs": [
    {
     "name": "stdout",
     "output_type": "stream",
     "text": [
      "TFile**\t\tsavingtesthisto.root\t\n",
      " TFile*\t\tsavingtesthisto.root\t\n",
      "  KEY: TH1D\thtesthisto;1\tTest histogram for the loop\n"
     ]
    }
   ],
   "source": [
    "histfile->ls()"
   ]
  },
  {
   "cell_type": "code",
   "execution_count": 8,
   "id": "1faf53bc",
   "metadata": {},
   "outputs": [
    {
     "data": {
      "image/png": "[encoded data removed]",
      "text/plain": [
       "<IPython.core.display.Image object>"
      ]
     },
     "metadata": {},
     "output_type": "display_data"
    }
   ],
   "source": [
    "TH1D *htesthisto = (TH1D*) histfile->Get(\"htesthisto\");\n",
    "TCanvas *c = new TCanvas();\n",
    "htesthisto->Draw();\n",
    "c->Draw();"
   ]
  },
  {
   "cell_type": "code",
   "execution_count": null,
   "id": "2e057bd6",
   "metadata": {},
   "outputs": [],
   "source": []
  }
 ],
 "metadata": {
  "kernelspec": {
   "display_name": "ROOT C++",
   "language": "c++",
   "name": "root"
  },
  "language_info": {
   "codemirror_mode": "text/x-c++src",
   "file_extension": ".C",
   "mimetype": " text/x-c++src",
   "name": "c++"
  }
 },
 "nbformat": 4,
 "nbformat_minor": 5
}
