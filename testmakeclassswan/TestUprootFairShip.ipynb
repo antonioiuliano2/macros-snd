{
 "cells": [
  {
   "cell_type": "markdown",
   "id": "c9d293f0",
   "metadata": {},
   "source": [
    "# Quick Uproot test\n",
    "Just a quick test to check that uproot can open the old FairShip simulation"
   ]
  },
  {
   "cell_type": "code",
   "execution_count": 1,
   "id": "8c8f52b0",
   "metadata": {},
   "outputs": [],
   "source": [
    "import uproot"
   ]
  },
  {
   "cell_type": "code",
   "execution_count": 2,
   "id": "98f40aaa",
   "metadata": {},
   "outputs": [],
   "source": [
    "inputfile = uproot.open(\"/eos/user/a/aiulian/file_Martina/Background_Sim_Martina/Background_Sim/nu_e/elastic/ship.conical.Genie-TGeant4.root\")\n",
    "inputtree = inputfile[\"cbmsim\"]"
   ]
  },
  {
   "cell_type": "code",
   "execution_count": 11,
   "id": "b017c948",
   "metadata": {},
   "outputs": [],
   "source": [
    "mctrackinfo = inputtree.arrays([\"MCTrack.fStartX\",\"MCTrack.fStartY\",\"MCTrack.fStartZ\",\"MCTrack.fPx\",\"MCTrack.fPy\",\"MCTrack.fPz\",\"MCTrack.fPdgCode\",\"MCTrack.fMotherId\"],\n",
    "                               entry_start=0,entry_stop=1) #reading only entry 0"
   ]
  },
  {
   "cell_type": "code",
   "execution_count": 14,
   "id": "27391aeb",
   "metadata": {},
   "outputs": [
    {
     "data": {
      "text/plain": [
       "<Array [... 22, 22, 22, 22, 22, -11, 22, 22]] type='1 * var * int32'>"
      ]
     },
     "execution_count": 14,
     "metadata": {},
     "output_type": "execute_result"
    }
   ],
   "source": [
    "mctrackinfo[\"MCTrack.fPdgCode\"]"
   ]
  },
  {
   "cell_type": "markdown",
   "id": "9922598e",
   "metadata": {},
   "source": [
    "For these old simulations, we need to provide the interpretation for MCPoint float variables"
   ]
  },
  {
   "cell_type": "code",
   "execution_count": 17,
   "id": "c7d7790f",
   "metadata": {},
   "outputs": [],
   "source": [
    "floatinterpretation = inputtree[\"MCTrack.fPx\"].interpretation"
   ]
  },
  {
   "cell_type": "code",
   "execution_count": 20,
   "id": "bef2d459",
   "metadata": {},
   "outputs": [],
   "source": [
    "ttpx = inputtree[\"TTPoint.fPx\"].array(floatinterpretation,entry_start=0,entry_stop=100)"
   ]
  },
  {
   "cell_type": "code",
   "execution_count": 21,
   "id": "e02c6d2b",
   "metadata": {},
   "outputs": [
    {
     "data": {
      "text/plain": [
       "<Array [[], [], ... 0.000469, -0.000469]] type='100 * var * float64'>"
      ]
     },
     "execution_count": 21,
     "metadata": {},
     "output_type": "execute_result"
    }
   ],
   "source": [
    "ttpx"
   ]
  },
  {
   "cell_type": "code",
   "execution_count": null,
   "id": "e50d2148",
   "metadata": {},
   "outputs": [],
   "source": []
  }
 ],
 "metadata": {
  "kernelspec": {
   "display_name": "Python 3",
   "language": "python",
   "name": "python3"
  },
  "language_info": {
   "codemirror_mode": {
    "name": "ipython",
    "version": 3
   },
   "file_extension": ".py",
   "mimetype": "text/x-python",
   "name": "python",
   "nbconvert_exporter": "python",
   "pygments_lexer": "ipython3",
   "version": "3.9.6"
  }
 },
 "nbformat": 4,
 "nbformat_minor": 5
}
