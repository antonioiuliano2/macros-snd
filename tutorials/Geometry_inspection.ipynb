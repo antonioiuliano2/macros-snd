{
 "cells": [
  {
   "cell_type": "markdown",
   "metadata": {
    "slideshow": {
     "slide_type": "slide"
    }
   },
   "source": [
    "# Inspecting geometry information\n",
    "We often would like to check the geometry of our simulation: the size of a volume or its material, for example. Information concerning the geometry is saved along the simulation output, in the `geofile`. FairShip itself provides a macro to read this file: $FAIRSHIP/macro/getGeoInformation.py. I have copied the script in this folder to run it together and load the geometry\n",
    "\n",
    "## Output of the script\n",
    "Launching it with only the -g option (requiring the geofile), will print only the information of the mother volumes, the one directly below the top volume:"
   ]
  },
  {
   "cell_type": "code",
   "execution_count": 1,
   "metadata": {},
   "outputs": [],
   "source": [
    "# we need to copy the geometry file from EOS here.\n",
    "inputgeofile = \"/eos/user/a/aiuliano/public/sims_FairShip/sim_snd/numuCCDIS_10_11_2020/geofile_full.conical.Genie-TGeant4.root\"\n",
    "!cp $inputgeofile ./"
   ]
  },
  {
   "cell_type": "code",
   "execution_count": 2,
   "metadata": {
    "slideshow": {
     "slide_type": "subslide"
    }
   },
   "outputs": [
    {
     "name": "stdout",
     "output_type": "stream",
     "text": [
      "Welcome to JupyROOT 6.20/06\n",
      "   Detector element             z(midpoint)     halflength       volume-start volume-end   dx                x-start       x-end       dy                y-start       y-end         material\n",
      "volTarget_1                 : z=    0.0000cm  dZ=   27.4888cm  [  -27.4888      27.4888] dx=   20.5000cm [    8.0000      49.0000] dy=   20.5000cm [   15.5000      56.5000]                  air\n",
      "floor_1                     : z=   80.0000cm  dZ=  130.0000cm  [  -50.0000     210.0000] dx=   50.0000cm [  -20.0000      80.0000] dy=   34.0000cm [  -60.0000       8.0000]             Concrete\n",
      "volMuFilter_1               : z=  118.4888cm  dZ=   91.0000cm  [   27.4888     209.4888] dx=   31.0000cm [   -2.5000      59.5000] dy=   33.2500cm [    3.5500      70.0500]                  air\n"
     ]
    }
   ],
   "source": [
    "run getGeoInformation.py -g geofile_full.conical.Genie-TGeant4.root"
   ]
  },
  {
   "cell_type": "markdown",
   "metadata": {
    "slideshow": {
     "slide_type": "slide"
    }
   },
   "source": [
    "We can see the half dimensions, position and material of the volume. We can insect the daughters of a specific volume by adding the option `-v volumname -l daugtherlevel`:"
   ]
  },
  {
   "cell_type": "code",
   "execution_count": 3,
   "metadata": {
    "slideshow": {
     "slide_type": "subslide"
    }
   },
   "outputs": [
    {
     "name": "stdout",
     "output_type": "stream",
     "text": [
      "   Detector element             z(midpoint)     halflength       volume-start volume-end   dx                x-start       x-end       dy                y-start       y-end         material\n",
      "volTarget_1                 : z=    0.0000cm  dZ=   27.4888cm  [  -27.4888      27.4888] dx=   20.5000cm [    8.0000      49.0000] dy=   20.5000cm [   15.5000      56.5000]                  air\n",
      "floor_1                     : z=   80.0000cm  dZ=  130.0000cm  [  -50.0000     210.0000] dx=   50.0000cm [  -20.0000      80.0000] dy=   34.0000cm [  -60.0000       8.0000]             Concrete\n",
      "volMuFilter_1               : z=  118.4888cm  dZ=   91.0000cm  [   27.4888     209.4888] dx=   31.0000cm [   -2.5000      59.5000] dy=   33.2500cm [    3.5500      70.0500]                  air\n"
     ]
    },
    {
     "name": "stderr",
     "output_type": "stream",
     "text": [
      "Warning in <TGeoManager::Init>: Deleting previous geometry: FAIRGeom/FAIR geometry\n",
      "Info in <TGeoManager::CloseGeometry>: Geometry loaded from file...\n",
      "Info in <TGeoManager::SetTopVolume>: Top volume is cave. Master volume is cave\n",
      "Info in <TGeoManager::Voxelize>: Voxelizing...\n",
      "Info in <TGeoManager::CountLevels>: max level = 3, max placements = 154\n",
      "Info in <TGeoManager::CloseGeometry>: 1113 nodes/ 15 volume UID's in FAIR geometry\n",
      "Info in <TGeoManager::CloseGeometry>: ----------------modeler ready----------------\n"
     ]
    }
   ],
   "source": [
    "run getGeoInformation.py -g geofile_full.conical.Genie-TGeant4.root -v MuonFilter_1 -l 1"
   ]
  },
  {
   "cell_type": "markdown",
   "metadata": {
    "slideshow": {
     "slide_type": "slide"
    }
   },
   "source": [
    "## Accesing information about a specific volume\n",
    "Of course, finding a specific volume in this way is quite time-consuming, especially if our desired volume is many levels below the top volume. However, we can directly get our volume by his name thanks to the gGeoManager"
   ]
  },
  {
   "cell_type": "code",
   "execution_count": 4,
   "metadata": {
    "slideshow": {
     "slide_type": "subslide"
    }
   },
   "outputs": [
    {
     "data": {
      "text/plain": [
       "<ROOT.TGeoVolume object (\"volTarget\") at 0x6440340>"
      ]
     },
     "execution_count": 4,
     "metadata": {},
     "output_type": "execute_result"
    }
   ],
   "source": [
    "volTarget = fGeo.GetVolume(\"volTarget\")\n",
    "volTarget"
   ]
  },
  {
   "cell_type": "markdown",
   "metadata": {
    "slideshow": {
     "slide_type": "slide"
    }
   },
   "source": [
    "For example, let us ask the half-sizes of our shapes. Remind: different shapes have different size definitions. Vol Target is a simple box, thus we can ask its (DX,DY,DZ) half-dimensions:"
   ]
  },
  {
   "cell_type": "code",
   "execution_count": 5,
   "metadata": {
    "slideshow": {
     "slide_type": "subslide"
    }
   },
   "outputs": [
    {
     "name": "stdout",
     "output_type": "stream",
     "text": [
      "Our target has half-dimensions: (20.5,20.5,27.5) cm\n"
     ]
    }
   ],
   "source": [
    "dx = volTarget.GetShape().GetDX()\n",
    "dy = volTarget.GetShape().GetDY()\n",
    "dz = volTarget.GetShape().GetDZ()\n",
    "print (\"Our target has half-dimensions: ({:.1f},{:.1f},{:.1f}) cm\".format(dx,dy,dz))"
   ]
  },
  {
   "cell_type": "markdown",
   "metadata": {
    "slideshow": {
     "slide_type": "slide"
    }
   },
   "source": [
    "Another example: often we need the Weight of a volume to predict the number of interactions in it, given the cross section. Let us ask for this quantity:"
   ]
  },
  {
   "cell_type": "code",
   "execution_count": 6,
   "metadata": {
    "slideshow": {
     "slide_type": "subslide"
    }
   },
   "outputs": [
    {
     "data": {
      "text/plain": [
       "864.2794260000016"
      ]
     },
     "execution_count": 6,
     "metadata": {},
     "output_type": "execute_result"
    },
    {
     "name": "stderr",
     "output_type": "stream",
     "text": [
      "Info in <TGeoManager::Weight>: Computing analytically weight of volTarget\n",
      "Info in <TGeoManager::Weight>: Computed weight: 864.279426 [kg]\n",
      "\n"
     ]
    }
   ],
   "source": [
    "volTarget.Weight()"
   ]
  },
  {
   "cell_type": "markdown",
   "metadata": {
    "slideshow": {
     "slide_type": "slide"
    }
   },
   "source": [
    "As you notice from the printout, the weight is not a member of the volume, which can automatically be called from the class. It is a computation, by looping on daughters and getting density, more information can be found on TGeoVolume reference: https://root.cern.ch/doc/master/classTGeoVolume.html#a4fe233342614a24c755c34edaca5bbd2, along with all the other functions you can use.\n",
    "\n",
    "For example, we can ask for shape and material properties with a nice printout:"
   ]
  },
  {
   "cell_type": "code",
   "execution_count": 7,
   "metadata": {
    "slideshow": {
     "slide_type": "subslide"
    }
   },
   "outputs": [
    {
     "name": "stdout",
     "output_type": "stream",
     "text": [
      "*** Shape TargetBox: TGeoBBox ***\n",
      "    dX =    20.50000\n",
      "    dY =    20.50000\n",
      "    dZ =    27.48875\n",
      "    origin: x=    0.00000 y=    0.00000 z=    0.00000\n"
     ]
    }
   ],
   "source": [
    "volTarget.InspectShape()"
   ]
  },
  {
   "cell_type": "code",
   "execution_count": 8,
   "metadata": {
    "slideshow": {
     "slide_type": "subslide"
    }
   },
   "outputs": [
    {
     "name": "stdout",
     "output_type": "stream",
     "text": [
      "Mixture air    Aeff=14.8329 Zeff=7.385 rho=0.001205 radlen=30245.4 intlen=71036.3 index=3\n",
      "   Element #0 : N  Z=  7.00 A= 14.01 w= 0.755\n",
      "   Element #1 : O  Z=  8.00 A= 16.00 w= 0.231\n",
      "   Element #2 : AR  Z= 18.00 A= 39.95 w= 0.014\n"
     ]
    }
   ],
   "source": [
    "volTarget.InspectMaterial()"
   ]
  },
  {
   "cell_type": "code",
   "execution_count": null,
   "metadata": {},
   "outputs": [],
   "source": []
  },
  {
   "cell_type": "code",
   "execution_count": null,
   "metadata": {},
   "outputs": [],
   "source": []
  },
  {
   "cell_type": "code",
   "execution_count": null,
   "metadata": {},
   "outputs": [],
   "source": []
  }
 ],
 "metadata": {
  "celltoolbar": "Slideshow",
  "kernelspec": {
   "display_name": "Python 3",
   "language": "python",
   "name": "python3"
  },
  "language_info": {
   "codemirror_mode": {
    "name": "ipython",
    "version": 3
   },
   "file_extension": ".py",
   "mimetype": "text/x-python",
   "name": "python",
   "nbconvert_exporter": "python",
   "pygments_lexer": "ipython3",
   "version": "3.7.6"
  }
 },
 "nbformat": 4,
 "nbformat_minor": 2
}
