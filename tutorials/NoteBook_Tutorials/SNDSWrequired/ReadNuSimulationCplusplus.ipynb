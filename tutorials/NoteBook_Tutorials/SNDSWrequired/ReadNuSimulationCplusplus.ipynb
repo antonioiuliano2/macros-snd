{
 "cells": [
  {
   "cell_type": "markdown",
   "id": "f45abd44",
   "metadata": {
    "slideshow": {
     "slide_type": "slide"
    }
   },
   "source": [
    "# Script to study MCTrue neutrino interactions in C++\n",
    "\n",
    "Here, some very basic information covered:\n",
    "\n",
    "* What does the tree contain (tracks, MCPoints);\n",
    "\n",
    "* Some common used functions\n",
    "\n",
    "First, we define a function to get particle charge from its MonteCarlo PdgCode: https://pdg.lbl.gov/2007/reviews/montecarlorpp.pdf"
   ]
  },
  {
   "cell_type": "code",
   "execution_count": 1,
   "id": "63fcb80e",
   "metadata": {
    "slideshow": {
     "slide_type": "subslide"
    }
   },
   "outputs": [],
   "source": [
    "double GetParticleCharge (int pdgcode, TDatabasePDG *pdg){\n",
    "  //from PDG, get charge\n",
    "  double charge = 0.;\n",
    "  if (pdg->GetParticle(pdgcode)) charge = pdg->GetParticle(pdgcode)->Charge();\n",
    "  else if (pdgcode > 1e+8) charge = 1.; //these are heavy nuclei, for now we give them charge 1.Add a decode function with info from (https://pdg.lbl.gov/2007/reviews/montecarlorpp.pdf)\n",
    "  return charge;\n",
    "}"
   ]
  },
  {
   "cell_type": "markdown",
   "id": "656fbc4b",
   "metadata": {
    "slideshow": {
     "slide_type": "slide"
    }
   },
   "source": [
    "## Importing the simulation file\n",
    "\n",
    "We import the simulation files. We usually produce many small simulation files in parallel, and we merge them in a chain\n",
    "\n",
    "The simulation file is usually called **cbmsim** "
   ]
  },
  {
   "cell_type": "code",
   "execution_count": 2,
   "id": "039dcec4",
   "metadata": {
    "slideshow": {
     "slide_type": "subslide"
    }
   },
   "outputs": [],
   "source": [
    "TChain treechain(\"cbmsim\");\n",
    "//newest simulation files from Cristovao Vilela\n",
    "treechain.Add(\"/eos/user/a/aiulian/sim_snd/cristovao_simulation_sndlhc_13TeV_down_volTarget_SNDG18_02a_01_000/128/sndLHC.Genie-TGeant4.root\");\n",
    "treechain.Add(\"/eos/user/a/aiulian/sim_snd/cristovao_simulation_sndlhc_13TeV_down_volTarget_SNDG18_02a_01_000/206/sndLHC.Genie-TGeant4.root\");\n",
    "treechain.Add(\"/eos/user/a/aiulian/sim_snd/cristovao_simulation_sndlhc_13TeV_down_volTarget_SNDG18_02a_01_000/209/sndLHC.Genie-TGeant4.root\");\n",
    "treechain.Add(\"/eos/user/a/aiulian/sim_snd/cristovao_simulation_sndlhc_13TeV_down_volTarget_SNDG18_02a_01_000/211/sndLHC.Genie-TGeant4.root\");\n",
    "treechain.Add(\"/eos/user/a/aiulian/sim_snd/cristovao_simulation_sndlhc_13TeV_down_volTarget_SNDG18_02a_01_000/312/sndLHC.Genie-TGeant4.root\");\n",
    "TTreeReader reader(&treechain);\n",
    "TTreeReaderArray<ShipMCTrack> tracks(reader,\"MCTrack\");\n",
    "TTreeReaderArray<ScifiPoint> emudetpoints(reader,\"ScifiPoint\");"
   ]
  },
  {
   "cell_type": "code",
   "execution_count": 3,
   "id": "ae178d8e",
   "metadata": {
    "slideshow": {
     "slide_type": "subslide"
    }
   },
   "outputs": [],
   "source": [
    "//variables to be used in the main code\n",
    " int ievent; //event number in tree\n",
    " double weight; //statistical weight, related to density and length of tranversed material\n",
    " //primary neutrino info\n",
    " int nu_pdg, dau_pdg;\n",
    " double nu_vx, nu_vy, nu_vz, nu_p, dau_p, dau_charge;"
   ]
  },
  {
   "cell_type": "code",
   "execution_count": 4,
   "id": "3fd5b6ae",
   "metadata": {
    "slideshow": {
     "slide_type": "subslide"
    }
   },
   "outputs": [
    {
     "name": "stdout",
     "output_type": "stream",
     "text": [
      "Number of events 4034\n"
     ]
    }
   ],
   "source": [
    "const int nentries = reader.GetEntries(true);\n",
    "cout<<\"Number of events \"<<nentries<<endl;"
   ]
  },
  {
   "cell_type": "markdown",
   "id": "3e61eeba",
   "metadata": {
    "slideshow": {
     "slide_type": "slide"
    }
   },
   "source": [
    "## Preparing histograms\n",
    "\n",
    "We prepare here some simple ROOT histograms, for position and momentum.\n",
    "\n",
    "We will consider neutrinos, and charged neutrino daughters"
   ]
  },
  {
   "cell_type": "code",
   "execution_count": 5,
   "id": "8f202152",
   "metadata": {
    "slideshow": {
     "slide_type": "subslide"
    }
   },
   "outputs": [],
   "source": [
    "TH1D *hnu_p = new TH1D(\"hnu_p\",\"Neutrino momentum;P[GeV/c]\",50,0,5000);\n",
    "TH2D *hnu_vxy = new TH2D(\"hnu_vxy\",\"vxy of all considered interactions;vx[cm];vy[cm]\",120,-60,0,120,0,60);\n",
    "TH1D *hnu_vz = new TH1D(\"hnu_vz\",\"vz of all considered interactions;vz[cm]\",150,250,400);\n",
    "\n",
    "TH1D *hdau_p = new TH1D(\"hdau_p\",\"Neutrino daughter momentum;P[GeV/c]\",50,0,5000);"
   ]
  },
  {
   "cell_type": "markdown",
   "id": "79884ab8",
   "metadata": {
    "slideshow": {
     "slide_type": "slide"
    }
   },
   "source": [
    "## Main Loop\n",
    "\n",
    "We are ready for our loop.\n",
    "\n",
    "We loop over the events, and over the tracks from each event"
   ]
  },
  {
   "cell_type": "code",
   "execution_count": 6,
   "id": "999582fa",
   "metadata": {
    "slideshow": {
     "slide_type": "subslide"
    }
   },
   "outputs": [],
   "source": [
    "TDatabasePDG *pdgdatabase = TDatabasePDG::Instance();\n",
    "for(int ientry = 0;ientry<nentries;ientry++){\n",
    "   reader.SetEntry(ientry);\n",
    "   //first track is the neutrino. Nota Bene: it \"starts\" at the neutrino interaction vertex, where it actually ends! \n",
    "   //The neutrino is the only \"special case\", since we did not simulate in Geant4 neutrino propagation\n",
    "   nu_vx = tracks[0].GetStartX();\n",
    "   nu_vy = tracks[0].GetStartY();\n",
    "   nu_vz = tracks[0].GetStartZ();\n",
    "   nu_p = tracks[0].GetP();\n",
    "   //filling neutrino histograms \n",
    "   hnu_vxy->Fill(nu_vx,nu_vy);\n",
    "   hnu_vz->Fill(nu_vz);\n",
    "   hnu_p->Fill(nu_p);\n",
    "   //loop over tracks\n",
    "   for (const ShipMCTrack& track: tracks){     \n",
    "         //look for charged particles from primary vertex\n",
    "         if (track.GetMotherId()==0){ //daughter of neutrino, increasing counter at the end\n",
    "          dau_p = track.GetP();\n",
    "\n",
    "          dau_pdg = track.GetPdgCode();\n",
    "          dau_charge = GetParticleCharge(dau_pdg, pdgdatabase);\n",
    "\n",
    "          if (TMath::Abs(dau_charge) > 0) hdau_p->Fill(dau_p);\n",
    "\n",
    "         }\n",
    "   }\n",
    "}"
   ]
  },
  {
   "cell_type": "markdown",
   "id": "01592a75",
   "metadata": {
    "slideshow": {
     "slide_type": "slide"
    }
   },
   "source": [
    "## Drawing the histograms\n",
    "\n",
    "We are ready to draw the histograms. \n",
    "\n",
    "Calling **%jsroot on** allows the plots to be interactive"
   ]
  },
  {
   "cell_type": "code",
   "execution_count": 7,
   "id": "32842a67",
   "metadata": {
    "slideshow": {
     "slide_type": "subslide"
    }
   },
   "outputs": [],
   "source": [
    "%jsroot on"
   ]
  },
  {
   "cell_type": "code",
   "execution_count": 8,
   "id": "d2e5ee30",
   "metadata": {
    "slideshow": {
     "slide_type": "subslide"
    }
   },
   "outputs": [
    {
     "data": {
      "text/html": [
       "\n",
       "\n",
       "<div id=\"root_plot_1656675201273\"\n",
       "     style=\"width: 696px; height: 472px\">\n",
       "</div>\n",
       "<script>\n",
       "\n",
       "function display_root_plot_1656675201273(Core) {\n",
       "   let obj = Core.parse({\"_typename\":\"TCanvas\",\"fUniqueID\":0,\"fBits\":3342344,\"fLineColor\":1,\"fLineStyle\":1,\"fLineWidth\":1,\"fFillColor\":0,\"fFillStyle\":1001,\"fLeftMargin\":0.1,\"fRightMargin\":0.1,\"fBottomMargin\":0.1,\"fTopMargin\":0.1,\"fXfile\":2,\"fYfile\":2,\"fAfile\":1,\"fXstat\":0.99,\"fYstat\":0.99,\"fAstat\":2,\"fFrameFillColor\":0,\"fFrameLineColor\":1,\"fFrameFillStyle\":1001,\"fFrameLineStyle\":1,\"fFrameLineWidth\":1,\"fFrameBorderSize\":1,\"fFrameBorderMode\":0,\"fX1\":0,\"fY1\":0,\"fX2\":1,\"fY2\":1,\"fXtoAbsPixelk\":5e-5,\"fXtoPixelk\":5e-5,\"fXtoPixel\":696,\"fYtoAbsPixelk\":472.00005,\"fYtoPixelk\":472.00005,\"fYtoPixel\":-472,\"fUtoAbsPixelk\":5e-5,\"fUtoPixelk\":5e-5,\"fUtoPixel\":696,\"fVtoAbsPixelk\":472.00005,\"fVtoPixelk\":472,\"fVtoPixel\":-472,\"fAbsPixeltoXk\":0,\"fPixeltoXk\":0,\"fPixeltoX\":0.0014367816091954,\"fAbsPixeltoYk\":1,\"fPixeltoYk\":0,\"fPixeltoY\":-0.00211864406779661,\"fXlowNDC\":0,\"fYlowNDC\":0,\"fXUpNDC\":1,\"fYUpNDC\":1,\"fWNDC\":1,\"fHNDC\":1,\"fAbsXlowNDC\":0,\"fAbsYlowNDC\":0,\"fAbsWNDC\":1,\"fAbsHNDC\":1,\"fUxmin\":0,\"fUymin\":0,\"fUxmax\":1,\"fUymax\":1,\"fTheta\":30,\"fPhi\":30,\"fAspectRatio\":0,\"fNumber\":0,\"fTickx\":0,\"fTicky\":0,\"fLogx\":0,\"fLogy\":0,\"fLogz\":0,\"fPadPaint\":0,\"fCrosshair\":0,\"fCrosshairPos\":0,\"fBorderSize\":2,\"fBorderMode\":0,\"fModified\":false,\"fGridx\":false,\"fGridy\":false,\"fAbsCoord\":false,\"fEditable\":true,\"fFixedAspectRatio\":false,\"fPrimitives\":{\"_typename\":\"TList\",\"name\":\"TList\",\"arr\":[{\"_typename\":\"TPad\",\"fUniqueID\":0,\"fBits\":9,\"fLineColor\":1,\"fLineStyle\":1,\"fLineWidth\":1,\"fFillColor\":0,\"fFillStyle\":1001,\"fLeftMargin\":0.1,\"fRightMargin\":0.1,\"fBottomMargin\":0.1,\"fTopMargin\":0.1,\"fXfile\":2,\"fYfile\":2,\"fAfile\":1,\"fXstat\":0.99,\"fYstat\":0.99,\"fAstat\":2,\"fFrameFillColor\":0,\"fFrameLineColor\":1,\"fFrameFillStyle\":1001,\"fFrameLineStyle\":1,\"fFrameLineWidth\":1,\"fFrameBorderSize\":1,\"fFrameBorderMode\":0,\"fX1\":-67.5000005587936,\"fY1\":-7.50000055879358,\"fX2\":7.50000055879358,\"fY2\":67.5000005587936,\"fXtoAbsPixelk\":620.832046058941,\"fXtoPixelk\":613.872046214509,\"fXtoPixel\":9.09439986863136,\"fYtoAbsPixelk\":208.624048733997,\"fYtoPixelk\":203.904048839497,\"fYtoPixel\":-3.02079995779991,\"fUtoAbsPixelk\":6.96004984443188,\"fUtoPixelk\":5e-5,\"fUtoPixel\":682.080000311136,\"fVtoAbsPixelk\":231.2800501055,\"fVtoPixelk\":226.560000211,\"fVtoPixel\":-226.560000211,\"fAbsPixeltoXk\":-68.2653066751915,\"fPixeltoXk\":-67.5000005587936,\"fPixeltoX\":0.109957777802274,\"fAbsPixeltoYk\":69.0625005456968,\"fPixeltoYk\":-7.50000055879358,\"fPixeltoY\":-0.33103814021777,\"fXlowNDC\":0.00999999977648258,\"fYlowNDC\":0.509999999776483,\"fXUpNDC\":0.990000000223517,\"fYUpNDC\":0.990000000223517,\"fWNDC\":0.980000000447035,\"fHNDC\":0.480000000447035,\"fAbsXlowNDC\":0.00999999977648258,\"fAbsYlowNDC\":0.509999999776483,\"fAbsWNDC\":0.980000000447035,\"fAbsHNDC\":0.480000000447035,\"fUxmin\":-60,\"fUymin\":0,\"fUxmax\":0,\"fUymax\":60,\"fTheta\":30,\"fPhi\":30,\"fAspectRatio\":0,\"fNumber\":1,\"fTickx\":0,\"fTicky\":0,\"fLogx\":0,\"fLogy\":0,\"fLogz\":0,\"fPadPaint\":0,\"fCrosshair\":0,\"fCrosshairPos\":0,\"fBorderSize\":2,\"fBorderMode\":0,\"fModified\":false,\"fGridx\":false,\"fGridy\":false,\"fAbsCoord\":false,\"fEditable\":true,\"fFixedAspectRatio\":false,\"fPrimitives\":{\"_typename\":\"TList\",\"name\":\"TList\",\"arr\":[{\"_typename\":\"TFrame\",\"fUniqueID\":0,\"fBits\":8,\"fLineColor\":1,\"fLineStyle\":1,\"fLineWidth\":1,\"fFillColor\":0,\"fFillStyle\":1001,\"fX1\":-60,\"fY1\":0,\"fX2\":0,\"fY2\":60,\"fBorderSize\":1,\"fBorderMode\":0},{\"_typename\":\"TH2D\",\"fUniqueID\":0,\"fBits\":8,\"fName\":\"hnu_vxy\",\"fTitle\":\"vxy of all considered interactions\",\"fLineColor\":602,\"fLineStyle\":1,\"fLineWidth\":1,\"fFillColor\":0,\"fFillStyle\":1001,\"fMarkerColor\":1,\"fMarkerStyle\":1,\"fMarkerSize\":1,\"fNcells\":14884,\"fXaxis\":{\"_typename\":\"TAxis\",\"fUniqueID\":0,\"fBits\":0,\"fName\":\"xaxis\",\"fTitle\":\"vx[cm]\",\"fNdivisions\":510,\"fAxisColor\":1,\"fLabelColor\":1,\"fLabelFont\":42,\"fLabelOffset\":0.005,\"fLabelSize\":0.035,\"fTickLength\":0.03,\"fTitleOffset\":1,\"fTitleSize\":0.035,\"fTitleColor\":1,\"fTitleFont\":42,\"fNbins\":120,\"fXmin\":-60,\"fXmax\":0,\"fXbins\":[],\"fFirst\":0,\"fLast\":0,\"fBits2\":0,\"fTimeDisplay\":false,\"fTimeFormat\":\"\",\"fLabels\":null,\"fModLabs\":null},\"fYaxis\":{\"_typename\":\"TAxis\",\"fUniqueID\":0,\"fBits\":0,\"fName\":\"yaxis\",\"fTitle\":\"vy[cm]\",\"fNdivisions\":510,\"fAxisColor\":1,\"fLabelColor\":1,\"fLabelFont\":42,\"fLabelOffset\":0.005,\"fLabelSize\":0.035,\"fTickLength\":0.03,\"fTitleOffset\":0,\"fTitleSize\":0.035,\"fTitleColor\":1,\"fTitleFont\":42,\"fNbins\":120,\"fXmin\":0,\"fXmax\":60,\"fXbins\":[],\"fFirst\":0,\"fLast\":0,\"fBits2\":0,\"fTimeDisplay\":false,\"fTimeFormat\":\"\",\"fLabels\":null,\"fModLabs\":null},\"fZaxis\":{\"_typename\":\"TAxis\",\"fUniqueID\":0,\"fBits\":0,\"fName\":\"zaxis\",\"fTitle\":\"\",\"fNdivisions\":510,\"fAxisColor\":1,\"fLabelColor\":1,\"fLabelFont\":42,\"fLabelOffset\":0.005,\"fLabelSize\":0.035,\"fTickLength\":0.03,\"fTitleOffset\":1,\"fTitleSize\":0.035,\"fTitleColor\":1,\"fTitleFont\":42,\"fNbins\":1,\"fXmin\":0,\"fXmax\":1,\"fXbins\":[],\"fFirst\":0,\"fLast\":0,\"fBits2\":0,\"fTimeDisplay\":false,\"fTimeFormat\":\"\",\"fLabels\":null,\"fModLabs\":null},\"fBarOffset\":0,\"fBarWidth\":1000,\"fEntries\":4034,\"fTsumw\":4034,\"fTsumw2\":4034,\"fTsumwx\":-96210.4809980392,\"fTsumwx2\":2807753.86501629,\"fMaximum\":-1111,\"fMinimum\":-1111,\"fNormFactor\":0,\"fContour\":{\"$arr\":\"Float64\",\"len\":20,\"p\":1,\"v\":[1.15,2.3,3.45,4.6,5.75,6.9,8.05,9.2,10.35,11.5,12.65,13.8,14.95,16.1,17.25,18.4,19.55,20.7,21.85]},\"fSumw2\":[],\"fOption\":\"\",\"fFunctions\":{\"_typename\":\"TList\",\"name\":\"TList\",\"arr\":[{\"_typename\":\"TPaletteAxis\",\"fUniqueID\":0,\"fBits\":0,\"fLineColor\":1,\"fLineStyle\":1,\"fLineWidth\":1,\"fFillColor\":1178,\"fFillStyle\":1001,\"fX1\":0.375000005587936,\"fY1\":0,\"fX2\":3.75000005587936,\"fY2\":60,\"fX1NDC\":0.904999994039535,\"fY1NDC\":0.100000005960465,\"fX2NDC\":0.949999994039535,\"fY2NDC\":0.899999994039535,\"fBorderSize\":4,\"fInit\":1,\"fShadowColor\":1,\"fCornerRadius\":0,\"fOption\":\"br\",\"fName\":\"palette\",\"fAxis\":{\"_typename\":\"TGaxis\",\"fUniqueID\":0,\"fBits\":0,\"fLineColor\":1,\"fLineStyle\":1,\"fLineWidth\":1,\"fX1\":0,\"fY1\":0,\"fX2\":0,\"fY2\":0,\"fTextAngle\":0,\"fTextSize\":0.04,\"fTextAlign\":11,\"fTextColor\":1,\"fTextFont\":42,\"fWmin\":0,\"fWmax\":0,\"fGridLength\":0,\"fTickSize\":0.03,\"fLabelOffset\":0.005,\"fLabelSize\":0.035,\"fTitleOffset\":1,\"fTitleSize\":0.035,\"fNdiv\":0,\"fLabelColor\":1,\"fLabelFont\":42,\"fNModLabs\":0,\"fChopt\":\"\",\"fName\":\"\",\"fTitle\":\"\",\"fTimeFormat\":\"\",\"fFunctionName\":\"\",\"fModLabs\":null}},{\"_typename\":\"TPaveStats\",\"fUniqueID\":0,\"fBits\":9,\"fLineColor\":1,\"fLineStyle\":1,\"fLineWidth\":1,\"fFillColor\":0,\"fFillStyle\":1001,\"fX1\":-8.99999848008152,\"fY1\":44.6250007990748,\"fX2\":6.00000196695332,\"fY2\":62.6250006649643,\"fX1NDC\":0.780000016093254,\"fY1NDC\":0.695000007748604,\"fX2NDC\":0.980000019073486,\"fY2NDC\":0.935000002384186,\"fBorderSize\":1,\"fInit\":1,\"fShadowColor\":1,\"fCornerRadius\":0,\"fOption\":\"brNDC\",\"fName\":\"stats\",\"fTextAngle\":0,\"fTextSize\":0,\"fTextAlign\":12,\"fTextColor\":1,\"fTextFont\":42,\"fLabel\":\"\",\"fLongest\":18,\"fMargin\":0.05,\"fLines\":{\"_typename\":\"TList\",\"name\":\"TList\",\"arr\":[{\"_typename\":\"TLatex\",\"fUniqueID\":0,\"fBits\":0,\"fName\":\"\",\"fTitle\":\"hnu_vxy\",\"fTextAngle\":0,\"fTextSize\":0.0368,\"fTextAlign\":0,\"fTextColor\":0,\"fTextFont\":0,\"fX\":0,\"fY\":0,\"fLineColor\":1,\"fLineStyle\":1,\"fLineWidth\":2,\"fLimitFactorSize\":3,\"fOriginSize\":0.0368000008165836},{\"_typename\":\"TLatex\",\"fUniqueID\":0,\"fBits\":0,\"fName\":\"\",\"fTitle\":\"Entries = 4034   \",\"fTextAngle\":0,\"fTextSize\":0,\"fTextAlign\":0,\"fTextColor\":0,\"fTextFont\":0,\"fX\":0,\"fY\":0,\"fLineColor\":1,\"fLineStyle\":1,\"fLineWidth\":2,\"fLimitFactorSize\":3,\"fOriginSize\":0.04},{\"_typename\":\"TLatex\",\"fUniqueID\":0,\"fBits\":0,\"fName\":\"\",\"fTitle\":\"Mean x = -23.85\",\"fTextAngle\":0,\"fTextSize\":0,\"fTextAlign\":0,\"fTextColor\":0,\"fTextFont\":0,\"fX\":0,\"fY\":0,\"fLineColor\":1,\"fLineStyle\":1,\"fLineWidth\":2,\"fLimitFactorSize\":3,\"fOriginSize\":0.04},{\"_typename\":\"TLatex\",\"fUniqueID\":0,\"fBits\":0,\"fName\":\"\",\"fTitle\":\"Mean y =  29.63\",\"fTextAngle\":0,\"fTextSize\":0,\"fTextAlign\":0,\"fTextColor\":0,\"fTextFont\":0,\"fX\":0,\"fY\":0,\"fLineColor\":1,\"fLineStyle\":1,\"fLineWidth\":2,\"fLimitFactorSize\":3,\"fOriginSize\":0.04},{\"_typename\":\"TLatex\",\"fUniqueID\":0,\"fBits\":0,\"fName\":\"\",\"fTitle\":\"Std Dev x =  11.28\",\"fTextAngle\":0,\"fTextSize\":0,\"fTextAlign\":0,\"fTextColor\":0,\"fTextFont\":0,\"fX\":0,\"fY\":0,\"fLineColor\":1,\"fLineStyle\":1,\"fLineWidth\":2,\"fLimitFactorSize\":3,\"fOriginSize\":0.04},{\"_typename\":\"TLatex\",\"fUniqueID\":0,\"fBits\":0,\"fName\":\"\",\"fTitle\":\"Std Dev y =  11.08\",\"fTextAngle\":0,\"fTextSize\":0,\"fTextAlign\":0,\"fTextColor\":0,\"fTextFont\":0,\"fX\":0,\"fY\":0,\"fLineColor\":1,\"fLineStyle\":1,\"fLineWidth\":2,\"fLimitFactorSize\":3,\"fOriginSize\":0.04}],\"opt\":[\"\",\"\",\"\",\"\",\"\",\"\"]},\"fOptFit\":0,\"fOptStat\":1111,\"fFitFormat\":\"5.4g\",\"fStatFormat\":\"6.4g\",\"fParent\":{\"$ref\":5}}],\"opt\":[\"br\",\"brNDC\"]},\"fBufferSize\":0,\"fBuffer\":[],\"fBinStatErrOpt\":0,\"fStatOverflows\":2,\"fScalefactor\":1,\"fTsumwy\":119507.584101677,\"fTsumwy2\":4036009.94373929,\"fTsumwxy\":-2885480.95211041,\"fArray\":{\"$arr\":\"Float64\",\"len\":14884,\"p\":3200,\"v\":2,\"p1\":3219,\"v1\":1,\"p2\":3259,\"v2\":2,\"p3\":3280,\"v3\":1,\"p4\":3320,\"v4\":[1,0,0,0,0,0,0,0,0,0,1,0,0,1],\"p5\":3351,\"v5\":[1,0,0,0,0,0,0,0,1],\"p6\":3379,\"v6\":[1,0,0,0,0,1,0,0,0,0,0,0,0,0,0,4,1,0,1,1,0,0,1,2],\"p7\":3452,\"v7\":[1,0,0,1,0,0,0,0,0,1],\"p8\":3493,\"v8\":[1,0,0,1,0,0,0,1,0,0,0,0,0,0,0,1,0,0,0,0,0,0,1,1,0,0,0,0,1,3,0,0,2],\"p9\":3610,\"v9\":[1,0,0,0,1,0,0,0,0,1,0,1,0,0,0,0,0,0,3,0,0,1,0,1,0,0,1,0,0,0,0,0,0,0,0,0,1,0,4],\"p10\":3700,\"v10\":[1,0,0,0,1,0,0,0,3,1,0,1,0,0,1,0,0,0,0,0,0,1,0,1,1],\"p11\":3735,\"v11\":[1,0,0,0,0,0,0,0,0,1,2,2,0,1,1,0,0,1,4,0,0,1,4,0,0,3,0,1,0,5,0,0,0,0,1],\"p12\":3817,\"v12\":[1,0,0,1,0,0,0,1,0,0,3,0,1,2,2,4,0,0,0,4,0,0,0,0,0,2,1,0,0,0,0,0,1,0,2,0,0,0,0,2,2,1,1,0,1,0,4,0,2,0,2,2,0,2,0,2,2,3,0,0,0,0,0,1,3,2,4,2,0,4,1,0,0,0,2],\"p13\":3933,\"v13\":[1,0,0,0,0,4,0,1,0,1,1,3,7,4,3,1,0,1,0,3,5,0,2,2,1,0,2,0,0,0,2,0,0,0,8,4,1,1,0,1,0,0,2,1,0,0,4,2,0,2,1,0,3,1,4,1,0,0,3,2,0,2,1,2,0,0,3,2,0,2,1,1,2,0,2,0,1,3,0,0,1],\"p14\":4058,\"v14\":[2,0,0,0,0,0,2,0,2,1,0,0,1,1,1,0,1,1,0,0,0,0,0,1,2,2,0,0,0,0,0,0,0,0,0,2,1,4,6,0,1,0,0,1,0,7,3,0,0,0,2,0,0,1,0,0,0,3,0,3,0,0,0,0,1,3,1,3,0,2,7,0,11,1,1,1,0,2],\"p15\":4176,\"v15\":1,\"p16\":4187,\"v16\":[1,0,0,1,0,0,0,0,0,14,4,2,0,0,0,0,1,0,0,2,0,0,0,0,0,4,0,8,0,0,0,2,0,1,1,0,3,0,0,1,0,2,2,0,2,0,2,1,0,0,1,3,2,3,1,0,0,0,8,5,1,0,4,0,2,3,0,0,2],\"p17\":4299,\"v17\":[1,2,0,0,0,1,0,0,0,2,0,0,4,2,0,0,0,0,2,0,6,0,0,0,2,1,1,0,0,3,0,0,2,6,1,0,1,1,0,0,1,0,1,1,0,0,4,1,1,0,0,4,0,5,1,4,1,11,5,3,4,0,0,3,0,2,0,1,1,3,0,1,4,1,1,1,1,0,0,1],\"p18\":4423,\"v18\":[1,6,4,0,0,0,1,0,5,0,3,0,0,0,0,0,0,0,7,4,0,0,0,0,2,1,2,1,0,0,2,6,0,2,0,1,4,0,0,0,0,2,1,1,0,0,0,0,6,1,1,1,1,0,1,0,0,2,0,0,0,1,0,0,1,1,4,0,1,2,1,4,0,2,2,3],\"p19\":4551,\"v19\":[2,1,0,0,0,0,0,0,0,0,1,1,0,0,0,0,0,0,0,1,0,0,1,2,0,0,0,1,0,0,1,0,0,2,0,0,1,0,0,0,12,0,0,1,0,2,0,3,4,0,0,5,1,0,1,3,2,1,2,2,7,2,0,1,9,0,1,0,2,2],\"p20\":4672,\"v20\":[2,6,3,0,1,0,0,0,1,0,9,0,0,0,1,0,0,0,2,2,0,0,1,0,0,3,2,0,0,0,1,4,0,0,1,1,0,6,3,0,2,1,1,0,0,1,3,0,2,0,0,0,0,2,1,0,2,3,1,0,0,1,3,0,2,2,2,2,0,1,2],\"p21\":4792,\"v21\":[2,0,0,0,1,0,0,0,0,1,1,0,1,0,1,0,0,0,0,0,0,2,2,0,0,1,0,2,3,2,4,2,2,0,0,2,1,2,2,0,3,1,2,5,0,0,2,1,0,0,0,0,2,0,0,0,2,0,1,0,2,7,0,1,0,6,2,2,1,6,6,1],\"p22\":4906,\"v22\":[2,0,0,2,0,1,0,1,0,0,0,0,0,0,0,1,0,0,4,0,0,0,0,0,0,1,0,0,1,1,0,0,2,0,0,0,2,0,0,0,2,0,0,2,0,0,0,0,2,0,1,9,0,0,0,8,1,2,0,0,0,1,0,0,0,3,0,23,1,0,2,0,2,0,2,1,0,2,3,0,1],\"p23\":5035,\"v23\":[3,0,0,1,0,1,0,1,0,1,0,0,4,0,0,5,2,3,0,0,0,1,2,0,2,2,2,0,4,0,0,1,0,0,0,0,0,0,9,0,3,0,0,0,1,0,0,2,0,1,1,6,0,3,0,2,0,4,9,0,0,0,7,1,2,5,5,2,6,0,0,1,0,1],\"p24\":5151,\"v24\":[1,0,1,0,0,0,0,0,5,0,0,2,1,0,0,1,0,0,1,2,0,0,1,0,0,7,0,1,0,0,0,1,0,0,0,0,0,0,0,0,2,0,0,3,0,0,0,2,2,0,1,3,0,0,0,0,0,0,0,2,1,1,2,0,0,0,0,0,0,0,15,1,4,0,4,1,3,0,4,0,0,1],\"p25\":5275,\"v25\":[2,0,0,0,6,1,0,3,0,0,4,0,0,3,0,0,0,0,0,0,1,1,0,0,0,0,0,0,0,1,0,13,2,2,0,0,1,0,0,1,2,1,1,0,6,0,3,2,0,0,0,5,0,1,0,1,0,0,2,0,0,0,0,1,1,2,2,0,2,1,2,1,0,1,0,1,2,4,1],\"p26\":5396,\"v26\":[1,0,1,0,0,1,1,1,0,0,0,0,0,0,1,3,0,1,0,0,1,0,0,0,1,0,1,2,0,0,2,0,2,0,0,2,0,1,2,1,5,0,3,2,0,4,1,3,6,0,0,0,1,0,5,0,0,0,1,6,3,0,0,0,1,3,1,0,1,0,0,3,0,0,0,1,0,2],\"p27\":5517,\"v27\":[2,0,0,2,1,2,0,0,0,0,0,0,0,2,0,0,1,0,0,0,0,0,0,1,0,2,0,0,4,0,0,1,0,1,2,0,2,0,2,0,0,0,2,0,8,0,0,0,2,0,2,0,3,0,0,0,4,0,0,18,5,5,3,0,0,1,1,0,6,1,0,0,1,0,4,0,0,2,2,0,0,0,3],\"p28\":5640,\"v28\":[2,1,0,0,3,3,0,0,0,0,0,0,3,0,0,0,0,2,2,4,1,0,1,0,4,0,0,1,0,2,0,0,0,1,2,2,0,2,0,5,1,2,0,0,0,1,0,0,0,1,1,2,0,0,0,0,0,2,5,2,0,0,0,0,0,0,0,0,4,3,2,0,0,0,1,1,0,2,2],\"p29\":5761,\"v29\":[2,0,5,0,0,0,2,0,0,0,2,1,0,0,0,0,0,0,0,1,2],\"p30\":5794,\"v30\":[6,0,0,0,1,0,2,1,0,2,1,0,3,0,0,0,0,0,2,6,2,0,0,0,4,0,0,2,0,4,0,0,0,0,3,1,3,0,1,0,4,0,1,0,0,0,0,2],\"p31\":5885,\"v31\":[2,0,1,0,0,0,0,0,2,0,0,1,0,0,0,0,1,0,7],\"p32\":5915,\"v32\":[2,0,2,2,0,1,1,2,0,0,0,1,0,0,2,0,0,0,8,0,0,3,0,2,0,2,2,0,0,0,0,5,0,0,2,1,2,3,0,1,5,2,0,1,4,1],\"p33\":6014,\"v33\":[2,0,0,1,0,1,0,1,0,0,0,1,0,0,1,2,2,0,0,0,1,0,0,0,1,1,0,0,0,0,2,0,2,0,0,0,0,2,0,0,3,1,4,1,1,2,0,0,2,0,1,2,4,3,1,5,4,7,0,2,0,0,0,0,1,0,0,1,0,0,0,0,0,1],\"p34\":6134,\"v34\":[3,0,0,0,1,0,3,10,0,0,0,1,0,0,3,2,1,1,1,0,0,1,0,5,1,0,0,2,0,0,0,2,0,0,1,1,0,0,7,1,1,0,0,0,0,1,0,0,0,0,0,1,1,2,0,0,1,1,1,0,0,1,3,2,0,2,0,1,1,0,0,0,2],\"p35\":6254,\"v35\":[2,2,0,0,0,2,2,0,0,0,0,0,1,0,0,1,0,0,1,0,1,0,1,0,0,1,0,0,3,0,2,2,1,2,1,0,0,0,0,0,0,0,1,0,0,3,1,0,1,0,2,0,0,1,0,0,2,0,0,1,0,3,0,1,3,0,0,1,0,0,0,1,1,1],\"p36\":6373,\"v36\":[2,0,0,0,0,12,0,0,1,0,2,0,2,0,0,1,0,0,0,0,1,0,0,0,0,0,0,2,0,0,1,0,4,0,0,0,0,0,0,0,1,0,0,0,0,1,2,0,8,1,0,1,0,1,0,0,3,3,0,1,2,0,2,1,0,2,0,0,2,1,0,0,0,1,3,0,7,0,0,0,2],\"p37\":6495,\"v37\":[3,0,1,0,0,1,0,0,2,1,0,0,4,1,0,1],\"p38\":6523,\"v38\":[2,0,0,0,3,2,0,0,6,0,0,0,1,0,0,0,0,0,2,0,0,0,1,1,0,5,0,8,0,4,0,3,1,0,0,0,1,0,3,3,5,0,4,0,1,5,3,3,7],\"p39\":6618,\"v39\":[1,0,0,3,0,0,0,0,0,0,0,0,0,1,1,0,0,2,0,0,1,0,0,0,1,1,2,0,0,1,0,0,0,2,0,0,0,0,0,4,0,0,4,0,0,0,0,2,0,0,2,1,1,0,0,0,0,0,0,0,2,0,2,1,0,2,1,0,0,1,0,1,0,2,0,2],\"p40\":6740,\"v40\":[5,0,0,2,0,0,2,1,0,0,2,0,0,0,2,0,1,0,0,0,0,1,4,0,0,0,0,0,2,0,0,0,1,0,0,2,2,0,0,0,0,0,0,1,0,0,0,0,0,1,2,1,0,0,0,0,0,1,2,0,1,0,0,0,3,1,0,3,0,0,1,0,0,1,1,3,2],\"p41\":6862,\"v41\":[2,1,2,1,0,0,1,0,1,0,0,0,1,0,2,0,1,0,0,0,0,1,0,0,3,0,2,1,0,0,1,0,0,0,0,0,0,0,1,2,0,1,0,0,1,1,0,1,4,2,0,1,1,2,5,0,0,2,1,1,0,0,2,0,0,0,1,0,1,0,0,0,0,0,0,2],\"p42\":6989,\"v42\":[8,0,0,0,0,0,0,0,0,1,1,0,1,0,0,0,0,0,0,3,0,2,0,1,0,0,1,0,0,1,0,0,1,0,0,1,0,0,1,3,0,0,0,0,1,0,0,0,1,0,0,0,0,0,1,1,0,0,0,0,0,1,2,0,1,0,0,0,6,0,0,2,0,0,1],\"p43\":7109,\"v43\":[1,0,1],\"p44\":7122,\"v44\":[1,0,1,1,0,0,0,4,0,0,0,0,0,1,0,4,0,1,0,0,3,0,0,2,0,0,1,0,0,1,0,0,0,3,1,0,1,4,0,7,0,1,0,0,1,0,0,0,3,0,0,2,0,0,7,2,1,0,1],\"p45\":7228,\"v45\":[1,0,0,0,1,0,0,0,1,0,1,0,1,2,2,8],\"p46\":7256,\"v46\":[1,0,2,1,2,2,2,1,2,0,3,1,0,0,1,0,0,0,0,1,2,2,1,0,0,1,0,0,2,2,1,0,0,5,0,1,0,0,1,2,1,5,0,0,0,1,1,0,0,2],\"p47\":7345,\"v47\":[2,0,0,0,1,0,0,1,0,0,0,1,0,0,0,0,1,0,0,0,0,0,0,1,0,2,2,0,0,0,0,0,1,0,0,0,1,2,2],\"p48\":7396,\"v48\":[2,0,1,0,1,0,0,0,0,0,4,0,4,0,0,0,3,4,0,1,1,2,0,0,0,0,0,1],\"p49\":7469,\"v49\":[2,0,0,0,0,0,0,1,3,0,0,0,1,1,0,0,0,1,0,0,0,0,0,0,4,0,0,0,0,0,1,2,0,0,1,0,0,1,0,0,0,1,0,0,2,0,2,0,0,0,4,0,0,0,0,3,1,0,0,0,0,0,1,1,0,0,0,0,0,2,0,2,0,0,1,0,1,1],\"p50\":7593,\"v50\":[2,0,1,2,0,0,0,0,3,1,0,0,1,1,0,0,2,0,1,0,0,0,0,0,0,0,0,5,0,0,0,5,0,0,0,0,0,2,0,2,0,0,0,0,0,2,2,0,0,0,2,1,0,0,0,1,1,0,0,0,0,0,0,8,0,0,0,0,0,0,0,1],\"p51\":7717,\"v51\":[1,0,5,0,0,1,0,0,0,0,0,1,3],\"p52\":7740,\"v52\":[6,0,0,0,1,0,0,1,2,6,1,1,1],\"p53\":7769,\"v53\":[2,0,2,0,0,0,0,0,0,4,0,4,0,2,0,5,0,0,0,0,1],\"p54\":7840,\"v54\":[1,0,0,0,0,0,0,0,0,1,0,2,0,1,0,0,0,0,0,1,3,0,0,0,1,0,0,1,1,0,0,0,2,0,0,0,0,0,15,0,3,0,0,0,0,0,0,2,0,1,2,2,0,0,0,0,0,2,0,1,2,2,0,3,4,0,0,1,0,0,0,1,0,0,0,1,1],\"p55\":7959,\"v55\":[3,0,0,0,0,2,1,0,0,0,1,0,0,0,0,1,0,2,1,2,5,0,2,1,1,0,0,0,2,0,0,1,0,0,0,0,0,1,0,0,2,0,0,0,1,0,0,0,0,1,0,0,0,0,0,0,0,2,0,1,1,1,2,0,7,0,1,1,0,0,0,0,0,1],\"p56\":8081,\"v56\":[1,0,0,0,1,0,0,0,0,0,3],\"p57\":8105,\"v57\":[1,4,0,0,0,0,0,0,0,4,1,6,0,0,0,0,0,0,0,0,2,2,3,0,0,0,0,0,0,1,0,0,0,0,0,1,1,3,0,1,2,0,0,1,0,0,1,2,0,0,1,0,1,0,0,0,1],\"p58\":8208,\"v58\":[1,0,0,0,0,0,0,5,1,0,0,0,1,0,0,1,0,2,0,0,1,0,0,2,0,3,1,1,2,0,0,8,0,0,0,0,0,0,0,0,0,1,1,0,1,1,0,0,0,0,0,0,1,0,0,0,2,0,0,0,0,0,0,0,0,4,1,0,0,1],\"p59\":8324,\"v59\":[1,5,0,0,0,0,0,0,0,0,1],\"p60\":8351,\"v60\":[2,0,0,3,0,0,0,0,0,0,0,0,1,0,3,0,0,1,4,0,0,0,4,0,2,9,0,0,0,0,0,0,1,0,0,0,0,0,0,1,0,1,1,0,0,0,1,1,1,0,0,0,0,0,1],\"p61\":8455,\"v61\":[2,0,0,0,2,0,0,0,1,0,0,0,1,0,0,0,0,0,2,0,0,0,0,0,0,2,2,0,0,1,0,0,1,0,4,0,0,1,0,0,2,0,0,1,0,0,0,0,2,2,1,2,0,0,2,0,1,0,3,0,0,0,0,1,0,3,1,0,0,0,3],\"p62\":8567,\"v62\":[1,0,0,1,0,2],\"p63\":8583,\"v63\":[2,0,2,0,0,0,4,0,0,0,0,0,0,2],\"p64\":8614,\"v64\":[1,0,1,0,1,0,0,0,0,0,2,0,2,0,0,0,0,0,0,0,0,0,2,1,2,0,0,3,0,2,0,1],\"p65\":8693,\"v65\":1,\"p66\":8704,\"v66\":[2,0,0,3,0,0,0,0,1,0,0,0,0,1,0,0,0,3,0,0,0,0,2,0,0,0,0,0,0,0,0,1,0,0,1,0,0,0,3,1,0,1,0,0,0,0,0,2,0,0,0,4,0,1,0,0,0,2,0,0,2,0,0,1,2,0,0,1],\"p67\":8817,\"v67\":[1,0,1,0,0,0,4,0,1,0,1,0,0,0,0,0,0,1,0,3,0,0,0,0,0,1,3,1,0,0,1,0,0,0,0,0,2,0,0,0,0,0,1,0,0,2,0,0,1,0,0,2,0,0,0,3,0,0,0,9,0,2,0,2,0,0,0,0,0,1,0,4,0,0,1],\"p68\":8941,\"v68\":[1,1,0,0,0,0,1,2,1,0,0,0,0,0,1,0,0,1,0,0,0,0,0,0,0,0,0,2,1,0,0,1,0,0,0,0,0,1,0,2,0,0,0,1,0,0,0,0,0,0,0,1,0,0,0,0,0,2,0,0,0,0,0,0,0,0,0,1,1,0,0,0,0,0,1],\"p69\":9066,\"v69\":[3,0,1,1,2,1,1,0,0,0,2,0,0,0,0,1,0,0,0,0,2,1,0,0,2,0,0,0,0,0,0,0,0,0,2,0,0,0,0,3,0,3,0,2,0,1,0,0,1,0,0,0,0,3,0,0,0,0,0,2,0,3,0,0,0,0,1,0,1],\"p70\":9180,\"v70\":[1,0,1,0,1,0,1,2,0,0,0,0,0,2,0,0,0,0,0,1,0,0,0,0,0,0,1,0,1,0,0,0,1,0,0,5,1,2,0,0,0,2],\"p71\":9232,\"v71\":[1,1,0,0,0,0,0,2,0,0,1,0,0,1,0,1,1,0,0,0,2],\"p72\":9301,\"v72\":[1,0,0,0,0,0,0,0,0,4,0,0,0,0,1,1,0,1,0,1,2,2,1,0,0,7,0,0,0,0,0,0,0,1,0,1,0,0,0,0,1,5,0,0,0,0,0,0,1,0,0,0,0,0,0,1,0,2,1,0,0,1,2,1,2,0,0,0,0,2,0,0,4,0,1],\"p73\":9422,\"v73\":[1,0,0,0,0,0,0,0,0,0,1,0,0,1,0,0,0,2,0,0,0,0,2,2,0,1,0,0,1,0,0,0,0,1,0,0,0,2],\"p74\":9472,\"v74\":[2,0,0,0,0,0,1,0,2,0,0,0,0,0,0,0,5,0,3,0,0,0,0,1,0,1,3,0,0,0,0,2],\"p75\":9547,\"v75\":[2,0,1,0,0,3,0,1,0,0,0,0,0,0,1,0,0,1,0,0,0,0,1,0,0,0,1,1,0,0,0,3,3,0,3,0,0,0,0,0,0,0,0,0,5,0,0,3,1,7,0,0,0,1,0,0,0,3,1,1,0,2,2,6,0,0,0,2,0,0,4,0,1,0,1],\"p76\":9664,\"v76\":[1,0,0,0,1,0,0,1,2,0,3,0,0,0,0,0,0,0,1,0,0,0,0,0,0,1,0,1,0,2,3,1,3,0,0,0,0,3,0,0,0,0,0,0,0,0,0,1,2,0,0,0,1,1,0,0,2,0,0,0,1,0,0,0,0,0,0,0,4,4,0,0,0,1,0,1,0,2],\"p77\":9793,\"v77\":[1,0,0,0,0,0,0,0,0,0,1,0,0,0,1,0,0,0,0,0,0,0,1,0,0,0,1,0,0,0,2,0,3,1],\"p78\":9841,\"v78\":[4,0,3,0,0,2,0,0,1,2,3,0,0,4,0,1,0,2,0,0,0,2],\"p79\":9923,\"v79\":[1,1,0,0,0,2,0,0,0,0,0,0,0,0,1,0,6,0,0,0,0,0,1,0,0,0,0,0,0,1,1,0,0,0,2,0,0,0,5,0,1,0,0,0,0,0,0,0,2,1,1,0,0,2,0,0,3,0,0,0,0,0,0,1,0,0,0,0,1],\"p80\":10039,\"v80\":[2,2,0,0,0,2,0,0,0,1,0,0,0,0,1,0,0,0,0,0,0,0,1,0,0,1,0,1,0,0,0,0,0,1],\"p81\":10083,\"v81\":[1,0,0,0,0,0,4,0,0,0,1,0,0,0,0,0,0,1,1,0,0,0,0,1],\"p82\":10153,\"v82\":[1,0,0,0,0,0,1,0,3,0,0,3,0,0,0,0,0,2,0,2,0,0,0,6,0,0,0,3,0,0,0,0,1,0,0,0,1,1,0,0,0,0,0,2,0,0,1,1,0,4],\"p83\":10213,\"v83\":[1,2,0,0,0,0,1,0,3,0,2,3,0,0,0,0,0,1,1,0,0,4],\"p84\":10276,\"v84\":[1,0,0,0,0,0,0,0,0,2,0,2,0,0,0,2,0,0,0,0,1,0,1,0,0,0,1,0,2,0,0,0,0,0,0,0,0,0,1,0,0,1,0,1,0,0,1,4,0,0,0,3,2,5,1,1,0,0,0,2,0,0,0,0,0,0,0,1,0,0,2,0,0,0,0,2,1],\"p85\":10400,\"v85\":[2,2,2,0,0,0,0,0,1,2,0,0,2,0,0,0,1,0,0,1,1],\"p86\":10431,\"v86\":[1,1,0,0,0,0,3,0,0,0,1,0,0,1,1,1,1,0,0,2],\"p87\":10461,\"v87\":[1,1,0,0,4,0,1,2,4,0,0,0,3,3],\"p88\":10519,\"v88\":[1,0,0,0,0,1,0,0,0,0,2,1,0,0,0,1,0,1,3,0,0,0,1,0,0,0,0,1,0,1,0,0,0,0,0,0,3,3,0,0,0,0,0,0,1,0,0,0,0,0,0,0,1,0,0,4,0,0,0,0,0,2,0,0,0,0,2,0,0,3,0,0,0,2,0,0,1,0,3],\"p89\":10643,\"v89\":[1,1,1,0,0,2,0,0,0,0,0,0,0,0,0,2,4,1,1,0,1],\"p90\":10676,\"v90\":[2,5,0,2,0,0,0,0,0,2,0,0,0,0,0,0,0,0,0,4,0,1,0,0,0,1,0,0,0,0,0,0,2,1,0,1,0,1],\"p91\":10769,\"v91\":2,\"p92\":10781,\"v92\":[1,0,0,0,0,0,0,1,0,0,0,0,3,0,0,0,0,0,2,0,0,0,0,1,0,0,1,0,0,0,1,0,0,0,4,0,1,0,0,0,0,0,0,1,0,3,0,0,1,0,3,0,3,2,0,0,0,2],\"p93\":10888,\"v93\":[10,0,0,0,1,0,0,0,0,0,0,0,0,4,0,0,0,0,0,0,0,0,1,0,0,0,0,0,0,0,2,0,0,1,1,0,0,0,0,0,0,0,0,1,0,0,0,0,2,0,0,0,0,1,1,1,0,0,1,0,0,2,0,1,1,0,0,0,0,0,1,0,1,0,0,2],\"p94\":11009,\"v94\":1,\"p95\":11022,\"v95\":[1,0,0,0,0,0,0,0,0,8,0,0,0,0,2,0,0,0,0,2,1,1,0,0,0,0,0,0,1,0,0,1,0,0,0,0,0,0,1,0,2,0,0,0,0,0,2,0,2,0,1,1],\"p96\":11085,\"v96\":2,\"p97\":11134,\"v97\":[1,0,0,1],\"p98\":11149,\"v98\":1,\"p99\":11162,\"v99\":2,\"p100\":11179,\"v100\":[1,0,0,0,0,0,0,0,0,1,0,0,2,0,1,6,0,1,0,0,7,0,0,0,4,1],\"p101\":11255,\"v101\":[1,0,0,0,1,3,0,0,0,0,0,0,0,2,0,0,0,2,0,0,0,3,0,1,1,1,0,0,1],\"p102\":11294,\"v102\":[1,0,3,0,0,0,1,0,0,0,0,0,2,2,0,0,0,0,0,0,0,1,1,0,1,0,0,0,0,0,2],\"p103\":11375,\"v103\":[1,0,0,0,0,0,0,0,0,0,1,5],\"p104\":11402,\"v104\":[1,0,0,0,0,2,0,0,0,0,0,0,1,0,2],\"p105\":11430,\"v105\":[6,0,1,1,2,0,0,0,0,5,0,0,0,2,0,0,0,0,1],\"p106\":11494,\"v106\":[1,0,0,0,0,0,0,1,0,0,0,0,0,0,0,0,0,1,0,1,1,0,1],\"p107\":11532,\"v107\":[1,0,0,0,1,0,7,1,0,1,3,0,0,1,0,0,3,2,0,0,0,0,5,0,0,1,0,0,1,0,1,0,0,0,0,0,0,0,0,1,0,0,0,0,1],\"p108\":11629,\"v108\":2,\"p109\":11644,\"v109\":[2,0,0,0,1,0,0,0,2,0,1,0,0,0,0,0,0,2],\"p110\":11672,\"v110\":[2,0,0,0,0,3,0,0,0,2,0,0,1,2,0,0,0,0,1,4],\"p111\":11741,\"v111\":[1,0,0,0,1,0,0,1],\"p112\":11762,\"v112\":1,\"p113\":11773,\"v113\":[2,1,0,1],\"p114\":11793,\"v114\":[2,0,0,0,0,0,0,1,0,0,1,2,0,1,0,0,0,0,1,0,2],\"p115\":11861,\"v115\":1,\"p116\":11876,\"v116\":[1,0,0,1,0,0,0,0,0,0,0,2,0,0,0,0,5,0,1,0,0,0,0,0,0,0,0,1,0,1,0,2,0,0,0,2,0,1,0,0,0,0,0,0,0,1,0,2,0,0,0,2,1,0,1,0,0,0,0,1,1,0,3],\"p117\":11986,\"v117\":[1,0,0,0,0,0,1,0,1],\"p118\":12006,\"v118\":[2,0,0,0,0,0,0,0,1,0,1,0,0,2,4,0,1,0,0,2,0,0,0,0,0,0,1],\"p119\":12044,\"v119\":[3,2,0,0,0,0,0,0,0,1,0,0,0,0,0,0,3],\"p120\":12111,\"v120\":[1,1,1,0,0,1,0,0,1,0,1,0,0,0,0,0,1,0,0,0,0,0,0,0,1,2,0,0,2,0,0,0,0,1,2,0,0,0,0,0,0,0,3,3,0,2,1,2,0,1,0,0,0,0,4,2,0,0,0,2,1],\"p121\":12233,\"v121\":[1,0,0,1,3,0,0,0,3,0,0,0,0,0,0,0,0,0,4,2,0,0,0,1,0,0,0,0,0,2,0,0,0,0,0,0,0,1,0,0,0,0,1,0,0,0,0,0,0,3,0,0,0,0,0,0,0,1,0,0,0,0,0,0,2,1,0,0,1,0,0,0,1],\"p122\":12356,\"v122\":[2,1,0,0,1,0,1,2,0,0,0,0,2,0,2,0,0,0,0,1,0,0,0,3,0,1,0,1,0,0,0,1,0,0,0,0,0,0,0,2,0,0,0,0,1,0,1,0,0,0,0,1,0,2,0,2,0,3,2,1,1,0,0,0,0,0,2,0,0,0,4,1],\"p123\":12477,\"v123\":[1,2,0,1,0,0,1,0,0,0,0,0,1,0,1,0,1,0,0,0,0,0,0,0,3,0,0,0,0,0,2,0,0,2],\"p124\":12522,\"v124\":[1,0,0,4,0,1,0,0,0,1,1,1,0,0,0,0,0,1,0,0,0,0,0,0,1,0,1,1],\"p125\":12594,\"v125\":[1,0,0,3,0,0,0,0,0,0,0,0,2],\"p126\":12620,\"v126\":[1,1,0,0,0,0,0,0,1,0,0,0,0,0,4,1,0,0,0,0,0,0,0,0,1,0,0,1,0,0,0,0,0,0,0,3,2,0,0,0,1,0,0,0,0,1,4,2,1],\"p127\":12715,\"v127\":[1,0,0,0,0,0,0,0,0,0,1,0,0,0,0,0,0,0,1,0,0,0,0,0,0,1,0,2,0,0,1,0,0,1,0,0,1,0,0,0,1,1,0,0,0,0,0,0,2,2,1,0,0,1,0,0,4,2,0,0,0,3,0,1,0,0,2,1,0,0,1,0,0,0,1,0,0,0,2],\"p128\":12841,\"v128\":3,\"p129\":12862,\"v129\":[2,0,0,0,0,1,0,1,1,1,1,0,0,0,0,0,0,0,0,0,1,0,0,0,0,0,0,0,2,0,0,0,0,0,0,0,0,0,1,0,0,0,0,0,1,0,0,1,0,0,3],\"p130\":12961,\"v130\":[1,0,0,1],\"p131\":12977,\"v131\":[2,0,0,1],\"p132\":12992,\"v132\":[2,0,1,0,1,0,0,0,0,0,0,0,0,1,0,2,0,0,1,0,0,0,0,0,1,0,0,0,0,0,0,1,0,3,1,2,0,0,0,0,1,2,0,1],\"p133\":13086,\"v133\":[1,0,0,3,0,0,1,0,0,0,0,0,0,0,3,0,0,0,1],\"p134\":13117,\"v134\":[1,0,0,0,0,0,1,0,0,1,0,2],\"p135\":13140,\"v135\":[1,0,0,0,0,2,0,0,0,0,0,0,0,2,1,0,0,0,1,0,2],\"p136\":13203,\"v136\":[1,0,0,0,0,0,0,0,0,1,2],\"p137\":13259,\"v137\":1,\"p138\":13279,\"v138\":1,\"p139\":13330,\"v139\":[1,0,0,0,0,0,1,1],\"p140\":13359,\"v140\":[1,0,0,0,0,0,0,0,0,2],\"p141\":13392,\"v141\":[1,0,0,0,0,0,0,2],\"p142\":13448,\"v142\":2,\"p143\":13464,\"v143\":1,\"p144\":13498,\"v144\":2,\"p145\":13510,\"v145\":2,\"p146\":13523,\"v146\":1,\"p147\":13641,\"v147\":1}},{\"_typename\":\"TPaveText\",\"fUniqueID\":0,\"fBits\":9,\"fLineColor\":1,\"fLineStyle\":1,\"fLineWidth\":1,\"fFillColor\":0,\"fFillStyle\":0,\"fX1\":-41.1959889023919,\"fY1\":61.9608059234363,\"fX2\":-18.8040110976081,\"fY2\":67.1250009108335,\"fX1NDC\":0.350720150192551,\"fY1NDC\":0.926144072629109,\"fX2NDC\":0.649279849807449,\"fY2NDC\":0.995000004768372,\"fBorderSize\":0,\"fInit\":1,\"fShadowColor\":1,\"fCornerRadius\":0,\"fOption\":\"blNDC\",\"fName\":\"title\",\"fTextAngle\":0,\"fTextSize\":0,\"fTextAlign\":22,\"fTextColor\":1,\"fTextFont\":42,\"fLabel\":\"\",\"fLongest\":34,\"fMargin\":0.05,\"fLines\":{\"_typename\":\"TList\",\"name\":\"TList\",\"arr\":[{\"_typename\":\"TLatex\",\"fUniqueID\":0,\"fBits\":0,\"fName\":\"\",\"fTitle\":\"vxy of all considered interactions\",\"fTextAngle\":0,\"fTextSize\":0,\"fTextAlign\":0,\"fTextColor\":0,\"fTextFont\":0,\"fX\":0,\"fY\":0,\"fLineColor\":1,\"fLineStyle\":1,\"fLineWidth\":2,\"fLimitFactorSize\":3,\"fOriginSize\":0.0585275441408157}],\"opt\":[\"\"]}}],\"opt\":[\"\",\"COLZ\",\"blNDC\"]},\"fExecs\":{\"_typename\":\"TList\",\"name\":\"TList\",\"arr\":[],\"opt\":[]},\"fName\":\"c1_1\",\"fTitle\":\"c1_1\",\"fNumPaletteColor\":0,\"fNextPaletteColor\":0},{\"_typename\":\"TPad\",\"fUniqueID\":0,\"fBits\":9,\"fLineColor\":1,\"fLineStyle\":1,\"fLineWidth\":1,\"fFillColor\":0,\"fFillStyle\":1001,\"fLeftMargin\":0.1,\"fRightMargin\":0.1,\"fBottomMargin\":0.1,\"fTopMargin\":0.1,\"fXfile\":2,\"fYfile\":2,\"fAfile\":1,\"fXstat\":0.99,\"fYstat\":0.99,\"fAstat\":2,\"fFrameFillColor\":0,\"fFrameLineColor\":1,\"fFrameFillStyle\":1001,\"fFrameLineStyle\":1,\"fFrameLineWidth\":1,\"fFrameBorderSize\":1,\"fFrameBorderMode\":0,\"fX1\":231.249998603016,\"fY1\":-16.9312512614765,\"fX2\":418.750001396984,\"fY2\":152.381251261476,\"fXtoAbsPixelk\":-834.271932922077,\"fXtoPixelk\":-841.231932766508,\"fXtoPixel\":3.63775994745254,\"fYtoAbsPixelk\":444.624048733997,\"fYtoPixelk\":203.904048839497,\"fYtoPixel\":-1.3381173677962,\"fUtoAbsPixelk\":6.96004984443188,\"fUtoPixelk\":5e-5,\"fUtoPixel\":682.080000311136,\"fVtoAbsPixelk\":467.2800501055,\"fVtoPixelk\":226.560000211,\"fVtoPixel\":-226.560000211,\"fAbsPixeltoXk\":229.336733312021,\"fPixeltoXk\":231.249998603016,\"fPixeltoX\":0.274894444505686,\"fAbsPixeltoYk\":332.275784945732,\"fPixeltoYk\":-16.9312512614765,\"fPixeltoY\":-0.747318601541616,\"fXlowNDC\":0.00999999977648258,\"fYlowNDC\":0.00999999977648258,\"fXUpNDC\":0.990000000223517,\"fYUpNDC\":0.490000000223517,\"fWNDC\":0.980000000447035,\"fHNDC\":0.480000000447035,\"fAbsXlowNDC\":0.00999999977648258,\"fAbsYlowNDC\":0.00999999977648258,\"fAbsWNDC\":0.980000000447035,\"fAbsHNDC\":0.480000000447035,\"fUxmin\":250,\"fUymin\":0,\"fUxmax\":400,\"fUymax\":135.45,\"fTheta\":30,\"fPhi\":30,\"fAspectRatio\":0,\"fNumber\":2,\"fTickx\":0,\"fTicky\":0,\"fLogx\":0,\"fLogy\":0,\"fLogz\":0,\"fPadPaint\":0,\"fCrosshair\":0,\"fCrosshairPos\":0,\"fBorderSize\":2,\"fBorderMode\":0,\"fModified\":false,\"fGridx\":false,\"fGridy\":false,\"fAbsCoord\":false,\"fEditable\":true,\"fFixedAspectRatio\":false,\"fPrimitives\":{\"_typename\":\"TList\",\"name\":\"TList\",\"arr\":[{\"_typename\":\"TFrame\",\"fUniqueID\":0,\"fBits\":8,\"fLineColor\":1,\"fLineStyle\":1,\"fLineWidth\":1,\"fFillColor\":0,\"fFillStyle\":1001,\"fX1\":250,\"fY1\":0,\"fX2\":400,\"fY2\":135.45,\"fBorderSize\":1,\"fBorderMode\":0},{\"_typename\":\"TH1D\",\"fUniqueID\":0,\"fBits\":8,\"fName\":\"hnu_vz\",\"fTitle\":\"vz of all considered interactions\",\"fLineColor\":602,\"fLineStyle\":1,\"fLineWidth\":1,\"fFillColor\":0,\"fFillStyle\":1001,\"fMarkerColor\":1,\"fMarkerStyle\":1,\"fMarkerSize\":1,\"fNcells\":152,\"fXaxis\":{\"_typename\":\"TAxis\",\"fUniqueID\":0,\"fBits\":0,\"fName\":\"xaxis\",\"fTitle\":\"vz[cm]\",\"fNdivisions\":510,\"fAxisColor\":1,\"fLabelColor\":1,\"fLabelFont\":42,\"fLabelOffset\":0.005,\"fLabelSize\":0.035,\"fTickLength\":0.03,\"fTitleOffset\":1,\"fTitleSize\":0.035,\"fTitleColor\":1,\"fTitleFont\":42,\"fNbins\":150,\"fXmin\":250,\"fXmax\":400,\"fXbins\":[],\"fFirst\":0,\"fLast\":0,\"fBits2\":0,\"fTimeDisplay\":false,\"fTimeFormat\":\"\",\"fLabels\":null,\"fModLabs\":null},\"fYaxis\":{\"_typename\":\"TAxis\",\"fUniqueID\":0,\"fBits\":0,\"fName\":\"yaxis\",\"fTitle\":\"\",\"fNdivisions\":510,\"fAxisColor\":1,\"fLabelColor\":1,\"fLabelFont\":42,\"fLabelOffset\":0.005,\"fLabelSize\":0.035,\"fTickLength\":0.03,\"fTitleOffset\":0,\"fTitleSize\":0.035,\"fTitleColor\":1,\"fTitleFont\":42,\"fNbins\":1,\"fXmin\":0,\"fXmax\":1,\"fXbins\":[],\"fFirst\":0,\"fLast\":0,\"fBits2\":0,\"fTimeDisplay\":false,\"fTimeFormat\":\"\",\"fLabels\":null,\"fModLabs\":null},\"fZaxis\":{\"_typename\":\"TAxis\",\"fUniqueID\":0,\"fBits\":0,\"fName\":\"zaxis\",\"fTitle\":\"\",\"fNdivisions\":510,\"fAxisColor\":1,\"fLabelColor\":1,\"fLabelFont\":42,\"fLabelOffset\":0.005,\"fLabelSize\":0.035,\"fTickLength\":0.03,\"fTitleOffset\":1,\"fTitleSize\":0.035,\"fTitleColor\":1,\"fTitleFont\":42,\"fNbins\":1,\"fXmin\":0,\"fXmax\":1,\"fXbins\":[],\"fFirst\":0,\"fLast\":0,\"fBits2\":0,\"fTimeDisplay\":false,\"fTimeFormat\":\"\",\"fLabels\":null,\"fModLabs\":null},\"fBarOffset\":0,\"fBarWidth\":1000,\"fEntries\":4034,\"fTsumw\":4034,\"fTsumw2\":4034,\"fTsumwx\":1294701.73339844,\"fTsumwx2\":416939986.028339,\"fMaximum\":-1111,\"fMinimum\":-1111,\"fNormFactor\":0,\"fContour\":[],\"fSumw2\":[],\"fOption\":\"\",\"fFunctions\":{\"_typename\":\"TList\",\"name\":\"TList\",\"arr\":[{\"_typename\":\"TPaveStats\",\"fUniqueID\":0,\"fBits\":9,\"fLineColor\":1,\"fLineStyle\":1,\"fLineWidth\":1,\"fFillColor\":0,\"fFillStyle\":1001,\"fX1\":377.500003799796,\"fY1\":114.285939202993,\"fX2\":415.000004917383,\"fY2\":141.375939001157,\"fX1NDC\":0.780000016093254,\"fY1NDC\":0.775000005960464,\"fX2NDC\":0.980000019073486,\"fY2NDC\":0.935000002384186,\"fBorderSize\":1,\"fInit\":1,\"fShadowColor\":1,\"fCornerRadius\":0,\"fOption\":\"brNDC\",\"fName\":\"stats\",\"fTextAngle\":0,\"fTextSize\":0,\"fTextAlign\":12,\"fTextColor\":1,\"fTextFont\":42,\"fLabel\":\"\",\"fLongest\":18,\"fMargin\":0.05,\"fLines\":{\"_typename\":\"TList\",\"name\":\"TList\",\"arr\":[{\"_typename\":\"TLatex\",\"fUniqueID\":0,\"fBits\":0,\"fName\":\"\",\"fTitle\":\"hnu_vz\",\"fTextAngle\":0,\"fTextSize\":0.0368,\"fTextAlign\":0,\"fTextColor\":0,\"fTextFont\":0,\"fX\":0,\"fY\":0,\"fLineColor\":1,\"fLineStyle\":1,\"fLineWidth\":2,\"fLimitFactorSize\":3,\"fOriginSize\":0.0368000008165836},{\"_typename\":\"TLatex\",\"fUniqueID\":0,\"fBits\":0,\"fName\":\"\",\"fTitle\":\"Entries = 4034   \",\"fTextAngle\":0,\"fTextSize\":0,\"fTextAlign\":0,\"fTextColor\":0,\"fTextFont\":0,\"fX\":0,\"fY\":0,\"fLineColor\":1,\"fLineStyle\":1,\"fLineWidth\":2,\"fLimitFactorSize\":3,\"fOriginSize\":0.04},{\"_typename\":\"TLatex\",\"fUniqueID\":0,\"fBits\":0,\"fName\":\"\",\"fTitle\":\"Mean  =  320.9\",\"fTextAngle\":0,\"fTextSize\":0,\"fTextAlign\":0,\"fTextColor\":0,\"fTextFont\":0,\"fX\":0,\"fY\":0,\"fLineColor\":1,\"fLineStyle\":1,\"fLineWidth\":2,\"fLimitFactorSize\":3,\"fOriginSize\":0.04},{\"_typename\":\"TLatex\",\"fUniqueID\":0,\"fBits\":0,\"fName\":\"\",\"fTitle\":\"Std Dev   =  18.69\",\"fTextAngle\":0,\"fTextSize\":0,\"fTextAlign\":0,\"fTextColor\":0,\"fTextFont\":0,\"fX\":0,\"fY\":0,\"fLineColor\":1,\"fLineStyle\":1,\"fLineWidth\":2,\"fLimitFactorSize\":3,\"fOriginSize\":0.04}],\"opt\":[\"\",\"\",\"\",\"\"]},\"fOptFit\":0,\"fOptStat\":1111,\"fFitFormat\":\"5.4g\",\"fStatFormat\":\"6.4g\",\"fParent\":{\"$ref\":27}}],\"opt\":[\"brNDC\"]},\"fBufferSize\":0,\"fBuffer\":[],\"fBinStatErrOpt\":0,\"fStatOverflows\":2,\"fArray\":{\"$arr\":\"Float64\",\"len\":152,\"p\":40,\"v\":[24,31,110,76,82,102,91,104,104,61,7,3,0,19,22,102,102,102,84,118,98,81,68,7,2,0,17,48,84,91,87,77,104,85,107,75,14,0,2,17,25,96,93,92,108,87,87,110,82,5,3,0,22,20,97,129,75,106,99,97,99,80,12,2]}},{\"_typename\":\"TPaveText\",\"fUniqueID\":0,\"fBits\":9,\"fLineColor\":1,\"fLineStyle\":1,\"fLineWidth\":1,\"fFillColor\":0,\"fFillStyle\":0,\"fX1\":297.97215829979,\"fY1\":141.670084015857,\"fX2\":352.02784170021,\"fY2\":151.534689556207,\"fX1NDC\":0.355851513080194,\"fY1NDC\":0.936737292958226,\"fX2NDC\":0.644148486919806,\"fY2NDC\":0.995000004768372,\"fBorderSize\":0,\"fInit\":1,\"fShadowColor\":1,\"fCornerRadius\":0,\"fOption\":\"blNDC\",\"fName\":\"title\",\"fTextAngle\":0,\"fTextSize\":0,\"fTextAlign\":22,\"fTextColor\":1,\"fTextFont\":42,\"fLabel\":\"\",\"fLongest\":33,\"fMargin\":0.05,\"fLines\":{\"_typename\":\"TList\",\"name\":\"TList\",\"arr\":[{\"_typename\":\"TLatex\",\"fUniqueID\":0,\"fBits\":0,\"fName\":\"\",\"fTitle\":\"vz of all considered interactions\",\"fTextAngle\":0,\"fTextSize\":0,\"fTextAlign\":0,\"fTextColor\":0,\"fTextFont\":0,\"fX\":0,\"fY\":0,\"fLineColor\":1,\"fLineStyle\":1,\"fLineWidth\":2,\"fLimitFactorSize\":3,\"fOriginSize\":0.0495233051478863}],\"opt\":[\"\"]}}],\"opt\":[\"\",\"\",\"blNDC\"]},\"fExecs\":{\"_typename\":\"TList\",\"name\":\"TList\",\"arr\":[],\"opt\":[]},\"fName\":\"c1_2\",\"fTitle\":\"c1_2\",\"fNumPaletteColor\":0,\"fNextPaletteColor\":0},{\"_typename\":\"TStyle\",\"fUniqueID\":0,\"fBits\":0,\"fName\":\"Modern\",\"fTitle\":\"Modern Style\",\"fLineColor\":1,\"fLineStyle\":1,\"fLineWidth\":1,\"fFillColor\":19,\"fFillStyle\":1001,\"fMarkerColor\":1,\"fMarkerStyle\":1,\"fMarkerSize\":1,\"fTextAngle\":0,\"fTextSize\":0.05,\"fTextAlign\":11,\"fTextColor\":1,\"fTextFont\":62,\"fXaxis\":{\"_typename\":\"TAttAxis\",\"fNdivisions\":510,\"fAxisColor\":1,\"fLabelColor\":1,\"fLabelFont\":42,\"fLabelOffset\":0.005,\"fLabelSize\":0.035,\"fTickLength\":0.03,\"fTitleOffset\":1,\"fTitleSize\":0.035,\"fTitleColor\":1,\"fTitleFont\":42},\"fYaxis\":{\"_typename\":\"TAttAxis\",\"fNdivisions\":510,\"fAxisColor\":1,\"fLabelColor\":1,\"fLabelFont\":42,\"fLabelOffset\":0.005,\"fLabelSize\":0.035,\"fTickLength\":0.03,\"fTitleOffset\":0,\"fTitleSize\":0.035,\"fTitleColor\":1,\"fTitleFont\":42},\"fZaxis\":{\"_typename\":\"TAttAxis\",\"fNdivisions\":510,\"fAxisColor\":1,\"fLabelColor\":1,\"fLabelFont\":42,\"fLabelOffset\":0.005,\"fLabelSize\":0.035,\"fTickLength\":0.03,\"fTitleOffset\":1,\"fTitleSize\":0.035,\"fTitleColor\":1,\"fTitleFont\":42},\"fBarWidth\":1,\"fBarOffset\":0,\"fColorModelPS\":0,\"fDrawBorder\":0,\"fOptLogx\":0,\"fOptLogy\":0,\"fOptLogz\":0,\"fOptDate\":0,\"fOptStat\":1111,\"fOptTitle\":1,\"fOptFile\":0,\"fOptFit\":0,\"fShowEventStatus\":0,\"fShowEditor\":0,\"fShowToolBar\":0,\"fNumberContours\":20,\"fAttDate\":{\"_typename\":\"TAttText\",\"fTextAngle\":0,\"fTextSize\":0.025,\"fTextAlign\":11,\"fTextColor\":1,\"fTextFont\":62},\"fDateX\":0.01,\"fDateY\":0.01,\"fEndErrorSize\":2,\"fErrorX\":0.5,\"fFuncColor\":2,\"fFuncStyle\":1,\"fFuncWidth\":2,\"fGridColor\":0,\"fGridStyle\":3,\"fGridWidth\":1,\"fLegendBorderSize\":1,\"fLegendFillColor\":0,\"fLegendFont\":42,\"fLegendTextSize\":0,\"fHatchesLineWidth\":1,\"fHatchesSpacing\":1,\"fFrameFillColor\":0,\"fFrameLineColor\":1,\"fFrameFillStyle\":1001,\"fFrameLineStyle\":1,\"fFrameLineWidth\":1,\"fFrameBorderSize\":1,\"fFrameBorderMode\":0,\"fHistFillColor\":0,\"fHistLineColor\":602,\"fHistFillStyle\":1001,\"fHistLineStyle\":1,\"fHistLineWidth\":1,\"fHistMinimumZero\":false,\"fHistTopMargin\":0.05,\"fCanvasPreferGL\":false,\"fCanvasColor\":0,\"fCanvasBorderSize\":2,\"fCanvasBorderMode\":0,\"fCanvasDefH\":500,\"fCanvasDefW\":700,\"fCanvasDefX\":10,\"fCanvasDefY\":10,\"fPadColor\":0,\"fPadBorderSize\":2,\"fPadBorderMode\":0,\"fPadBottomMargin\":0.1,\"fPadTopMargin\":0.1,\"fPadLeftMargin\":0.1,\"fPadRightMargin\":0.1,\"fPadGridX\":false,\"fPadGridY\":false,\"fPadTickX\":0,\"fPadTickY\":0,\"fPaperSizeX\":20,\"fPaperSizeY\":26,\"fScreenFactor\":1,\"fStatColor\":0,\"fStatTextColor\":1,\"fStatBorderSize\":1,\"fStatFont\":42,\"fStatFontSize\":0,\"fStatStyle\":1001,\"fStatFormat\":\"6.4g\",\"fStatX\":0.98,\"fStatY\":0.935,\"fStatW\":0.2,\"fStatH\":0.16,\"fStripDecimals\":true,\"fTitleAlign\":23,\"fTitleColor\":0,\"fTitleTextColor\":1,\"fTitleBorderSize\":0,\"fTitleFont\":42,\"fTitleFontSize\":0.05,\"fTitleStyle\":0,\"fTitleX\":0.5,\"fTitleY\":0.995,\"fTitleW\":0,\"fTitleH\":0,\"fLegoInnerR\":0.5,\"fLineStyles\":[\"\",\"  \",\" 12 12\",\" 4 8\",\" 12 16 4 16\",\" 20 12 4 12\",\" 20 12 4 12 4 12 4 12\",\" 20 20\",\" 20 12 4 12 4 12\",\" 80 20\",\" 80 40 4 40\",\"  \",\"  \",\"  \",\"  \",\"  \",\"  \",\"  \",\"  \",\"  \",\"  \",\"  \",\"  \",\"  \",\"  \",\"  \",\"  \",\"  \",\"  \",\"  \"],\"fHeaderPS\":\"\",\"fTitlePS\":\"\",\"fFitFormat\":\"5.4g\",\"fPaintTextFormat\":\"g\",\"fLineScalePS\":3,\"fJoinLinePS\":0,\"fCapLinePS\":0,\"fTimeOffset\":788918400,\"fImageScaling\":1}],\"opt\":[\"\",\"\",\"\"]},\"fExecs\":null,\"fName\":\"c1\",\"fTitle\":\"c1\",\"fNumPaletteColor\":0,\"fNextPaletteColor\":0,\"fDISPLAY\":\"$DISPLAY\",\"fDoubleBuffer\":0,\"fRetained\":true,\"fXsizeUser\":0,\"fYsizeUser\":0,\"fXsizeReal\":20,\"fYsizeReal\":14.28571,\"fWindowTopX\":0,\"fWindowTopY\":0,\"fWindowWidth\":0,\"fWindowHeight\":0,\"fCw\":696,\"fCh\":472,\"fCatt\":{\"_typename\":\"TAttCanvas\",\"fXBetween\":2,\"fYBetween\":2,\"fTitleFromTop\":1.2,\"fXdate\":0.2,\"fYdate\":0.3,\"fAdate\":1},\"kMoveOpaque\":true,\"kResizeOpaque\":true,\"fHighLightColor\":2,\"fBatch\":true,\"kShowEventStatus\":false,\"kAutoExec\":true,\"kMenuBar\":true});\n",
       "   Core.settings.HandleKeys = false;\n",
       "   Core.draw(\"root_plot_1656675201273\", obj, \"\");\n",
       "}\n",
       "\n",
       "function script_load_root_plot_1656675201273(src, on_error) {\n",
       "    let script = document.createElement('script');\n",
       "    script.src = src;\n",
       "    script.onload = function() { display_root_plot_1656675201273(JSROOT); };\n",
       "    script.onerror = function() { script.remove(); on_error(); };\n",
       "    document.head.appendChild(script);\n",
       "}\n",
       "\n",
       "if (typeof requirejs !== 'undefined') {\n",
       "\n",
       "    // We are in jupyter notebooks, use require.js which should be configured already\n",
       "    requirejs.config({\n",
       "       paths: { 'JSRootCore' : [ 'scripts/JSRoot.core', 'https://root.cern/js/6.1.1/scripts/JSRoot.core.min', 'https://jsroot.gsi.de/6.1.1/scripts/JSRoot.core.min' ] }\n",
       "    })(['JSRootCore'],  function(Core) {\n",
       "       display_root_plot_1656675201273(Core);\n",
       "    });\n",
       "\n",
       "} else if (typeof JSROOT !== 'undefined') {\n",
       "\n",
       "   // JSROOT already loaded, just use it\n",
       "   display_root_plot_1656675201273(JSROOT);\n",
       "\n",
       "} else {\n",
       "\n",
       "    // We are in jupyterlab without require.js, directly loading jsroot\n",
       "    // Jupyterlab might be installed in a different base_url so we need to know it.\n",
       "    try {\n",
       "        var base_url = JSON.parse(document.getElementById('jupyter-config-data').innerHTML).baseUrl;\n",
       "    } catch(_) {\n",
       "        var base_url = '/';\n",
       "    }\n",
       "\n",
       "    // Try loading a local version of requirejs and fallback to cdn if not possible.\n",
       "    script_load_root_plot_1656675201273(base_url + 'static/scripts/JSRoot.core.js', function(){\n",
       "        console.error('Fail to load JSROOT locally, please check your jupyter_notebook_config.py file');\n",
       "        script_load_root_plot_1656675201273('https://root.cern/js/6.1.1/scripts/JSRoot.core.min.js', function(){\n",
       "            document.getElementById(\"root_plot_1656675201273\").innerHTML = \"Failed to load JSROOT\";\n",
       "        });\n",
       "    });\n",
       "}\n",
       "\n",
       "</script>\n"
      ],
      "text/plain": [
       "<IPython.core.display.HTML object>"
      ]
     },
     "metadata": {},
     "output_type": "display_data"
    }
   ],
   "source": [
    "TCanvas *cnupos = new TCanvas();\n",
    "cnupos->Divide(1,2);\n",
    "cnupos->cd(1);\n",
    "hnu_vxy->Draw(\"COLZ\");\n",
    "cnupos->cd(2);\n",
    "hnu_vz->Draw();\n",
    "cnupos->Draw();"
   ]
  },
  {
   "cell_type": "code",
   "execution_count": 9,
   "id": "aae02066",
   "metadata": {
    "scrolled": false,
    "slideshow": {
     "slide_type": "subslide"
    }
   },
   "outputs": [
    {
     "data": {
      "text/html": [
       "\n",
       "\n",
       "<div id=\"root_plot_1656675201571\"\n",
       "     style=\"width: 696px; height: 472px\">\n",
       "</div>\n",
       "<script>\n",
       "\n",
       "function display_root_plot_1656675201571(Core) {\n",
       "   let obj = Core.parse({\"_typename\":\"TCanvas\",\"fUniqueID\":0,\"fBits\":3342344,\"fLineColor\":1,\"fLineStyle\":1,\"fLineWidth\":1,\"fFillColor\":0,\"fFillStyle\":1001,\"fLeftMargin\":0.1,\"fRightMargin\":0.1,\"fBottomMargin\":0.1,\"fTopMargin\":0.1,\"fXfile\":2,\"fYfile\":2,\"fAfile\":1,\"fXstat\":0.99,\"fYstat\":0.99,\"fAstat\":2,\"fFrameFillColor\":0,\"fFrameLineColor\":1,\"fFrameFillStyle\":1001,\"fFrameLineStyle\":1,\"fFrameLineWidth\":1,\"fFrameBorderSize\":1,\"fFrameBorderMode\":0,\"fX1\":-625.000046566131,\"fY1\":-3131.10023328514,\"fX2\":5625.00004656613,\"fY2\":28179.9002332851,\"fXtoAbsPixelk\":69.6000541484835,\"fXtoPixelk\":69.6000541484835,\"fXtoPixel\":0.111359998340607,\"fYtoAbsPixelk\":424.800047186661,\"fYtoPixelk\":424.800047186661,\"fYtoPixel\":-0.0150745742060826,\"fUtoAbsPixelk\":5e-5,\"fUtoPixelk\":5e-5,\"fUtoPixel\":696,\"fVtoAbsPixelk\":472.00005,\"fVtoPixelk\":472,\"fVtoPixel\":-472,\"fAbsPixeltoXk\":-625.000046566131,\"fPixeltoXk\":-625.000046566131,\"fPixeltoX\":8.97988519128199,\"fAbsPixeltoYk\":28179.9002332851,\"fPixeltoYk\":-3131.10023328514,\"fPixeltoY\":-66.336865395276,\"fXlowNDC\":0,\"fYlowNDC\":0,\"fXUpNDC\":1,\"fYUpNDC\":1,\"fWNDC\":1,\"fHNDC\":1,\"fAbsXlowNDC\":0,\"fAbsYlowNDC\":0,\"fAbsWNDC\":1,\"fAbsHNDC\":1,\"fUxmin\":0,\"fUymin\":0,\"fUxmax\":5000,\"fUymax\":25048.8,\"fTheta\":30,\"fPhi\":30,\"fAspectRatio\":0,\"fNumber\":0,\"fTickx\":0,\"fTicky\":0,\"fLogx\":0,\"fLogy\":0,\"fLogz\":0,\"fPadPaint\":0,\"fCrosshair\":0,\"fCrosshairPos\":0,\"fBorderSize\":2,\"fBorderMode\":0,\"fModified\":false,\"fGridx\":false,\"fGridy\":false,\"fAbsCoord\":false,\"fEditable\":true,\"fFixedAspectRatio\":false,\"fPrimitives\":{\"_typename\":\"TList\",\"name\":\"TList\",\"arr\":[{\"_typename\":\"TFrame\",\"fUniqueID\":0,\"fBits\":8,\"fLineColor\":1,\"fLineStyle\":1,\"fLineWidth\":1,\"fFillColor\":0,\"fFillStyle\":1001,\"fX1\":0,\"fY1\":0,\"fX2\":5000,\"fY2\":25048.8,\"fBorderSize\":1,\"fBorderMode\":0},{\"_typename\":\"TH1D\",\"fUniqueID\":0,\"fBits\":8,\"fName\":\"hdau_p\",\"fTitle\":\"Neutrino daughter momentum\",\"fLineColor\":632,\"fLineStyle\":1,\"fLineWidth\":1,\"fFillColor\":0,\"fFillStyle\":1001,\"fMarkerColor\":1,\"fMarkerStyle\":1,\"fMarkerSize\":1,\"fNcells\":52,\"fXaxis\":{\"_typename\":\"TAxis\",\"fUniqueID\":0,\"fBits\":0,\"fName\":\"xaxis\",\"fTitle\":\"P[GeV\\/c]\",\"fNdivisions\":510,\"fAxisColor\":1,\"fLabelColor\":1,\"fLabelFont\":42,\"fLabelOffset\":0.005,\"fLabelSize\":0.035,\"fTickLength\":0.03,\"fTitleOffset\":1,\"fTitleSize\":0.035,\"fTitleColor\":1,\"fTitleFont\":42,\"fNbins\":50,\"fXmin\":0,\"fXmax\":5000,\"fXbins\":[],\"fFirst\":0,\"fLast\":0,\"fBits2\":0,\"fTimeDisplay\":false,\"fTimeFormat\":\"\",\"fLabels\":null,\"fModLabs\":null},\"fYaxis\":{\"_typename\":\"TAxis\",\"fUniqueID\":0,\"fBits\":0,\"fName\":\"yaxis\",\"fTitle\":\"\",\"fNdivisions\":510,\"fAxisColor\":1,\"fLabelColor\":1,\"fLabelFont\":42,\"fLabelOffset\":0.005,\"fLabelSize\":0.035,\"fTickLength\":0.03,\"fTitleOffset\":0,\"fTitleSize\":0.035,\"fTitleColor\":1,\"fTitleFont\":42,\"fNbins\":1,\"fXmin\":0,\"fXmax\":1,\"fXbins\":[],\"fFirst\":0,\"fLast\":0,\"fBits2\":0,\"fTimeDisplay\":false,\"fTimeFormat\":\"\",\"fLabels\":null,\"fModLabs\":null},\"fZaxis\":{\"_typename\":\"TAxis\",\"fUniqueID\":0,\"fBits\":0,\"fName\":\"zaxis\",\"fTitle\":\"\",\"fNdivisions\":510,\"fAxisColor\":1,\"fLabelColor\":1,\"fLabelFont\":42,\"fLabelOffset\":0.005,\"fLabelSize\":0.035,\"fTickLength\":0.03,\"fTitleOffset\":1,\"fTitleSize\":0.035,\"fTitleColor\":1,\"fTitleFont\":42,\"fNbins\":1,\"fXmin\":0,\"fXmax\":1,\"fXbins\":[],\"fFirst\":0,\"fLast\":0,\"fBits2\":0,\"fTimeDisplay\":false,\"fTimeFormat\":\"\",\"fLabels\":null,\"fModLabs\":null},\"fBarOffset\":0,\"fBarWidth\":1000,\"fEntries\":26675,\"fTsumw\":26675,\"fTsumw2\":26675,\"fTsumwx\":1212542.0699375,\"fTsumwx2\":557021868.650425,\"fMaximum\":-1111,\"fMinimum\":-1111,\"fNormFactor\":0,\"fContour\":[],\"fSumw2\":[],\"fOption\":\"\",\"fFunctions\":{\"_typename\":\"TList\",\"name\":\"TList\",\"arr\":[{\"_typename\":\"TPaveStats\",\"fUniqueID\":0,\"fBits\":9,\"fLineColor\":1,\"fLineStyle\":1,\"fLineWidth\":1,\"fFillColor\":0,\"fFillStyle\":1001,\"fX1\":4250.00012665987,\"fY1\":21134.9253149349,\"fX2\":5500.00016391278,\"fY2\":26144.6852776093,\"fX1NDC\":0.780000016093254,\"fY1NDC\":0.775000005960464,\"fX2NDC\":0.980000019073486,\"fY2NDC\":0.935000002384186,\"fBorderSize\":1,\"fInit\":1,\"fShadowColor\":1,\"fCornerRadius\":0,\"fOption\":\"brNDC\",\"fName\":\"stats\",\"fTextAngle\":0,\"fTextSize\":0,\"fTextAlign\":12,\"fTextColor\":1,\"fTextFont\":42,\"fLabel\":\"\",\"fLongest\":18,\"fMargin\":0.05,\"fLines\":{\"_typename\":\"TList\",\"name\":\"TList\",\"arr\":[{\"_typename\":\"TLatex\",\"fUniqueID\":0,\"fBits\":0,\"fName\":\"\",\"fTitle\":\"hdau_p\",\"fTextAngle\":0,\"fTextSize\":0.0368,\"fTextAlign\":0,\"fTextColor\":0,\"fTextFont\":0,\"fX\":0,\"fY\":0,\"fLineColor\":1,\"fLineStyle\":1,\"fLineWidth\":2,\"fLimitFactorSize\":3,\"fOriginSize\":0.0368000008165836},{\"_typename\":\"TLatex\",\"fUniqueID\":0,\"fBits\":0,\"fName\":\"\",\"fTitle\":\"Entries = 26675  \",\"fTextAngle\":0,\"fTextSize\":0,\"fTextAlign\":0,\"fTextColor\":0,\"fTextFont\":0,\"fX\":0,\"fY\":0,\"fLineColor\":1,\"fLineStyle\":1,\"fLineWidth\":2,\"fLimitFactorSize\":3,\"fOriginSize\":0.04},{\"_typename\":\"TLatex\",\"fUniqueID\":0,\"fBits\":0,\"fName\":\"\",\"fTitle\":\"Mean  =  45.46\",\"fTextAngle\":0,\"fTextSize\":0,\"fTextAlign\":0,\"fTextColor\":0,\"fTextFont\":0,\"fX\":0,\"fY\":0,\"fLineColor\":1,\"fLineStyle\":1,\"fLineWidth\":2,\"fLimitFactorSize\":3,\"fOriginSize\":0.04},{\"_typename\":\"TLatex\",\"fUniqueID\":0,\"fBits\":0,\"fName\":\"\",\"fTitle\":\"Std Dev   =  137.2\",\"fTextAngle\":0,\"fTextSize\":0,\"fTextAlign\":0,\"fTextColor\":0,\"fTextFont\":0,\"fX\":0,\"fY\":0,\"fLineColor\":1,\"fLineStyle\":1,\"fLineWidth\":2,\"fLimitFactorSize\":3,\"fOriginSize\":0.04}],\"opt\":[\"\",\"\",\"\",\"\"]},\"fOptFit\":0,\"fOptStat\":1111,\"fFitFormat\":\"5.4g\",\"fStatFormat\":\"6.4g\",\"fParent\":{\"$ref\":3}}],\"opt\":[\"brNDC\"]},\"fBufferSize\":0,\"fBuffer\":[],\"fBinStatErrOpt\":0,\"fStatOverflows\":2,\"fArray\":{\"$arr\":\"Float64\",\"len\":52,\"p\":1,\"v\":[23856,1261,542,336,185,144,95,53,56,32,27,24,14,15,5,8,8,3,4,1,3,0,0,0,0,0,0,0,0,2,0,1]}},{\"_typename\":\"TH1D\",\"fUniqueID\":0,\"fBits\":8,\"fName\":\"hnu_p\",\"fTitle\":\"Neutrino momentum\",\"fLineColor\":602,\"fLineStyle\":1,\"fLineWidth\":1,\"fFillColor\":0,\"fFillStyle\":1001,\"fMarkerColor\":1,\"fMarkerStyle\":1,\"fMarkerSize\":1,\"fNcells\":52,\"fXaxis\":{\"_typename\":\"TAxis\",\"fUniqueID\":0,\"fBits\":0,\"fName\":\"xaxis\",\"fTitle\":\"P[GeV\\/c]\",\"fNdivisions\":510,\"fAxisColor\":1,\"fLabelColor\":1,\"fLabelFont\":42,\"fLabelOffset\":0.005,\"fLabelSize\":0.035,\"fTickLength\":0.03,\"fTitleOffset\":1,\"fTitleSize\":0.035,\"fTitleColor\":1,\"fTitleFont\":42,\"fNbins\":50,\"fXmin\":0,\"fXmax\":5000,\"fXbins\":[],\"fFirst\":0,\"fLast\":0,\"fBits2\":0,\"fTimeDisplay\":false,\"fTimeFormat\":\"\",\"fLabels\":null,\"fModLabs\":null},\"fYaxis\":{\"_typename\":\"TAxis\",\"fUniqueID\":0,\"fBits\":0,\"fName\":\"yaxis\",\"fTitle\":\"\",\"fNdivisions\":510,\"fAxisColor\":1,\"fLabelColor\":1,\"fLabelFont\":42,\"fLabelOffset\":0.005,\"fLabelSize\":0.035,\"fTickLength\":0.03,\"fTitleOffset\":0,\"fTitleSize\":0.035,\"fTitleColor\":1,\"fTitleFont\":42,\"fNbins\":1,\"fXmin\":0,\"fXmax\":1,\"fXbins\":[],\"fFirst\":0,\"fLast\":0,\"fBits2\":0,\"fTimeDisplay\":false,\"fTimeFormat\":\"\",\"fLabels\":null,\"fModLabs\":null},\"fZaxis\":{\"_typename\":\"TAxis\",\"fUniqueID\":0,\"fBits\":0,\"fName\":\"zaxis\",\"fTitle\":\"\",\"fNdivisions\":510,\"fAxisColor\":1,\"fLabelColor\":1,\"fLabelFont\":42,\"fLabelOffset\":0.005,\"fLabelSize\":0.035,\"fTickLength\":0.03,\"fTitleOffset\":1,\"fTitleSize\":0.035,\"fTitleColor\":1,\"fTitleFont\":42,\"fNbins\":1,\"fXmin\":0,\"fXmax\":1,\"fXbins\":[],\"fFirst\":0,\"fLast\":0,\"fBits2\":0,\"fTimeDisplay\":false,\"fTimeFormat\":\"\",\"fLabels\":null,\"fModLabs\":null},\"fBarOffset\":0,\"fBarWidth\":1000,\"fEntries\":4034,\"fTsumw\":4034,\"fTsumw2\":4034,\"fTsumwx\":1780473.28563782,\"fTsumwx2\":1501325040.13607,\"fMaximum\":-1111,\"fMinimum\":-1111,\"fNormFactor\":0,\"fContour\":[],\"fSumw2\":[],\"fOption\":\"\",\"fFunctions\":{\"_typename\":\"TList\",\"name\":\"TList\",\"arr\":[{\"_typename\":\"TPaveStats\",\"fUniqueID\":0,\"fBits\":9,\"fLineColor\":1,\"fLineStyle\":1,\"fLineWidth\":1,\"fFillColor\":0,\"fFillStyle\":1001,\"fX1\":4250.00012665987,\"fY1\":21134.9253149349,\"fX2\":5500.00016391278,\"fY2\":26144.6852776093,\"fX1NDC\":0.780000016093254,\"fY1NDC\":0.775000005960464,\"fX2NDC\":0.980000019073486,\"fY2NDC\":0.935000002384186,\"fBorderSize\":1,\"fInit\":1,\"fShadowColor\":1,\"fCornerRadius\":0,\"fOption\":\"brNDC\",\"fName\":\"stats\",\"fTextAngle\":0,\"fTextSize\":0,\"fTextAlign\":12,\"fTextColor\":1,\"fTextFont\":42,\"fLabel\":\"\",\"fLongest\":18,\"fMargin\":0.05,\"fLines\":{\"_typename\":\"TList\",\"name\":\"TList\",\"arr\":[{\"_typename\":\"TLatex\",\"fUniqueID\":0,\"fBits\":0,\"fName\":\"\",\"fTitle\":\"hnu_p\",\"fTextAngle\":0,\"fTextSize\":0.0368,\"fTextAlign\":0,\"fTextColor\":0,\"fTextFont\":0,\"fX\":0,\"fY\":0,\"fLineColor\":1,\"fLineStyle\":1,\"fLineWidth\":2,\"fLimitFactorSize\":3,\"fOriginSize\":0.0368000008165836},{\"_typename\":\"TLatex\",\"fUniqueID\":0,\"fBits\":0,\"fName\":\"\",\"fTitle\":\"Entries = 4034   \",\"fTextAngle\":0,\"fTextSize\":0,\"fTextAlign\":0,\"fTextColor\":0,\"fTextFont\":0,\"fX\":0,\"fY\":0,\"fLineColor\":1,\"fLineStyle\":1,\"fLineWidth\":2,\"fLimitFactorSize\":3,\"fOriginSize\":0.04},{\"_typename\":\"TLatex\",\"fUniqueID\":0,\"fBits\":0,\"fName\":\"\",\"fTitle\":\"Mean  =  441.4\",\"fTextAngle\":0,\"fTextSize\":0,\"fTextAlign\":0,\"fTextColor\":0,\"fTextFont\":0,\"fX\":0,\"fY\":0,\"fLineColor\":1,\"fLineStyle\":1,\"fLineWidth\":2,\"fLimitFactorSize\":3,\"fOriginSize\":0.04},{\"_typename\":\"TLatex\",\"fUniqueID\":0,\"fBits\":0,\"fName\":\"\",\"fTitle\":\"Std Dev   =  421.1\",\"fTextAngle\":0,\"fTextSize\":0,\"fTextAlign\":0,\"fTextColor\":0,\"fTextFont\":0,\"fX\":0,\"fY\":0,\"fLineColor\":1,\"fLineStyle\":1,\"fLineWidth\":2,\"fLimitFactorSize\":3,\"fOriginSize\":0.04}],\"opt\":[\"\",\"\",\"\",\"\"]},\"fOptFit\":0,\"fOptStat\":1111,\"fFitFormat\":\"5.4g\",\"fStatFormat\":\"6.4g\",\"fParent\":{\"$ref\":14}}],\"opt\":[\"brNDC\"]},\"fBufferSize\":0,\"fBuffer\":[],\"fBinStatErrOpt\":0,\"fStatOverflows\":2,\"fArray\":{\"$arr\":\"Float64\",\"len\":52,\"p\":1,\"v\":[745,671,554,402,343,303,216,163,93,120,87,65,68,39,30,38,34,13,8,17,13,5,2,0,0,0,0,0,0,0,0,2,0,0,0,2,0,0,1]}},{\"_typename\":\"TPaveText\",\"fUniqueID\":0,\"fBits\":9,\"fLineColor\":1,\"fLineStyle\":1,\"fLineWidth\":1,\"fFillColor\":0,\"fFillStyle\":0,\"fX1\":897.449688763817,\"fY1\":26112.8436568708,\"fX2\":4102.55031123618,\"fY2\":28023.3453802548,\"fX1NDC\":0.243591954022988,\"fY1NDC\":0.933983055615829,\"fX2NDC\":0.756408045977012,\"fY2NDC\":0.995000004768372,\"fBorderSize\":0,\"fInit\":1,\"fShadowColor\":1,\"fCornerRadius\":0,\"fOption\":\"blNDC\",\"fName\":\"title\",\"fTextAngle\":0,\"fTextSize\":0,\"fTextAlign\":22,\"fTextColor\":1,\"fTextFont\":42,\"fLabel\":\"\",\"fLongest\":26,\"fMargin\":0.05,\"fLines\":{\"_typename\":\"TList\",\"name\":\"TList\",\"arr\":[{\"_typename\":\"TLatex\",\"fUniqueID\":0,\"fBits\":0,\"fName\":\"\",\"fTitle\":\"Neutrino daughter momentum\",\"fTextAngle\":0,\"fTextSize\":0,\"fTextAlign\":0,\"fTextColor\":0,\"fTextFont\":0,\"fX\":0,\"fY\":0,\"fLineColor\":1,\"fLineStyle\":1,\"fLineWidth\":2,\"fLimitFactorSize\":3,\"fOriginSize\":0.0518644079566002}],\"opt\":[\"\"]}},{\"_typename\":\"TStyle\",\"fUniqueID\":0,\"fBits\":0,\"fName\":\"Modern\",\"fTitle\":\"Modern Style\",\"fLineColor\":1,\"fLineStyle\":1,\"fLineWidth\":1,\"fFillColor\":19,\"fFillStyle\":1001,\"fMarkerColor\":1,\"fMarkerStyle\":1,\"fMarkerSize\":1,\"fTextAngle\":0,\"fTextSize\":0.05,\"fTextAlign\":11,\"fTextColor\":1,\"fTextFont\":62,\"fXaxis\":{\"_typename\":\"TAttAxis\",\"fNdivisions\":510,\"fAxisColor\":1,\"fLabelColor\":1,\"fLabelFont\":42,\"fLabelOffset\":0.005,\"fLabelSize\":0.035,\"fTickLength\":0.03,\"fTitleOffset\":1,\"fTitleSize\":0.035,\"fTitleColor\":1,\"fTitleFont\":42},\"fYaxis\":{\"_typename\":\"TAttAxis\",\"fNdivisions\":510,\"fAxisColor\":1,\"fLabelColor\":1,\"fLabelFont\":42,\"fLabelOffset\":0.005,\"fLabelSize\":0.035,\"fTickLength\":0.03,\"fTitleOffset\":0,\"fTitleSize\":0.035,\"fTitleColor\":1,\"fTitleFont\":42},\"fZaxis\":{\"_typename\":\"TAttAxis\",\"fNdivisions\":510,\"fAxisColor\":1,\"fLabelColor\":1,\"fLabelFont\":42,\"fLabelOffset\":0.005,\"fLabelSize\":0.035,\"fTickLength\":0.03,\"fTitleOffset\":1,\"fTitleSize\":0.035,\"fTitleColor\":1,\"fTitleFont\":42},\"fBarWidth\":1,\"fBarOffset\":0,\"fColorModelPS\":0,\"fDrawBorder\":0,\"fOptLogx\":0,\"fOptLogy\":0,\"fOptLogz\":0,\"fOptDate\":0,\"fOptStat\":1111,\"fOptTitle\":1,\"fOptFile\":0,\"fOptFit\":0,\"fShowEventStatus\":0,\"fShowEditor\":0,\"fShowToolBar\":0,\"fNumberContours\":20,\"fAttDate\":{\"_typename\":\"TAttText\",\"fTextAngle\":0,\"fTextSize\":0.025,\"fTextAlign\":11,\"fTextColor\":1,\"fTextFont\":62},\"fDateX\":0.01,\"fDateY\":0.01,\"fEndErrorSize\":2,\"fErrorX\":0.5,\"fFuncColor\":2,\"fFuncStyle\":1,\"fFuncWidth\":2,\"fGridColor\":0,\"fGridStyle\":3,\"fGridWidth\":1,\"fLegendBorderSize\":1,\"fLegendFillColor\":0,\"fLegendFont\":42,\"fLegendTextSize\":0,\"fHatchesLineWidth\":1,\"fHatchesSpacing\":1,\"fFrameFillColor\":0,\"fFrameLineColor\":1,\"fFrameFillStyle\":1001,\"fFrameLineStyle\":1,\"fFrameLineWidth\":1,\"fFrameBorderSize\":1,\"fFrameBorderMode\":0,\"fHistFillColor\":0,\"fHistLineColor\":602,\"fHistFillStyle\":1001,\"fHistLineStyle\":1,\"fHistLineWidth\":1,\"fHistMinimumZero\":false,\"fHistTopMargin\":0.05,\"fCanvasPreferGL\":false,\"fCanvasColor\":0,\"fCanvasBorderSize\":2,\"fCanvasBorderMode\":0,\"fCanvasDefH\":500,\"fCanvasDefW\":700,\"fCanvasDefX\":10,\"fCanvasDefY\":10,\"fPadColor\":0,\"fPadBorderSize\":2,\"fPadBorderMode\":0,\"fPadBottomMargin\":0.1,\"fPadTopMargin\":0.1,\"fPadLeftMargin\":0.1,\"fPadRightMargin\":0.1,\"fPadGridX\":false,\"fPadGridY\":false,\"fPadTickX\":0,\"fPadTickY\":0,\"fPaperSizeX\":20,\"fPaperSizeY\":26,\"fScreenFactor\":1,\"fStatColor\":0,\"fStatTextColor\":1,\"fStatBorderSize\":1,\"fStatFont\":42,\"fStatFontSize\":0,\"fStatStyle\":1001,\"fStatFormat\":\"6.4g\",\"fStatX\":0.98,\"fStatY\":0.935,\"fStatW\":0.2,\"fStatH\":0.16,\"fStripDecimals\":true,\"fTitleAlign\":23,\"fTitleColor\":0,\"fTitleTextColor\":1,\"fTitleBorderSize\":0,\"fTitleFont\":42,\"fTitleFontSize\":0.05,\"fTitleStyle\":0,\"fTitleX\":0.5,\"fTitleY\":0.995,\"fTitleW\":0,\"fTitleH\":0,\"fLegoInnerR\":0.5,\"fLineStyles\":[\"\",\"  \",\" 12 12\",\" 4 8\",\" 12 16 4 16\",\" 20 12 4 12\",\" 20 12 4 12 4 12 4 12\",\" 20 20\",\" 20 12 4 12 4 12\",\" 80 20\",\" 80 40 4 40\",\"  \",\"  \",\"  \",\"  \",\"  \",\"  \",\"  \",\"  \",\"  \",\"  \",\"  \",\"  \",\"  \",\"  \",\"  \",\"  \",\"  \",\"  \",\"  \"],\"fHeaderPS\":\"\",\"fTitlePS\":\"\",\"fFitFormat\":\"5.4g\",\"fPaintTextFormat\":\"g\",\"fLineScalePS\":3,\"fJoinLinePS\":0,\"fCapLinePS\":0,\"fTimeOffset\":788918400,\"fImageScaling\":1}],\"opt\":[\"\",\"histo\",\"histo&&SAMES\",\"blNDC\",\"\"]},\"fExecs\":null,\"fName\":\"c1_n2\",\"fTitle\":\"c1_n2\",\"fNumPaletteColor\":0,\"fNextPaletteColor\":0,\"fDISPLAY\":\"$DISPLAY\",\"fDoubleBuffer\":0,\"fRetained\":true,\"fXsizeUser\":0,\"fYsizeUser\":0,\"fXsizeReal\":20,\"fYsizeReal\":14.28571,\"fWindowTopX\":0,\"fWindowTopY\":0,\"fWindowWidth\":0,\"fWindowHeight\":0,\"fCw\":696,\"fCh\":472,\"fCatt\":{\"_typename\":\"TAttCanvas\",\"fXBetween\":2,\"fYBetween\":2,\"fTitleFromTop\":1.2,\"fXdate\":0.2,\"fYdate\":0.3,\"fAdate\":1},\"kMoveOpaque\":true,\"kResizeOpaque\":true,\"fHighLightColor\":2,\"fBatch\":true,\"kShowEventStatus\":false,\"kAutoExec\":true,\"kMenuBar\":true});\n",
       "   Core.settings.HandleKeys = false;\n",
       "   Core.draw(\"root_plot_1656675201571\", obj, \"\");\n",
       "}\n",
       "\n",
       "function script_load_root_plot_1656675201571(src, on_error) {\n",
       "    let script = document.createElement('script');\n",
       "    script.src = src;\n",
       "    script.onload = function() { display_root_plot_1656675201571(JSROOT); };\n",
       "    script.onerror = function() { script.remove(); on_error(); };\n",
       "    document.head.appendChild(script);\n",
       "}\n",
       "\n",
       "if (typeof requirejs !== 'undefined') {\n",
       "\n",
       "    // We are in jupyter notebooks, use require.js which should be configured already\n",
       "    requirejs.config({\n",
       "       paths: { 'JSRootCore' : [ 'scripts/JSRoot.core', 'https://root.cern/js/6.1.1/scripts/JSRoot.core.min', 'https://jsroot.gsi.de/6.1.1/scripts/JSRoot.core.min' ] }\n",
       "    })(['JSRootCore'],  function(Core) {\n",
       "       display_root_plot_1656675201571(Core);\n",
       "    });\n",
       "\n",
       "} else if (typeof JSROOT !== 'undefined') {\n",
       "\n",
       "   // JSROOT already loaded, just use it\n",
       "   display_root_plot_1656675201571(JSROOT);\n",
       "\n",
       "} else {\n",
       "\n",
       "    // We are in jupyterlab without require.js, directly loading jsroot\n",
       "    // Jupyterlab might be installed in a different base_url so we need to know it.\n",
       "    try {\n",
       "        var base_url = JSON.parse(document.getElementById('jupyter-config-data').innerHTML).baseUrl;\n",
       "    } catch(_) {\n",
       "        var base_url = '/';\n",
       "    }\n",
       "\n",
       "    // Try loading a local version of requirejs and fallback to cdn if not possible.\n",
       "    script_load_root_plot_1656675201571(base_url + 'static/scripts/JSRoot.core.js', function(){\n",
       "        console.error('Fail to load JSROOT locally, please check your jupyter_notebook_config.py file');\n",
       "        script_load_root_plot_1656675201571('https://root.cern/js/6.1.1/scripts/JSRoot.core.min.js', function(){\n",
       "            document.getElementById(\"root_plot_1656675201571\").innerHTML = \"Failed to load JSROOT\";\n",
       "        });\n",
       "    });\n",
       "}\n",
       "\n",
       "</script>\n"
      ],
      "text/plain": [
       "<IPython.core.display.HTML object>"
      ]
     },
     "metadata": {},
     "output_type": "display_data"
    }
   ],
   "source": [
    "TCanvas *cp = new TCanvas();\n",
    "hdau_p->Draw(\"histo\");\n",
    "hdau_p->SetLineColor(kRed);\n",
    "hnu_p->Draw(\"histo&&SAMES\");\n",
    "cp->Draw();"
   ]
  }
 ],
 "metadata": {
  "celltoolbar": "Slideshow",
  "kernelspec": {
   "display_name": "ROOT C++",
   "language": "c++",
   "name": "root"
  },
  "language_info": {
   "codemirror_mode": "text/x-c++src",
   "file_extension": ".C",
   "mimetype": " text/x-c++src",
   "name": "c++"
  }
 },
 "nbformat": 4,
 "nbformat_minor": 5
}
