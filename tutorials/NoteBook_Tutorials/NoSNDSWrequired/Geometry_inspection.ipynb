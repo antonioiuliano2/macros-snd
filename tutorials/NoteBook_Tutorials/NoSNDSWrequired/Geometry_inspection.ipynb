{
 "cells": [
  {
   "cell_type": "markdown",
   "metadata": {
    "slideshow": {
     "slide_type": "slide"
    }
   },
   "source": [
    "# Inspecting geometry information\n",
    "We often would like to check the geometry of our simulation: the size of a volume or its material, for example. Information concerning the geometry is saved along the simulation output, in the `geofile`. FairShip itself provides a macro to read this file: $FAIRSHIP/macro/getGeoInformation.py. I have copied the script in this folder to run it together and load the geometry\n",
    "\n",
    "## Output of the script\n",
    "Launching it with only the -g option (requiring the geofile), will print only the information of the mother volumes, the one directly below the top volume:"
   ]
  },
  {
   "cell_type": "code",
   "execution_count": 1,
   "metadata": {
    "slideshow": {
     "slide_type": "subslide"
    }
   },
   "outputs": [
    {
     "ename": "SyntaxError",
     "evalue": "invalid syntax (<ipython-input-1-48a402be5331>, line 2)",
     "output_type": "error",
     "traceback": [
      "\u001b[0;36m  File \u001b[0;32m\"<ipython-input-1-48a402be5331>\"\u001b[0;36m, line \u001b[0;32m2\u001b[0m\n\u001b[0;31m    run getGeoInformation.py -g geofile_full.Genie-TGeant4.root\u001b[0m\n\u001b[0m                        ^\u001b[0m\n\u001b[0;31mSyntaxError\u001b[0m\u001b[0;31m:\u001b[0m invalid syntax\n"
     ]
    }
   ],
   "source": [
    "!cp $SNDSW_ROOT/macro/getGeoInformation.py ./\n",
    "run getGeoInformation.py -g geofile_full.Genie-TGeant4.root"
   ]
  },
  {
   "cell_type": "markdown",
   "metadata": {
    "slideshow": {
     "slide_type": "slide"
    }
   },
   "source": [
    "We can see the half dimensions, position and material of the volume. We can insect the daughters of a specific volume by adding the option `-v volumname -l daugtherlevel`:"
   ]
  },
  {
   "cell_type": "code",
   "execution_count": null,
   "metadata": {
    "slideshow": {
     "slide_type": "subslide"
    }
   },
   "outputs": [],
   "source": [
    "run getGeoInformation.py -g geofile_full.Genie-TGeant4.root -v Detector_0 -l 1"
   ]
  },
  {
   "cell_type": "markdown",
   "metadata": {
    "slideshow": {
     "slide_type": "slide"
    }
   },
   "source": [
    "## Accessing information about a specific volume\n",
    "Of course, finding a specific volume in this way is quite time-consuming, especially if our desired volume is many levels below the top volume. However, we can directly get our volume by his name thanks to the gGeoManager"
   ]
  },
  {
   "cell_type": "code",
   "execution_count": null,
   "metadata": {
    "slideshow": {
     "slide_type": "subslide"
    }
   },
   "outputs": [],
   "source": [
    "volTarget = fGeo.GetVolume(\"volTarget\")\n",
    "volTarget"
   ]
  },
  {
   "cell_type": "markdown",
   "metadata": {
    "slideshow": {
     "slide_type": "slide"
    }
   },
   "source": [
    "For example, let us ask the half-sizes of our shapes. Remind: different shapes have different size definitions. Vol Target is a simple box, thus we can ask its (DX,DY,DZ) half-dimensions:"
   ]
  },
  {
   "cell_type": "code",
   "execution_count": null,
   "metadata": {
    "slideshow": {
     "slide_type": "subslide"
    }
   },
   "outputs": [],
   "source": [
    "dx = volTarget.GetShape().GetDX()\n",
    "dy = volTarget.GetShape().GetDY()\n",
    "dz = volTarget.GetShape().GetDZ()\n",
    "print (\"Our target has half-dimensions: ({:.1f},{:.1f},{:.1f}) cm\".format(dx,dy,dz))"
   ]
  },
  {
   "cell_type": "markdown",
   "metadata": {
    "slideshow": {
     "slide_type": "slide"
    }
   },
   "source": [
    "Another example: often we need the Weight of a volume to predict the number of interactions in it, given the cross section. Let us ask for this quantity:"
   ]
  },
  {
   "cell_type": "code",
   "execution_count": null,
   "metadata": {
    "slideshow": {
     "slide_type": "subslide"
    }
   },
   "outputs": [],
   "source": [
    "volTarget.Weight()"
   ]
  },
  {
   "cell_type": "markdown",
   "metadata": {
    "slideshow": {
     "slide_type": "slide"
    }
   },
   "source": [
    "As you notice from the printout, the weight is not a member of the volume, which can automatically be called from the class. It is a computation, by looping on daughters and getting density, more information can be found on TGeoVolume reference: https://root.cern.ch/doc/master/classTGeoVolume.html#a4fe233342614a24c755c34edaca5bbd2, along with all the other functions you can use.\n",
    "\n",
    "For example, we can ask for shape and material properties with a nice printout:"
   ]
  },
  {
   "cell_type": "code",
   "execution_count": null,
   "metadata": {
    "slideshow": {
     "slide_type": "subslide"
    }
   },
   "outputs": [],
   "source": [
    "volTarget.InspectShape()"
   ]
  },
  {
   "cell_type": "code",
   "execution_count": null,
   "metadata": {
    "slideshow": {
     "slide_type": "subslide"
    }
   },
   "outputs": [],
   "source": [
    "volTarget.InspectMaterial()"
   ]
  }
 ],
 "metadata": {
  "celltoolbar": "Slideshow",
  "kernelspec": {
   "display_name": "Python 3",
   "language": "python",
   "name": "python3"
  },
  "language_info": {
   "codemirror_mode": {
    "name": "ipython",
    "version": 3
   },
   "file_extension": ".py",
   "mimetype": "text/x-python",
   "name": "python",
   "nbconvert_exporter": "python",
   "pygments_lexer": "ipython3",
   "version": "3.6.8"
  }
 },
 "nbformat": 4,
 "nbformat_minor": 2
}
