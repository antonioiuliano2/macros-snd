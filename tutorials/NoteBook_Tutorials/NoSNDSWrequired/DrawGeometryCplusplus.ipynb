{
 "cells": [
  {
   "cell_type": "markdown",
   "id": "479fa8bc",
   "metadata": {},
   "source": [
    "# Importing a ROOT geometry and draw a specific volume\n",
    "This is very simple, but it really saved me a lot of time. In fact we can draw a volume from our geometry without having to display the full SHiP geometry. \n",
    "\n",
    "Even if it is sometime required to see how your detector is positioned in the SHiP apparatus, what we often want is just to check our modifications to geometry. \n",
    "\n",
    "We can import the ROOT geometry, getting our detector, and drawing it."
   ]
  },
  {
   "cell_type": "markdown",
   "id": "156049d4",
   "metadata": {},
   "source": [
    "## Importing the geometry and getting the volume\n",
    "First we need to import our geometry. Luckily, gGeoManager provides us with a command to do it automatically:"
   ]
  },
  {
   "cell_type": "code",
   "execution_count": 1,
   "id": "eb739953",
   "metadata": {},
   "outputs": [
    {
     "name": "stderr",
     "output_type": "stream",
     "text": [
      "Info in <TGeoManager::Import>: Reading geometry from file: geofile_full.Genie-TGeant4.root\n",
      "Info in <TGeoManager::CloseGeometry>: Geometry loaded from file...\n",
      "Info in <TGeoManager::SetTopVolume>: Top volume is cave. Master volume is cave\n",
      "Info in <TGeoNavigator::BuildCache>: --- Maximum geometry depth set to 100\n",
      "Info in <TGeoManager::Voxelize>: Voxelizing...\n",
      "Info in <TGeoManager::CountLevels>: max level = 7, max placements = 42435\n",
      "Info in <TGeoManager::CloseGeometry>: 5097651 nodes/ 78 volume UID's in FAIR geometry\n",
      "Info in <TGeoManager::CloseGeometry>: ----------------modeler ready----------------\n"
     ]
    }
   ],
   "source": [
    "TGeoManager::Import(\"geofile_full.Genie-TGeant4.root\");"
   ]
  },
  {
   "cell_type": "markdown",
   "id": "40c54cb4",
   "metadata": {},
   "source": [
    "Then, we can get the volume we want to draw. \n",
    "\n",
    "Here we are not going to draw the whole geometry, so the SWAN kernel will not be overloaded.\n",
    "We will limit ourselves to draw the emulsion target"
   ]
  },
  {
   "cell_type": "code",
   "execution_count": 2,
   "id": "0c2e9777",
   "metadata": {},
   "outputs": [
    {
     "name": "stderr",
     "output_type": "stream",
     "text": [
      "Info in <TGeoManager::SetVisLevel>: Automatic visible depth disabled\n"
     ]
    }
   ],
   "source": [
    "gGeoManager->SetVisLevel(2)"
   ]
  },
  {
   "cell_type": "code",
   "execution_count": 3,
   "id": "01907c8b",
   "metadata": {},
   "outputs": [
    {
     "name": "stdout",
     "output_type": "stream",
     "text": [
      "(TGeoVolume *) @0x7f4c23ffda78\n"
     ]
    }
   ],
   "source": [
    "auto myvolume = gGeoManager->GetVolume(\"Brick\")"
   ]
  },
  {
   "cell_type": "code",
   "execution_count": null,
   "id": "882977b6",
   "metadata": {},
   "outputs": [],
   "source": [
    "myvolume->Draw()"
   ]
  },
  {
   "cell_type": "code",
   "execution_count": null,
   "id": "77bd95d3",
   "metadata": {},
   "outputs": [],
   "source": []
  }
 ],
 "metadata": {
  "kernelspec": {
   "display_name": "ROOT C++",
   "language": "c++",
   "name": "root"
  },
  "language_info": {
   "codemirror_mode": "text/x-c++src",
   "file_extension": ".C",
   "mimetype": " text/x-c++src",
   "name": "c++"
  }
 },
 "nbformat": 4,
 "nbformat_minor": 5
}
