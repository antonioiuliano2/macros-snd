{
 "cells": [
  {
   "cell_type": "markdown",
   "id": "13676fd6",
   "metadata": {
    "slideshow": {
     "slide_type": "slide"
    }
   },
   "source": [
    "# Reading cbmsim simulation TTree with uproot\n",
    "\n",
    "uproot https://pypi.org/project/uproot/ is a python package to provide I/O libraries for ROOT files, without the need for ROOT itself to be installed.ù\n",
    "\n",
    "Branches are converted into awkarwd arrays, which allow easy access and handling (https://awkward-array.readthedocs.io)\n",
    "\n",
    "Nota Bene: it may not be necessary to provide the interpreation manually to uproot. It is done here for safety, due to previous compatibility problems."
   ]
  },
  {
   "cell_type": "markdown",
   "id": "capable-sponsorship",
   "metadata": {
    "slideshow": {
     "slide_type": "slide"
    }
   },
   "source": [
    "## Introduction\n",
    "First, we need to install uproot, if it was not already done"
   ]
  },
  {
   "cell_type": "code",
   "execution_count": 1,
   "id": "4bcda05d",
   "metadata": {
    "slideshow": {
     "slide_type": "subslide"
    }
   },
   "outputs": [
    {
     "name": "stdout",
     "output_type": "stream",
     "text": [
      "Requirement already satisfied: uproot in /cvmfs/sft.cern.ch/lcg/views/LCG_101swan/x86_64-centos7-gcc8-opt/lib/python3.9/site-packages (4.0.1)\n",
      "Requirement already satisfied: numpy in /cvmfs/sft.cern.ch/lcg/views/LCG_101swan/x86_64-centos7-gcc8-opt/lib/python3.9/site-packages (from uproot) (1.21.1)\n"
     ]
    }
   ],
   "source": [
    "!pip install --user uproot"
   ]
  },
  {
   "cell_type": "code",
   "execution_count": 2,
   "id": "embedded-clause",
   "metadata": {
    "slideshow": {
     "slide_type": "subslide"
    }
   },
   "outputs": [],
   "source": [
    "import uproot\n",
    "import awkward #need for flatten or other operations to nested arrays\n",
    "import numpy as np\n",
    "import matplotlib.pyplot as plt #for plots"
   ]
  },
  {
   "cell_type": "markdown",
   "id": "sunset-pledge",
   "metadata": {
    "slideshow": {
     "slide_type": "slide"
    }
   },
   "source": [
    "## Opening file, retrieving TTree\n",
    "I will make an example of a muon neutrino simulation, but any cbmsim simulation from SND@LHC should work"
   ]
  },
  {
   "cell_type": "code",
   "execution_count": 4,
   "id": "growing-symbol",
   "metadata": {
    "slideshow": {
     "slide_type": "subslide"
    }
   },
   "outputs": [],
   "source": [
    "simfile = uproot.open(\"/eos/user/a/aiulian/sim_snd/numu2000events_February_2022/inECC_sndLHC.Genie-TGeant4.root\")\n",
    "simtree = simfile[\"cbmsim\"] "
   ]
  },
  {
   "cell_type": "markdown",
   "id": "fewer-edmonton",
   "metadata": {
    "slideshow": {
     "slide_type": "slide"
    }
   },
   "source": [
    "Let us write the functions to access MCTrack and FairMCPoint branches"
   ]
  },
  {
   "cell_type": "code",
   "execution_count": 5,
   "id": "adopted-modeling",
   "metadata": {
    "scrolled": true,
    "slideshow": {
     "slide_type": "subslide"
    }
   },
   "outputs": [],
   "source": [
    "def access_track_branches(simtree, prefix=\"MCTrack.f\", entry_start=0, entry_stop = -1):\n",
    " '''reading MCTracks from entry_start to lastentry'''\n",
    " if (entry_stop < 0):\n",
    "        lastentry = simtree.num_entries\n",
    " else:\n",
    "        lastentry = entry_stop\n",
    " #what branches do we want to read\n",
    " suffixes = [\"MotherId\",\"PdgCode\",\"StartX\",\"StartY\",\"StartZ\",\"Px\",\"Py\",\"Pz\"]\n",
    " branchnames = [prefix + suff for suff in suffixes]\n",
    " print(branchnames)\n",
    " #reading the branches\n",
    " tracks = simtree.arrays(branchnames,entry_start = entry_start, entry_stop = lastentry)\n",
    " #returning the produced array\n",
    " return tracks"
   ]
  },
  {
   "cell_type": "code",
   "execution_count": 6,
   "id": "inappropriate-supervision",
   "metadata": {
    "slideshow": {
     "slide_type": "subslide"
    }
   },
   "outputs": [],
   "source": [
    "def access_mcpoint_branches(simtree, prefix = \"ScifiPoint.f\", entry_start=0, entry_stop = -1 ):\n",
    " '''reading MCTracks from entry_start to lastentry'''\n",
    " if (entry_stop < 0):\n",
    "        lastentry = simtree.num_entries\n",
    " else:\n",
    "        lastentry = entry_stop   \n",
    "\n",
    " suffixes = [\"PdgCode\",\"TrackID\",\"X\",\"Y\",\"Z\",\"Px\",\"Py\",\"Pz\"]\n",
    " branchnames = [prefix + suff for suff in suffixes]\n",
    " print(branchnames)\n",
    " #reading the branches\n",
    " mcpoints = simtree.arrays(branchnames[0:2],entry_start = entry_start, entry_stop = lastentry)\n",
    " #adding float interpretation manually\n",
    " floatinterpretation = simtree[\"MCTrack.fStartX\"].interpretation\n",
    " for name in branchnames[2:]:\n",
    "  mcpoints[name] = simtree[name].array(floatinterpretation)\n",
    " #returning the produced array\n",
    " return mcpoints"
   ]
  },
  {
   "cell_type": "code",
   "execution_count": 7,
   "id": "handed-pearl",
   "metadata": {
    "slideshow": {
     "slide_type": "slide"
    }
   },
   "outputs": [
    {
     "name": "stdout",
     "output_type": "stream",
     "text": [
      "['MCTrack.fMotherId', 'MCTrack.fPdgCode', 'MCTrack.fStartX', 'MCTrack.fStartY', 'MCTrack.fStartZ', 'MCTrack.fPx', 'MCTrack.fPy', 'MCTrack.fPz']\n"
     ]
    }
   ],
   "source": [
    "tracks = access_track_branches(simtree)"
   ]
  },
  {
   "cell_type": "code",
   "execution_count": 8,
   "id": "c0a32be7",
   "metadata": {
    "slideshow": {
     "slide_type": "subslide"
    }
   },
   "outputs": [
    {
     "name": "stdout",
     "output_type": "stream",
     "text": [
      "['ScifiPoint.fPdgCode', 'ScifiPoint.fTrackID', 'ScifiPoint.fX', 'ScifiPoint.fY', 'ScifiPoint.fZ', 'ScifiPoint.fPx', 'ScifiPoint.fPy', 'ScifiPoint.fPz']\n"
     ]
    }
   ],
   "source": [
    "scifihits = access_mcpoint_branches(simtree)"
   ]
  },
  {
   "cell_type": "code",
   "execution_count": 9,
   "id": "b4cc9399",
   "metadata": {
    "slideshow": {
     "slide_type": "subslide"
    }
   },
   "outputs": [
    {
     "data": {
      "text/plain": [
       "<Array [-23.3, -23.3, -23.3, ... -22.4, -22.4] type='743 * float64'>"
      ]
     },
     "execution_count": 9,
     "metadata": {},
     "output_type": "execute_result"
    }
   ],
   "source": [
    "scifihits[\"ScifiPoint.fX\"][10]"
   ]
  },
  {
   "cell_type": "code",
   "execution_count": 10,
   "id": "370b785c",
   "metadata": {
    "slideshow": {
     "slide_type": "slide"
    }
   },
   "outputs": [],
   "source": [
    "nevents = simtree.num_entries #also equal to len(tracks) and len(scifihits)\n",
    "events = np.arange(0,nevents)"
   ]
  },
  {
   "cell_type": "markdown",
   "id": "51eb71f6",
   "metadata": {
    "slideshow": {
     "slide_type": "slide"
    }
   },
   "source": [
    "## Computing additional variables\n",
    "From these arrays, we can easily combine the branches in new ones. For example, we can compute the tri-momentum"
   ]
  },
  {
   "cell_type": "code",
   "execution_count": 11,
   "id": "d75ac02b",
   "metadata": {
    "slideshow": {
     "slide_type": "subslide"
    }
   },
   "outputs": [],
   "source": [
    "tracks['MCTrack.fP'] = np.sqrt(tracks['MCTrack.fPx'] * tracks['MCTrack.fPx'] + tracks['MCTrack.fPy'] * tracks['MCTrack.fPy'] + tracks['MCTrack.fPz'] * tracks['MCTrack.fPz'])"
   ]
  },
  {
   "cell_type": "markdown",
   "id": "cbe3d388",
   "metadata": {
    "slideshow": {
     "slide_type": "slide"
    }
   },
   "source": [
    "## Check neutrino vertex position\n",
    "First, we need to check that the neutrino interaction happened within the target position. We write a function for this check"
   ]
  },
  {
   "cell_type": "code",
   "execution_count": 12,
   "id": "least-inspiration",
   "metadata": {
    "slideshow": {
     "slide_type": "subslide"
    }
   },
   "outputs": [],
   "source": [
    "def withintarget(startx, starty):\n",
    "    targetxmin = -47.6\n",
    "    targetxmax = -8.0\n",
    "    targetymin = 15.5\n",
    "    targetymax = 55.1\n",
    "    #checking if starting positions are within target\n",
    "    x_indexes =  np.logical_and(startx < targetxmax , startx > targetxmin)\n",
    "    y_indexes =  np.logical_and(starty < targetymax , starty > targetymin)\n",
    "    #returning output\n",
    "    return np.logical_and(x_indexes, y_indexes)"
   ]
  },
  {
   "cell_type": "code",
   "execution_count": 13,
   "id": "28f9d865",
   "metadata": {
    "slideshow": {
     "slide_type": "slide"
    }
   },
   "outputs": [],
   "source": [
    "intargetevents = withintarget(tracks[\"MCTrack.fStartX\"][:,0], tracks[\"MCTrack.fStartY\"][:,0]) #remember, first track is always the neutrino"
   ]
  },
  {
   "cell_type": "code",
   "execution_count": 14,
   "id": "d0fa0b57",
   "metadata": {
    "slideshow": {
     "slide_type": "subslide"
    }
   },
   "outputs": [],
   "source": [
    "#how to apply the selection\n",
    "seltracks = tracks[intargetevents]\n",
    "selhits = scifihits[intargetevents] \n",
    "selevents = events[intargetevents] #to known the number of selected events"
   ]
  },
  {
   "cell_type": "markdown",
   "id": "6474f8f9",
   "metadata": {
    "slideshow": {
     "slide_type": "slide"
    }
   },
   "source": [
    "Let us plot for example the momentum of neutrinos within our target"
   ]
  },
  {
   "cell_type": "code",
   "execution_count": 15,
   "id": "f54d2c14",
   "metadata": {
    "slideshow": {
     "slide_type": "subslide"
    }
   },
   "outputs": [
    {
     "data": {
      "text/plain": [
       "(array([63., 42., 20., 13.,  6.,  4.,  3.,  3.,  0.,  3.]),\n",
       " array([  16.66149132,  261.26762916,  505.873767  ,  750.47990484,\n",
       "         995.08604268, 1239.69218051, 1484.29831835, 1728.90445619,\n",
       "        1973.51059403, 2218.11673187, 2462.72286971]),\n",
       " <BarContainer object of 10 artists>)"
      ]
     },
     "execution_count": 15,
     "metadata": {},
     "output_type": "execute_result"
    },
    {
     "data": {
      "image/png": "[encoded data removed]",
      "text/plain": [
       "<Figure size 432x288 with 1 Axes>"
      ]
     },
     "metadata": {
      "needs_background": "light"
     },
     "output_type": "display_data"
    }
   ],
   "source": [
    "plt.hist(seltracks[\"MCTrack.fP\"][:,0])"
   ]
  },
  {
   "cell_type": "code",
   "execution_count": null,
   "id": "7a7ca1d4",
   "metadata": {},
   "outputs": [],
   "source": []
  },
  {
   "cell_type": "code",
   "execution_count": null,
   "id": "773bc092",
   "metadata": {},
   "outputs": [],
   "source": []
  },
  {
   "cell_type": "code",
   "execution_count": null,
   "id": "78d61c40",
   "metadata": {},
   "outputs": [],
   "source": []
  }
 ],
 "metadata": {
  "celltoolbar": "Slideshow",
  "kernelspec": {
   "display_name": "Python 3",
   "language": "python",
   "name": "python3"
  },
  "language_info": {
   "codemirror_mode": {
    "name": "ipython",
    "version": 3
   },
   "file_extension": ".py",
   "mimetype": "text/x-python",
   "name": "python",
   "nbconvert_exporter": "python",
   "pygments_lexer": "ipython3",
   "version": "3.9.6"
  }
 },
 "nbformat": 4,
 "nbformat_minor": 5
}
